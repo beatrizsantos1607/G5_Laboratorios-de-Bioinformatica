{
 "cells": [
  {
   "cell_type": "markdown",
   "metadata": {},
   "source": []
  },
  {
   "cell_type": "code",
   "execution_count": null,
   "metadata": {},
   "outputs": [],
   "source": [
    "#Função para fazer download do ficheiro FASTA com as sequências dos genes\n",
    "from Bio import Entrez\n",
    "from Bio import SeqIO\n",
    "Entrez.email = 'A.N.Other@example.com'\n",
    "def download_fasta(gene_id, filename):\n",
    "    try:\n",
    "        handle = Entrez.efetch(db=\"nucleotide\", id=gene_id, rettype=\"fasta\", retmode=\"text\")\n",
    "        with open(filename, \"w\") as out_file:\n",
    "            out_file.write(handle.read())\n",
    "        handle.close()\n",
    "        print(f\"Download do FASTA do gene {gene_id} completado.\")\n",
    "    except Exception as e:\n",
    "        print(f\"Erro: {e}\")"
   ]
  },
  {
   "cell_type": "code",
   "execution_count": null,
   "metadata": {},
   "outputs": [],
   "source": [
    "from Bio.Blast import NCBIXML \n",
    "from Bio.Blast import NCBIWWW \n",
    "from Bio import SeqIO"
   ]
  },
  {
   "cell_type": "code",
   "execution_count": null,
   "metadata": {},
   "outputs": [],
   "source": [
    "record = SeqIO.read(open(\"IL13.fasta\"), format=\"fasta\") "
   ]
  }
 ],
 "metadata": {
  "language_info": {
   "name": "python"
  }
 },
 "nbformat": 4,
 "nbformat_minor": 2
}
