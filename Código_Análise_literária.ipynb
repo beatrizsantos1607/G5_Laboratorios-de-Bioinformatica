{
 "cells": [
  {
   "cell_type": "markdown",
   "metadata": {},
   "source": [
    "## 01) Análise literária: \n",
    "- Definição dos códigos para as pesquisas literárias, uso dos módulos: Bio e habanero."
   ]
  },
  {
   "cell_type": "code",
   "execution_count": 1,
   "metadata": {},
   "outputs": [
    {
     "name": "stdout",
     "output_type": "stream",
     "text": [
      "Requirement already satisfied: Bio in c:\\users\\35191\\anaconda3\\lib\\site-packages (1.6.0)\n",
      "Requirement already satisfied: biopython>=1.80 in c:\\users\\35191\\anaconda3\\lib\\site-packages (from Bio) (1.81)\n",
      "Requirement already satisfied: requests in c:\\users\\35191\\anaconda3\\lib\\site-packages (from Bio) (2.31.0)\n",
      "Requirement already satisfied: tqdm in c:\\users\\35191\\anaconda3\\lib\\site-packages (from Bio) (4.65.0)\n",
      "Requirement already satisfied: mygene in c:\\users\\35191\\anaconda3\\lib\\site-packages (from Bio) (3.2.2)\n",
      "Requirement already satisfied: pandas in c:\\users\\35191\\anaconda3\\lib\\site-packages (from Bio) (1.5.3)\n",
      "Requirement already satisfied: pooch in c:\\users\\35191\\anaconda3\\lib\\site-packages (from Bio) (1.4.0)\n",
      "Requirement already satisfied: gprofiler-official in c:\\users\\35191\\anaconda3\\lib\\site-packages (from Bio) (1.0.0)\n",
      "Requirement already satisfied: numpy in c:\\users\\35191\\anaconda3\\lib\\site-packages (from biopython>=1.80->Bio) (1.24.3)\n",
      "Requirement already satisfied: biothings-client>=0.2.6 in c:\\users\\35191\\anaconda3\\lib\\site-packages (from mygene->Bio) (0.3.1)\n",
      "Requirement already satisfied: python-dateutil>=2.8.1 in c:\\users\\35191\\anaconda3\\lib\\site-packages (from pandas->Bio) (2.8.2)\n",
      "Requirement already satisfied: pytz>=2020.1 in c:\\users\\35191\\anaconda3\\lib\\site-packages (from pandas->Bio) (2022.7)\n",
      "Requirement already satisfied: packaging in c:\\users\\35191\\anaconda3\\lib\\site-packages (from pooch->Bio) (23.0)\n",
      "Requirement already satisfied: appdirs in c:\\users\\35191\\anaconda3\\lib\\site-packages (from pooch->Bio) (1.4.4)\n",
      "Requirement already satisfied: charset-normalizer<4,>=2 in c:\\users\\35191\\anaconda3\\lib\\site-packages (from requests->Bio) (2.0.4)\n",
      "Requirement already satisfied: idna<4,>=2.5 in c:\\users\\35191\\anaconda3\\lib\\site-packages (from requests->Bio) (3.4)\n",
      "Requirement already satisfied: urllib3<3,>=1.21.1 in c:\\users\\35191\\anaconda3\\lib\\site-packages (from requests->Bio) (1.26.16)\n",
      "Requirement already satisfied: certifi>=2017.4.17 in c:\\users\\35191\\anaconda3\\lib\\site-packages (from requests->Bio) (2023.7.22)\n",
      "Requirement already satisfied: colorama in c:\\users\\35191\\anaconda3\\lib\\site-packages (from tqdm->Bio) (0.4.6)\n",
      "Requirement already satisfied: six>=1.5 in c:\\users\\35191\\anaconda3\\lib\\site-packages (from python-dateutil>=2.8.1->pandas->Bio) (1.16.0)\n",
      "Note: you may need to restart the kernel to use updated packages.\n"
     ]
    }
   ],
   "source": [
    "pip install Bio"
   ]
  },
  {
   "cell_type": "code",
   "execution_count": 2,
   "metadata": {},
   "outputs": [],
   "source": [
    "# Função que procura o termo de interesse na database de interesse:\n",
    "from Bio import Entrez\n",
    "Entrez.email = 'A.N.Other@example.com'\n",
    "def buscar_artigos(term, max_artigos):\n",
    "    \"\"\"\n",
    "    Esta função tem como input o termo de busca e como output devolve uma lista de IDs dos artigos encontrados e o nº de artigos encontrados\n",
    "    \"\"\"\n",
    "    links = Entrez.esearch(db=\"pubmed\", retmax = max_artigos, term=term)\t\n",
    "    l = Entrez.read(links)\n",
    "    ids = l.get(\"IdList\")\n",
    "    return {\"Nº de artigos encontrados\": l.get(\"Count\"), \"ID dos artigos\": ids}\n"
   ]
  },
  {
   "cell_type": "code",
   "execution_count": 3,
   "metadata": {},
   "outputs": [
    {
     "name": "stdout",
     "output_type": "stream",
     "text": [
      "Requirement already satisfied: habanero in c:\\users\\35191\\anaconda3\\lib\\site-packages (1.2.3)\n",
      "Requirement already satisfied: requests>=2.7.0 in c:\\users\\35191\\anaconda3\\lib\\site-packages (from habanero) (2.31.0)\n",
      "Requirement already satisfied: tqdm in c:\\users\\35191\\anaconda3\\lib\\site-packages (from habanero) (4.65.0)\n",
      "Requirement already satisfied: charset-normalizer<4,>=2 in c:\\users\\35191\\anaconda3\\lib\\site-packages (from requests>=2.7.0->habanero) (2.0.4)\n",
      "Requirement already satisfied: idna<4,>=2.5 in c:\\users\\35191\\anaconda3\\lib\\site-packages (from requests>=2.7.0->habanero) (3.4)\n",
      "Requirement already satisfied: urllib3<3,>=1.21.1 in c:\\users\\35191\\anaconda3\\lib\\site-packages (from requests>=2.7.0->habanero) (1.26.16)\n",
      "Requirement already satisfied: certifi>=2017.4.17 in c:\\users\\35191\\anaconda3\\lib\\site-packages (from requests>=2.7.0->habanero) (2023.7.22)\n",
      "Requirement already satisfied: colorama in c:\\users\\35191\\anaconda3\\lib\\site-packages (from tqdm->habanero) (0.4.6)\n",
      "Note: you may need to restart the kernel to use updated packages.\n"
     ]
    }
   ],
   "source": [
    "pip install habanero"
   ]
  },
  {
   "cell_type": "code",
   "execution_count": 4,
   "metadata": {},
   "outputs": [],
   "source": [
    "# Função auxiliar para determinar o URL do artigo:\n",
    "from habanero import Crossref \n",
    "def determinar_url(doi):\n",
    "  cr = Crossref()\n",
    "  article = cr.works(ids=\"10.1101/2023.11.20.567899\").get(\"message\")\n",
    "  return article['URL']"
   ]
  },
  {
   "cell_type": "code",
   "execution_count": 5,
   "metadata": {},
   "outputs": [],
   "source": [
    "# Função que retorna o título do artigo, data de publicação, nome dos autores e o URL do documento\n",
    "from Bio import Medline\n",
    "def dados_artigos(ids_art):\n",
    "    \"\"\"\n",
    "    O input é o ID do artigo de interesse e retorna o título do artigo, data de publicação, nome dos autores e o URL do documento\n",
    "    \"\"\"\n",
    "    handle = Entrez.efetch(db=\"pubmed\", id=ids_art, rettype=\"medline\", retmode=\"text\")\n",
    "    lista = Medline.parse(handle)\n",
    "\n",
    "    for r in lista:\n",
    "        print(\"------------------\")\n",
    "        print(\"Título do Artigo:\", r.get(\"TI\"))\n",
    "        print(\"Data de publicação:\", r.get(\"DP\"))\n",
    "        print(\"Autores:\", r.get(\"AU\"))\n",
    "        doi = r.get(\"LID\")\n",
    "\n",
    "        for x,y in enumerate(doi.split()):\n",
    "           if y == \"[doi]\":\n",
    "            print(\"URL:\", determinar_url(doi.split()[x-1]))\n",
    "        print(\"------------------\")"
   ]
  },
  {
   "cell_type": "markdown",
   "metadata": {},
   "source": [
    "#### *Resultados da busca literária para os genes de interesse:*\n",
    "- Genes de busca: IL13, STAT6, IL10 e TGFB1.\n",
    "- A busca foi realizada para 20 artigos para cada gene de interesse.\n",
    "\n",
    "<span style='color: red;'>Os resultados alteram a partir da data de pesquisa.</span>"
   ]
  },
  {
   "cell_type": "code",
   "execution_count": 6,
   "metadata": {},
   "outputs": [],
   "source": [
    "#Termos de pesquisa:\n",
    "terms = [\"IL13\", \"STAT6\", \"IL10\", \"TGFB1\"]"
   ]
  },
  {
   "cell_type": "code",
   "execution_count": 7,
   "metadata": {},
   "outputs": [
    {
     "name": "stdout",
     "output_type": "stream",
     "text": [
      "Pesquisa para o gene IL13 \n",
      " {'Nº de artigos encontrados': '17241', 'ID dos artigos': ['38097754', '38096593', '38096329', '38094093', '38093354', '38091065', '38088307', '38087324', '38086930', '38085145', '38082117', '38081868', '38081529', '38081297', '38078671', '38078661', '38072390', '38070212', '38061705', '38059621']} \n",
      " Pesquisa para o gene STAT6 \n",
      " {'Nº de artigos encontrados': '4303', 'ID dos artigos': ['38098120', '38095318', '38087324', '38082280', '38079450', '38070062', '38069015', '38062486', '38054829', '38044939', '38026128', '38019126', '38016347', '38010398', '37995836', '37986797', '37977069', '37976384', '37974268', '37967817']} \n",
      " Pesquisa para o gene IL10 \n",
      " {'Nº de artigos encontrados': '82490', 'ID dos artigos': ['38100544', '38100268', '38099983', '38099943', '38098283', '38098120', '38098024', '38096954', '38096775', '38096529', '38096329', '38095906', '38095633', '38094302', '38094294', '38094290', '38094132', '38094017', '38094010', '38093354']} \n",
      " Pesquisa para o gene TGFB1 \n",
      " {'Nº de artigos encontrados': '9550', 'ID dos artigos': ['38094507', '38092632', '38074633', '38070752', '38070245', '38068980', '38065378', '38059389', '38054018', '38051951', '38050412', '38048967', '38044379', '38032025', '38031074', '38017491', '38017409', '38013145', '38002057', '38001687']}\n"
     ]
    }
   ],
   "source": [
    "# Resultados das pesquisa de no máximo 20 artigos para cada termo:\n",
    "term1 = buscar_artigos(terms[0], 20)\n",
    "term2 = buscar_artigos(terms[1], 20)\n",
    "term3 = buscar_artigos(terms[2], 20)\n",
    "term4 = buscar_artigos(terms[3], 20)\n",
    "\n",
    "print(\"Pesquisa para o gene {} \\n\".format(terms[0]), term1, \"\\n\",\"Pesquisa para o gene {} \\n\".format(terms[1]),term2, \"\\n\",\"Pesquisa para o gene {} \\n\".format(terms[2]),term3, \"\\n\",\"Pesquisa para o gene {} \\n\".format(terms[3]),term4)"
   ]
  },
  {
   "cell_type": "code",
   "execution_count": null,
   "metadata": {},
   "outputs": [],
   "source": [
    "# Artigos para o gene: IL13\n",
    "dados_artigos(term1.get(\"Ids dos artigos definidos\"))"
   ]
  },
  {
   "cell_type": "code",
   "execution_count": null,
   "metadata": {},
   "outputs": [],
   "source": [
    "# Artigos para o gene: STAT6\n",
    "dados_artigos(term2.get(\"Ids dos artigos definidos\"))"
   ]
  },
  {
   "cell_type": "code",
   "execution_count": null,
   "metadata": {},
   "outputs": [],
   "source": [
    "# Artigos para o gene: IL10\n",
    "dados_artigos(term3.get(\"Ids dos artigos definidos\"))"
   ]
  },
  {
   "cell_type": "code",
   "execution_count": null,
   "metadata": {},
   "outputs": [],
   "source": [
    "# Artigos para o gene: TGFB1\n",
    "dados_artigos(term4.get(\"Ids dos artigos definidos\"))"
   ]
  },
  {
   "cell_type": "markdown",
   "metadata": {},
   "source": [
    "## 02) Análise da sequência e das features presentes no NCBI\n",
    "- Dowload dos genes e criação de documentos com as informações obtidas.\n",
    "- Os accesion dos genes:\n",
    "  - TGFB1 : NG_013364\n",
    "  - IL13  : NG_012090\n",
    "  - IL10  : NG_012088\n",
    "  - STAT6 : NG_021272"
   ]
  },
  {
   "cell_type": "code",
   "execution_count": 8,
   "metadata": {},
   "outputs": [],
   "source": [
    "# Função para o dowload do gene\n",
    "from Bio import Entrez\n",
    "from Bio import SeqIO\n",
    "Entrez.email = 'A.N.Other@example.com'\n",
    "def dowload_gene(id_gene : str, name_gene : str):\n",
    "    handle = Entrez.efetch(db=\"nucleotide\", rettype=\"gb\", retmode=\"text\",id= id_gene)\n",
    "    for seq_record in SeqIO.parse(handle, \"gb\"):\n",
    "        SeqIO.write(seq_record, \"{}.gb\".format(name_gene), \"gb\")"
   ]
  },
  {
   "cell_type": "code",
   "execution_count": null,
   "metadata": {},
   "outputs": [],
   "source": [
    "# Dowload dos genes de interesse:\n",
    "dowload_gene(\"NG_013364\", \"TGFB1\")\n",
    "dowload_gene(\"NG_012090\", \"IL13\")\n",
    "dowload_gene(\"NG_012088\", \"IL10\")\n",
    "dowload_gene(\"NG_021272\", \"STAT6\")"
   ]
  },
  {
   "cell_type": "code",
   "execution_count": 1,
   "metadata": {},
   "outputs": [],
   "source": [
    "#Função para fazer download do ficheiro FASTA com as sequências dos genes\n",
    "from Bio import Entrez\n",
    "from Bio import SeqIO\n",
    "Entrez.email = 'A.N.Other@example.com'\n",
    "def download_fasta(gene_id, filename):\n",
    "    try:\n",
    "        handle = Entrez.efetch(db=\"nucleotide\", id=gene_id, rettype=\"fasta\", retmode=\"text\")\n",
    "        with open(filename, \"w\") as out_file:\n",
    "            out_file.write(handle.read())\n",
    "        handle.close()\n",
    "        print(f\"Download do FASTA do gene {gene_id} completado.\")\n",
    "    except Exception as e:\n",
    "        print(f\"Erro: {e}\")\n"
   ]
  },
  {
   "cell_type": "code",
   "execution_count": 2,
   "metadata": {},
   "outputs": [
    {
     "name": "stdout",
     "output_type": "stream",
     "text": [
      "Download do FASTA do gene NG_012090 completado.\n"
     ]
    }
   ],
   "source": [
    "download_fasta('NG_012090', 'IL13.fasta')"
   ]
  },
  {
   "cell_type": "code",
   "execution_count": 3,
   "metadata": {},
   "outputs": [
    {
     "name": "stdout",
     "output_type": "stream",
     "text": [
      "Download do FASTA do gene NG_012088 completado.\n",
      "Download do FASTA do gene NG_021272 completado.\n",
      "Download do FASTA do gene NG_013364 completado.\n"
     ]
    }
   ],
   "source": [
    "download_fasta('NG_012088', 'IL10.fasta')\n",
    "download_fasta('NG_021272', 'STAT6.fasta')\n",
    "download_fasta('NG_013364', 'TGFB1.fasta')"
   ]
  }
 ],
 "metadata": {
  "kernelspec": {
   "display_name": "base",
   "language": "python",
   "name": "python3"
  },
  "language_info": {
   "codemirror_mode": {
    "name": "ipython",
    "version": 3
   },
   "file_extension": ".py",
   "mimetype": "text/x-python",
   "name": "python",
   "nbconvert_exporter": "python",
   "pygments_lexer": "ipython3",
   "version": "3.11.4"
  }
 },
 "nbformat": 4,
 "nbformat_minor": 2
}
