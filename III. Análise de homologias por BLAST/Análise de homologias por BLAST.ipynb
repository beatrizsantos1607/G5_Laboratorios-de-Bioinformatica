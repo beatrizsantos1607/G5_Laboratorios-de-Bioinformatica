{
 "cells": [
  {
   "cell_type": "markdown",
   "id": "67569dcf",
   "metadata": {},
   "source": [
    "# Análise de Homologias por BLAST"
   ]
  },
  {
   "cell_type": "markdown",
   "id": "86d61463",
   "metadata": {},
   "source": [
    "Com o objetivo de procurar genes homólogos aos genes de interesse e caracterizar funcionalmente os genes selecionados, recorreu-se ao BLAST (uma ferramenta de alinhamento local) para procurar sequências homólogas significativas em bases de dados, que, posteriorimente, serão utilizadas para identificar padrões consistentes ao nível da função.\n",
    "\n",
    "Através do Biopython, foi feito um BLASTp para cada proteína correspondente ao gene de interesse com posterior seleção dos 3 melhores alinhamentos, avaliados de acordo com o e-value, percent identity e coverage, tendo sido definido como threshold 0.001, 90 e 90 para os valores destes, respetivamente. \n",
    "\n",
    "Dado que os genes/proteínas de interesse são de origem humana, um dos objetivos desta análise de homologias foi verificar a que espécies pertenciam as sequências homólogas escolhidas anteriormente, excluindo da lista compostos sintéticos, para analisar uma possível conservação destas proteínas de interesse entre diferentes espécies."
   ]
  },
  {
   "cell_type": "code",
   "execution_count": 1,
   "id": "80a8326e",
   "metadata": {},
   "outputs": [],
   "source": [
    "from Bio.Blast import NCBIXML \n",
    "from Bio.Blast import NCBIWWW \n",
    "from Bio import SeqIO\n",
    "\n",
    "import re"
   ]
  },
  {
   "cell_type": "code",
   "execution_count": 2,
   "id": "0e626959",
   "metadata": {},
   "outputs": [],
   "source": [
    "def BLAST_prot (protein_name):\n",
    "    \"\"\"\n",
    "    Função que realiza o BLASTp para a proteína fornecida a a partir do ficheiro fasta desta\n",
    "    \"\"\"\n",
    "    protein = SeqIO.read(open(f'{protein_name}_protein.fasta'), format=\"fasta\") \n",
    "    result = NCBIWWW.qblast(\"blastp\", \"swissprot\", protein.seq)\n",
    "    with open(f'{protein_name}_protein.xml', \"w\") as save_file:\n",
    "        save_file.write(result.read())\n",
    "    save_file.close()\n",
    "    result.close()\n"
   ]
  },
  {
   "cell_type": "code",
   "execution_count": 3,
   "id": "940dae42",
   "metadata": {},
   "outputs": [],
   "source": [
    "BLAST_prot('IL10')"
   ]
  },
  {
   "cell_type": "code",
   "execution_count": 4,
   "id": "dea89437",
   "metadata": {},
   "outputs": [],
   "source": [
    "BLAST_prot('STAT6')"
   ]
  },
  {
   "cell_type": "code",
   "execution_count": 5,
   "id": "669b65de",
   "metadata": {},
   "outputs": [],
   "source": [
    "BLAST_prot('TGFB1')"
   ]
  },
  {
   "cell_type": "code",
   "execution_count": 6,
   "id": "4ddd4bc7",
   "metadata": {},
   "outputs": [],
   "source": [
    "BLAST_prot('IL13')"
   ]
  },
  {
   "cell_type": "code",
   "execution_count": 7,
   "id": "91a42b1e",
   "metadata": {},
   "outputs": [],
   "source": [
    "def first_alignment (protein_name):\n",
    "    result_handle = open(f'{protein_name}_protein.xml')\n",
    "    blast_record = NCBIXML.read(result_handle)\n",
    "\n",
    "    first = blast_record.alignments[0]\n",
    "    print(\"FIRST ALIGNMENT: \", \"\\nAcession:\" + first.accession, \"\\nHit id:\" + first.hit_id)\n",
    "    print(\"Definition: \" + first.hit_def, \"\\nAlignment lenght: \" , first.length, \"\\nNumber of HPSs: \" , len(first.hsps))\n",
    "    result_handle.close()"
   ]
  },
  {
   "cell_type": "code",
   "execution_count": 9,
   "id": "75235449",
   "metadata": {},
   "outputs": [],
   "source": [
    "def fliter_blast(protein_name, e_value_threshold, percent_identity_threshold, coverage_threshold):\n",
    "    \"\"\" \n",
    "    Função para filtrar os melhores alinhamentos com base no e-value, percent identity e coverage\n",
    "    Output: Nº de hits do blast, informação sobre os 3 melhores alinhamentos e especificação das espécies a que as 3 proteínas homologas pertencem\n",
    "    \"\"\"\n",
    "    result_handle = open(f'{protein_name}_protein.xml')\n",
    "    blast_record = NCBIXML.read(result_handle)\n",
    "    \n",
    "    print(\"PARAMETERS: \\nDatabase: \", blast_record.database)\n",
    "    print(\"Matriz: \" + blast_record.matrix)\n",
    "    print(\"Gap penalties: \" , blast_record.gap_penalties)\n",
    "    print('\\nHits: ', len(blast_record.alignments))\n",
    "    \n",
    "    top_alignments = []\n",
    "    for alignment in blast_record.alignments:\n",
    "        if 'synthetic construct' not in alignment.title.lower():\n",
    "            alignment_info = {\n",
    "                'title': alignment.title,\n",
    "                'length': alignment.length,\n",
    "                'e_value': float('inf'),\n",
    "                'percent_identity': 0.0,\n",
    "                'coverage': 0.0,\n",
    "                'query': '',\n",
    "                'match': '',\n",
    "                'sbjct': ''       }\n",
    "            for hsp in alignment.hsps:\n",
    "                if hsp.expect < alignment_info['e_value'] and \\\n",
    "                 (hsp.identities / hsp.align_length) * 100 >= percent_identity_threshold and \\\n",
    "                 (hsp.align_length / alignment.length) * 100 >= coverage_threshold:\n",
    "\n",
    "                    alignment_info['e_value'] = hsp.expect\n",
    "                    alignment_info['percent_identity'] = (hsp.identities / hsp.align_length) * 100\n",
    "                    alignment_info['coverage'] = (hsp.align_length / alignment.length) * 100\n",
    "                    alignment_info['query'] = hsp.query[0:75] + '...'\n",
    "                    alignment_info['match'] = hsp.match[0:75] + '...'\n",
    "                    alignment_info['sbjct'] = hsp.sbjct[0:75] + '...'\n",
    "\n",
    "            if alignment_info['e_value'] < e_value_threshold:\n",
    "                top_alignments.append(alignment_info)\n",
    "                if alignment_info['coverage'] < coverage_threshold:\n",
    "                    top_alignments.append(alignment_info)\n",
    "                    if alignment_info['percent_identity'] < percent_identity_threshold:\n",
    "                        top_alignments.append(alignment_info)\n",
    "    for i, alignment_info in enumerate(top_alignments[:4]):\n",
    "        print(f'****Alignment {i+1}****')\n",
    "        print('Sequence: ', alignment_info['title'])\n",
    "        print('Length: ', alignment_info['length'])\n",
    "        print('E-value: ', alignment_info['e_value'])\n",
    "        print('Percent identity: {:.2f}%'.format(alignment_info['percent_identity']))\n",
    "        print('Coverage: {:.2f}%'.format(alignment_info['coverage']))\n",
    "        print(alignment_info['query'])\n",
    "        print(alignment_info['match'])\n",
    "        print(alignment_info['sbjct'], '\\n')\n",
    "\n",
    "        species_list = []\n",
    "\n",
    "    for alignment_info in top_alignments[:4]:\n",
    "        title = alignment_info['title']\n",
    "        match = re.search(r\"\\[(.*?)\\]\", title)\n",
    "        if match:\n",
    "            species = match.group(1)\n",
    "            species_list.append(species)\n",
    "    print(\"\\nOrganisms:\")\n",
    "    for species in species_list:\n",
    "        print(species)\n",
    "        \n",
    "    result_handle.close()\n",
    "    "
   ]
  },
  {
   "cell_type": "markdown",
   "id": "619e37f5",
   "metadata": {},
   "source": [
    "## IL10"
   ]
  },
  {
   "cell_type": "code",
   "execution_count": 10,
   "id": "8da323d8",
   "metadata": {},
   "outputs": [
    {
     "name": "stdout",
     "output_type": "stream",
     "text": [
      "FIRST ALIGNMENT:  \n",
      "Acession:P22301 \n",
      "Hit id:sp|P22301.1|\n",
      "Definition: RecName: Full=Interleukin-10; Short=IL-10; AltName: Full=Cytokine synthesis inhibitory factor; Short=CSIF; Flags: Precursor [Homo sapiens] \n",
      "Alignment lenght:  178 \n",
      "Number of HPSs:  1\n"
     ]
    }
   ],
   "source": [
    "first_alignment('IL10')"
   ]
  },
  {
   "cell_type": "markdown",
   "id": "aec5554f",
   "metadata": {},
   "source": [
    "Após o BLASTp da proteína humana IL10, a primeira proteína da lista de sequências possivelmente homólogas é, como esperado, a proteína IL10 em Homo Sapiens."
   ]
  },
  {
   "cell_type": "code",
   "execution_count": 11,
   "id": "77981981",
   "metadata": {},
   "outputs": [
    {
     "name": "stdout",
     "output_type": "stream",
     "text": [
      "PARAMETERS: \n",
      "Database:  swissprot\n",
      "Matriz: BLOSUM62\n",
      "Gap penalties:  (11, 1)\n",
      "\n",
      "Hits:  30\n",
      "****Alignment 1****\n",
      "Sequence:  sp|P22301.1| RecName: Full=Interleukin-10; Short=IL-10; AltName: Full=Cytokine synthesis inhibitory factor; Short=CSIF; Flags: Precursor [Homo sapiens]\n",
      "Length:  178\n",
      "E-value:  1.99301e-132\n",
      "Percent identity: 100.00%\n",
      "Coverage: 100.00%\n",
      "MHSSALLCCLVLLTGVRASPGQGTQSENSCTHFPGNLPNMLRDLRDAFSRVKTFFQMKDQLDNLLLKESLLEDFK...\n",
      "MHSSALLCCLVLLTGVRASPGQGTQSENSCTHFPGNLPNMLRDLRDAFSRVKTFFQMKDQLDNLLLKESLLEDFK...\n",
      "MHSSALLCCLVLLTGVRASPGQGTQSENSCTHFPGNLPNMLRDLRDAFSRVKTFFQMKDQLDNLLLKESLLEDFK... \n",
      "\n",
      "****Alignment 2****\n",
      "Sequence:  sp|A2T6Z6.1| RecName: Full=Interleukin-10; Short=IL-10; AltName: Full=Cytokine synthesis inhibitory factor; Short=CSIF; Flags: Precursor [Pan troglodytes]\n",
      "Length:  178\n",
      "E-value:  3.61267e-131\n",
      "Percent identity: 98.88%\n",
      "Coverage: 100.00%\n",
      "MHSSALLCCLVLLTGVRASPGQGTQSENSCTHFPGNLPNMLRDLRDAFSRVKTFFQMKDQLDNLLLKESLLEDFK...\n",
      "MHSSALLCCLVLLTGVRASPGQGTQSENSCTHFPGNLPNMLRDLRDAFSRVKTFFQMKDQLDNLLLKESLLEDFK...\n",
      "MHSSALLCCLVLLTGVRASPGQGTQSENSCTHFPGNLPNMLRDLRDAFSRVKTFFQMKDQLDNLLLKESLLEDFK... \n",
      "\n",
      "****Alignment 3****\n",
      "Sequence:  sp|P79338.1| RecName: Full=Interleukin-10; Short=IL-10; AltName: Full=Cytokine synthesis inhibitory factor; Short=CSIF; Flags: Precursor [Macaca fascicularis]\n",
      "Length:  178\n",
      "E-value:  8.64972e-128\n",
      "Percent identity: 96.07%\n",
      "Coverage: 100.00%\n",
      "MHSSALLCCLVLLTGVRASPGQGTQSENSCTHFPGNLPNMLRDLRDAFSRVKTFFQMKDQLDNLLLKESLLEDFK...\n",
      "MHSSALLCCLVLLTGVRASPGQGTQSENSCT FPGNLP+MLRDLRDAFSRVKTFFQMKDQLDN+LLKESLLEDFK...\n",
      "MHSSALLCCLVLLTGVRASPGQGTQSENSCTRFPGNLPHMLRDLRDAFSRVKTFFQMKDQLDNILLKESLLEDFK... \n",
      "\n",
      "****Alignment 4****\n",
      "Sequence:  sp|P51496.1| RecName: Full=Interleukin-10; Short=IL-10; AltName: Full=Cytokine synthesis inhibitory factor; Short=CSIF; Flags: Precursor [Macaca mulatta]\n",
      "Length:  178\n",
      "E-value:  5.00661e-127\n",
      "Percent identity: 95.51%\n",
      "Coverage: 100.00%\n",
      "MHSSALLCCLVLLTGVRASPGQGTQSENSCTHFPGNLPNMLRDLRDAFSRVKTFFQMKDQLDNLLLKESLLEDFK...\n",
      "MHSSALLCCLVLLTGVRASPGQGTQSENSCT FPGNLP+MLRDLRDAFSRVKTFFQMKDQLDN+LLKESLLEDFK...\n",
      "MHSSALLCCLVLLTGVRASPGQGTQSENSCTRFPGNLPHMLRDLRDAFSRVKTFFQMKDQLDNILLKESLLEDFK... \n",
      "\n",
      "\n",
      "Organisms:\n",
      "Homo sapiens\n",
      "Pan troglodytes\n",
      "Macaca fascicularis\n",
      "Macaca mulatta\n"
     ]
    }
   ],
   "source": [
    "e_value_threshold = 0.001\n",
    "percent_identity_threshold = 90\n",
    "coverage_threshold = 90 \n",
    "fliter_blast('IL10', e_value_threshold, percent_identity_threshold, coverage_threshold)"
   ]
  },
  {
   "cell_type": "markdown",
   "id": "722ca613",
   "metadata": {},
   "source": [
    "Após a filtragem dos resultados do BLASTp, como esperado, o 1º alinhamento continua a corresponder à sequência da proteína IL10 em Homo Sapiens. Os restantes três alinhamentos correspondem à proteína IL10 encontrada em Pan troglodytes (chimpanzé), Macaca fascicularis (Macaco cinomolgos) e Macaca mulatta (macaco-rhesus), sugerindo uma grande conservação da proteína dado à homologia encontrada em espécies relacionadas como é o caso destas."
   ]
  },
  {
   "cell_type": "markdown",
   "id": "31abdbec",
   "metadata": {},
   "source": [
    "## STAT6"
   ]
  },
  {
   "cell_type": "code",
   "execution_count": 14,
   "id": "78cf5d88",
   "metadata": {},
   "outputs": [
    {
     "name": "stdout",
     "output_type": "stream",
     "text": [
      "FIRST ALIGNMENT:  \n",
      "Acession:P42226 \n",
      "Hit id:sp|P42226.1|\n",
      "Definition: RecName: Full=Signal transducer and activator of transcription 6; AltName: Full=IL-4 Stat [Homo sapiens] \n",
      "Alignment lenght:  847 \n",
      "Number of HPSs:  1\n"
     ]
    }
   ],
   "source": [
    "first_alignment('STAT6')"
   ]
  },
  {
   "cell_type": "code",
   "execution_count": 15,
   "id": "2bfc0242",
   "metadata": {},
   "outputs": [
    {
     "name": "stdout",
     "output_type": "stream",
     "text": [
      "PARAMETERS: \n",
      "Database:  swissprot\n",
      "Matriz: BLOSUM62\n",
      "Gap penalties:  (11, 1)\n",
      "\n",
      "Hits:  40\n",
      "****Alignment 1****\n",
      "Sequence:  sp|P42226.1| RecName: Full=Signal transducer and activator of transcription 6; AltName: Full=IL-4 Stat [Homo sapiens]\n",
      "Length:  847\n",
      "E-value:  0.0\n",
      "Percent identity: 100.00%\n",
      "Coverage: 100.00%\n",
      "MSLWGLVSKMPPEKVQRLYVDFPQHLRHLLGDWLESQPWEFLVGSDAFCCNLASALLSDTVQHLQASVGEQGEGS...\n",
      "MSLWGLVSKMPPEKVQRLYVDFPQHLRHLLGDWLESQPWEFLVGSDAFCCNLASALLSDTVQHLQASVGEQGEGS...\n",
      "MSLWGLVSKMPPEKVQRLYVDFPQHLRHLLGDWLESQPWEFLVGSDAFCCNLASALLSDTVQHLQASVGEQGEGS... \n",
      "\n",
      "\n",
      "Organisms:\n",
      "Homo sapiens\n"
     ]
    }
   ],
   "source": [
    "fliter_blast('STAT6', e_value_threshold, percent_identity_threshold, coverage_threshold)"
   ]
  },
  {
   "cell_type": "code",
   "execution_count": 16,
   "id": "e12213ea",
   "metadata": {},
   "outputs": [
    {
     "name": "stdout",
     "output_type": "stream",
     "text": [
      "PARAMETERS: \n",
      "Database:  swissprot\n",
      "Matriz: BLOSUM62\n",
      "Gap penalties:  (11, 1)\n",
      "\n",
      "Hits:  40\n",
      "****Alignment 1****\n",
      "Sequence:  sp|P42226.1| RecName: Full=Signal transducer and activator of transcription 6; AltName: Full=IL-4 Stat [Homo sapiens]\n",
      "Length:  847\n",
      "E-value:  0.0\n",
      "Percent identity: 100.00%\n",
      "Coverage: 100.00%\n",
      "MSLWGLVSKMPPEKVQRLYVDFPQHLRHLLGDWLESQPWEFLVGSDAFCCNLASALLSDTVQHLQASVGEQGEGS...\n",
      "MSLWGLVSKMPPEKVQRLYVDFPQHLRHLLGDWLESQPWEFLVGSDAFCCNLASALLSDTVQHLQASVGEQGEGS...\n",
      "MSLWGLVSKMPPEKVQRLYVDFPQHLRHLLGDWLESQPWEFLVGSDAFCCNLASALLSDTVQHLQASVGEQGEGS... \n",
      "\n",
      "****Alignment 2****\n",
      "Sequence:  sp|P52633.2| RecName: Full=Signal transducer and transcription activator 6 [Mus musculus]\n",
      "Length:  837\n",
      "E-value:  0.0\n",
      "Percent identity: 85.60%\n",
      "Coverage: 101.19%\n",
      "MSLWGLVSKMPPEKVQRLYVDFPQHLRHLLGDWLESQPWEFLVGSDAFCCNLASALLSDTVQHLQASVGEQGEGS...\n",
      "MSLWGL+SKM PEK+QRLYVDFPQ LRHLL DWLESQPWEFLVGSDAFC N+ASALLS TVQ LQA+ GEQG+G+...\n",
      "MSLWGLISKMSPEKLQRLYVDFPQRLRHLLADWLESQPWEFLVGSDAFCYNMASALLSATVQRLQATAGEQGKGN... \n",
      "\n",
      "\n",
      "Organisms:\n",
      "Homo sapiens\n",
      "Mus musculus\n"
     ]
    }
   ],
   "source": [
    "fliter_blast('STAT6', e_value_threshold, 80, 80)"
   ]
  },
  {
   "cell_type": "markdown",
   "id": "c78cd5a8",
   "metadata": {},
   "source": [
    "Após a filtragem dos resultados do BLASTp, como esperado, o 1º resultado corresponde à sequência da proteína STAT6 em Homo Sapiens. Porém, mantendo os valores threshold de e-value, percent identity e coverage definidos para as outras proteínas, não é possível encontrar mais nenhuma homologia, o que indica que não há uma homologia/semelhança tão grande como nas outras proteínas de interesse. Se reduzirmos os thresholds de percentage identity e coverage para 80, é identificada uma sequência homóloga em Mus musculus, sugerindo que não há uma grande conservação da STAT6 em diferentes espécies."
   ]
  },
  {
   "cell_type": "markdown",
   "id": "ede7ea58",
   "metadata": {},
   "source": [
    "## IL13"
   ]
  },
  {
   "cell_type": "code",
   "execution_count": 17,
   "id": "f2067341",
   "metadata": {},
   "outputs": [
    {
     "name": "stdout",
     "output_type": "stream",
     "text": [
      "FIRST ALIGNMENT:  \n",
      "Acession:P35225 \n",
      "Hit id:sp|P35225.2|\n",
      "Definition: RecName: Full=Interleukin-13; Short=IL-13; Flags: Precursor [Homo sapiens] \n",
      "Alignment lenght:  146 \n",
      "Number of HPSs:  1\n"
     ]
    }
   ],
   "source": [
    "first_alignment('IL13')"
   ]
  },
  {
   "cell_type": "code",
   "execution_count": 18,
   "id": "74cd0987",
   "metadata": {},
   "outputs": [
    {
     "name": "stdout",
     "output_type": "stream",
     "text": [
      "PARAMETERS: \n",
      "Database:  swissprot\n",
      "Matriz: BLOSUM62\n",
      "Gap penalties:  (11, 1)\n",
      "\n",
      "Hits:  10\n",
      "****Alignment 1****\n",
      "Sequence:  sp|P35225.2| RecName: Full=Interleukin-13; Short=IL-13; Flags: Precursor [Homo sapiens]\n",
      "Length:  146\n",
      "E-value:  8.68875e-104\n",
      "Percent identity: 99.32%\n",
      "Coverage: 100.00%\n",
      "MHPLLNPLLLALGLMALLLTTVIALTCLGGFASPGPVPPSTALRELIEELVNITQNQKAPLCNGSMVWSINLTAG...\n",
      "MHPLLNPLLLALGLMALLLTTVIALTCLGGFASPGPVPPSTALRELIEELVNITQNQKAPLCNGSMVWSINLTAG...\n",
      "MHPLLNPLLLALGLMALLLTTVIALTCLGGFASPGPVPPSTALRELIEELVNITQNQKAPLCNGSMVWSINLTAG... \n",
      "\n",
      "****Alignment 2****\n",
      "Sequence:  sp|P61126.1| RecName: Full=Interleukin-13; Short=IL-13; Flags: Precursor [Pan troglodytes]\n",
      "Length:  132\n",
      "E-value:  3.16043e-93\n",
      "Percent identity: 98.48%\n",
      "Coverage: 100.00%\n",
      "MALLLTTVIALTCLGGFASPGPVPPSTALRELIEELVNITQNQKAPLCNGSMVWSINLTAGMYCAALESLINVSG...\n",
      "MALLLTTVIALTCLGGFASPGPVPPSTALRELIEELVNITQNQKAPLCNGSMVWSINLTAG+YCAALESLINVSG...\n",
      "MALLLTTVIALTCLGGFASPGPVPPSTALRELIEELVNITQNQKAPLCNGSMVWSINLTAGVYCAALESLINVSG... \n",
      "\n",
      "****Alignment 3****\n",
      "Sequence:  sp|Q5I6E4.1| RecName: Full=Interleukin-13; Short=IL-13; Flags: Precursor [Macaca thibetana]\n",
      "Length:  132\n",
      "E-value:  5.44326e-90\n",
      "Percent identity: 95.45%\n",
      "Coverage: 100.00%\n",
      "MALLLTTVIALTCLGGFASPGPVPPSTALRELIEELVNITQNQKAPLCNGSMVWSINLTAGMYCAALESLINVSG...\n",
      "MALLLT VIALTCLGGFASP PVPPSTAL+ELIEELVNITQNQKAPLCNGSMVWSINLTAG+YCAALESLINVSG...\n",
      "MALLLTMVIALTCLGGFASPSPVPPSTALKELIEELVNITQNQKAPLCNGSMVWSINLTAGVYCAALESLINVSG... \n",
      "\n",
      "****Alignment 4****\n",
      "Sequence:  sp|Q864V6.1| RecName: Full=Interleukin-13; Short=IL-13; Flags: Precursor [Macaca mulatta]\n",
      "Length:  132\n",
      "E-value:  1.12506e-88\n",
      "Percent identity: 93.94%\n",
      "Coverage: 100.00%\n",
      "MALLLTTVIALTCLGGFASPGPVPPSTALRELIEELVNITQNQKAPLCNGSMVWSINLTAGMYCAALESLINVSG...\n",
      "MALLLTTVIALTCLGGFASP PVP STAL+ELIEELVNITQNQKAPLCNGSMVWSINLTAG+YCAALESLINVSG...\n",
      "MALLLTTVIALTCLGGFASPSPVPRSTALKELIEELVNITQNQKAPLCNGSMVWSINLTAGVYCAALESLINVSG... \n",
      "\n",
      "\n",
      "Organisms:\n",
      "Homo sapiens\n",
      "Pan troglodytes\n",
      "Macaca thibetana\n",
      "Macaca mulatta\n"
     ]
    }
   ],
   "source": [
    "fliter_blast('IL13', e_value_threshold, percent_identity_threshold, coverage_threshold)"
   ]
  },
  {
   "cell_type": "markdown",
   "id": "9f3f3c2b",
   "metadata": {},
   "source": [
    "Após a filtragem dos resultados do BLASTp, como esperado, o 1º resultado corresponde à sequência da proteína IL13 em Homo Sapiens. Os restantes três alinhamentos correspondem à proteína encontrada em Pan troglodytes (chimpanzé), Macaca thibetana (Macaco Tibetano) e Macaca mulatta (macaco-rhesus), sugerindo uma conservação da proteína dado à homologia encontrada em espécies relacionadas como é o caso destas."
   ]
  },
  {
   "cell_type": "markdown",
   "id": "4c4f3467",
   "metadata": {},
   "source": [
    "## TGFβ1"
   ]
  },
  {
   "cell_type": "code",
   "execution_count": 19,
   "id": "27a8eed8",
   "metadata": {},
   "outputs": [
    {
     "name": "stdout",
     "output_type": "stream",
     "text": [
      "FIRST ALIGNMENT:  \n",
      "Acession:P01137 \n",
      "Hit id:sp|P01137.3|\n",
      "Definition: RecName: Full=Transforming growth factor beta-1 proprotein; Contains: RecName: Full=Latency-associated peptide; Short=LAP; Contains: RecName: Full=Transforming growth factor beta-1; Short=TGF-beta-1; Flags: Precursor [Homo sapiens] \n",
      "Alignment lenght:  390 \n",
      "Number of HPSs:  1\n"
     ]
    }
   ],
   "source": [
    "first_alignment('TGFB1')"
   ]
  },
  {
   "cell_type": "code",
   "execution_count": 20,
   "id": "068d9c85",
   "metadata": {},
   "outputs": [
    {
     "name": "stdout",
     "output_type": "stream",
     "text": [
      "PARAMETERS: \n",
      "Database:  swissprot\n",
      "Matriz: BLOSUM62\n",
      "Gap penalties:  (11, 1)\n",
      "\n",
      "Hits:  50\n",
      "****Alignment 1****\n",
      "Sequence:  sp|P01137.3| RecName: Full=Transforming growth factor beta-1 proprotein; Contains: RecName: Full=Latency-associated peptide; Short=LAP; Contains: RecName: Full=Transforming growth factor beta-1; Short=TGF-beta-1; Flags: Precursor [Homo sapiens]\n",
      "Length:  390\n",
      "E-value:  0.0\n",
      "Percent identity: 100.00%\n",
      "Coverage: 100.00%\n",
      "MPPSGLRLLPLLLPLLWLLVLTPGRPAAGLSTCKTIDMELVKRKRIEAIRGQILSKLRLASPPSQGEVPPGPLPE...\n",
      "MPPSGLRLLPLLLPLLWLLVLTPGRPAAGLSTCKTIDMELVKRKRIEAIRGQILSKLRLASPPSQGEVPPGPLPE...\n",
      "MPPSGLRLLPLLLPLLWLLVLTPGRPAAGLSTCKTIDMELVKRKRIEAIRGQILSKLRLASPPSQGEVPPGPLPE... \n",
      "\n",
      "****Alignment 2****\n",
      "Sequence:  sp|P09533.1| RecName: Full=Transforming growth factor beta-1 proprotein; Contains: RecName: Full=Latency-associated peptide; Short=LAP; Contains: RecName: Full=Transforming growth factor beta-1; Short=TGF-beta-1; Flags: Precursor [Chlorocebus aethiops]\n",
      "Length:  390\n",
      "E-value:  0.0\n",
      "Percent identity: 98.97%\n",
      "Coverage: 100.00%\n",
      "MPPSGLRLLPLLLPLLWLLVLTPGRPAAGLSTCKTIDMELVKRKRIEAIRGQILSKLRLASPPSQGEVPPGPLPE...\n",
      "MPPSGLRLLPLLLPLLWLLVLTP RPAAGLSTCKTIDMELVKRKRIE IRGQILSKLRLASPPSQGEVPPGPLPE...\n",
      "MPPSGLRLLPLLLPLLWLLVLTPSRPAAGLSTCKTIDMELVKRKRIETIRGQILSKLRLASPPSQGEVPPGPLPE... \n",
      "\n",
      "****Alignment 3****\n",
      "Sequence:  sp|Q38HS2.1| RecName: Full=Transforming growth factor beta-1 proprotein; Contains: RecName: Full=Latency-associated peptide; Short=LAP; Contains: RecName: Full=Transforming growth factor beta-1; Short=TGF-beta-1; Flags: Precursor [Mustela putorius furo]\n",
      "Length:  390\n",
      "E-value:  0.0\n",
      "Percent identity: 96.92%\n",
      "Coverage: 100.00%\n",
      "MPPSGLRLLPLLLPLLWLLVLTPGRPAAGLSTCKTIDMELVKRKRIEAIRGQILSKLRLASPPSQGEVPPGPLPE...\n",
      "MPPSGLRLLPLLLPLLWLLVLTPGRPAAGLSTCKTIDMELVKRKRIEAIRGQILSKLRLASPPSQGEVPPGPLPE...\n",
      "MPPSGLRLLPLLLPLLWLLVLTPGRPAAGLSTCKTIDMELVKRKRIEAIRGQILSKLRLASPPSQGEVPPGPLPE... \n",
      "\n",
      "****Alignment 4****\n",
      "Sequence:  sp|P18341.2| RecName: Full=Transforming growth factor beta-1 proprotein; Contains: RecName: Full=Latency-associated peptide; Short=LAP; Contains: RecName: Full=Transforming growth factor beta-1; Short=TGF-beta-1; Flags: Precursor [Bos taurus]\n",
      "Length:  390\n",
      "E-value:  0.0\n",
      "Percent identity: 94.82%\n",
      "Coverage: 94.10%\n",
      "GRPAAGLSTCKTIDMELVKRKRIEAIRGQILSKLRLASPPSQGEVPPGPLPEAVLALYNSTRDRVAGESAEPEPE...\n",
      "GRP AGLSTCKTIDMELVKRKRIEAIRGQILSKLRLASPPSQG+VPPGPLPEA+LALYNSTRDRVAGESAE EPE...\n",
      "GRPVAGLSTCKTIDMELVKRKRIEAIRGQILSKLRLASPPSQGDVPPGPLPEAILALYNSTRDRVAGESAETEPE... \n",
      "\n",
      "\n",
      "Organisms:\n",
      "Homo sapiens\n",
      "Chlorocebus aethiops\n",
      "Mustela putorius furo\n",
      "Bos taurus\n"
     ]
    }
   ],
   "source": [
    "fliter_blast('TGFB1', e_value_threshold, percent_identity_threshold, coverage_threshold)"
   ]
  },
  {
   "cell_type": "markdown",
   "id": "27627492",
   "metadata": {},
   "source": [
    "O 1º alinhamento da lista filtrada dos resultados do BLASTp é a pro-proteína TGFβ1, pecursor de TGFβ1, o que é expectável. Os restantes três resultados correspondem à proteína encontrada em Chlorocebus aethiops (conhecido como Macaco do Velho Mundo), Mustela putorius furo (Furão) e Bos taurus (Gado bovino), sugerindo que existe conservação da proteína em diferentes espécies."
   ]
  }
 ],
 "metadata": {
  "kernelspec": {
   "display_name": "Python 3 (ipykernel)",
   "language": "python",
   "name": "python3"
  },
  "language_info": {
   "codemirror_mode": {
    "name": "ipython",
    "version": 3
   },
   "file_extension": ".py",
   "mimetype": "text/x-python",
   "name": "python",
   "nbconvert_exporter": "python",
   "pygments_lexer": "ipython3",
   "version": "3.11.4"
  }
 },
 "nbformat": 4,
 "nbformat_minor": 5
}
