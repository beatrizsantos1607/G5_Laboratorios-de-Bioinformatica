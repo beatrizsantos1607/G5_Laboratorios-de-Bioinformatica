{
 "cells": [
  {
   "cell_type": "code",
   "execution_count": null,
   "metadata": {},
   "outputs": [],
   "source": [
    "from Bio import SeqIO"
   ]
  },
  {
   "cell_type": "code",
   "execution_count": 2,
   "metadata": {},
   "outputs": [],
   "source": [
    "def translate_seq (fasta_file):\n",
    "    seq_record = SeqIO.parse(\"{}.fasta\". format(fasta_file), \"fasta\")\n",
    "    print(seq_record.seq.translate())"
   ]
  },
  {
   "cell_type": "code",
   "execution_count": null,
   "metadata": {},
   "outputs": [],
   "source": [
    "translate_seq()"
   ]
  },
  {
   "cell_type": "code",
   "execution_count": 1,
   "metadata": {},
   "outputs": [],
   "source": [
    "from Bio.Blast import NCBIXML \n",
    "from Bio.Blast import NCBIWWW \n"
   ]
  },
  {
   "cell_type": "code",
   "execution_count": null,
   "metadata": {},
   "outputs": [],
   "source": [
    "def blast_protein (fasta_file):\n",
    "    protein = SeqIO.read(open(fasta_file + '.fasta'), format=\"fasta\")\n",
    "    print('Tamanho da proteína:', len(protein))\n",
    "    NCBIWWW.qblast(\"blastp\", \"nr\", (fasta_file).format(\"fasta\"))\n",
    "    result = save_file = open(\"IL10_protein.xml\", \"w\")\n",
    "    save_file.write(result.read())\n",
    "    save_file.close()\n",
    "    result.close()"
   ]
  },
  {
   "cell_type": "code",
   "execution_count": null,
   "metadata": {},
   "outputs": [],
   "source": [
    "IL10_protein = SeqIO.read(open(\"IL10_protein.fasta\"), format=\"fasta\") "
   ]
  }
 ],
 "metadata": {
  "kernelspec": {
   "display_name": "base",
   "language": "python",
   "name": "python3"
  },
  "language_info": {
   "codemirror_mode": {
    "name": "ipython",
    "version": 3
   },
   "file_extension": ".py",
   "mimetype": "text/x-python",
   "name": "python",
   "nbconvert_exporter": "python",
   "pygments_lexer": "ipython3",
   "version": "3.11.4"
  }
 },
 "nbformat": 4,
 "nbformat_minor": 2
}
