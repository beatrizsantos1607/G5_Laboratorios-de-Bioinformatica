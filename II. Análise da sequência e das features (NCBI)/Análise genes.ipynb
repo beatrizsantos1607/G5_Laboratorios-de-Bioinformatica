{
 "cells": [
  {
   "cell_type": "code",
   "execution_count": 1,
   "id": "5761a01b",
   "metadata": {},
   "outputs": [],
   "source": [
    "from Bio import SeqIO\n",
    "from Bio.Seq import Seq\n",
    "from Bio.SeqRecord import SeqRecord\n",
    "from Bio import SeqFeature"
   ]
  },
  {
   "cell_type": "markdown",
   "id": "39a93835",
   "metadata": {},
   "source": [
    "## Gene TGF-β1 (transforming growth factor beta 1 )"
   ]
  },
  {
   "cell_type": "code",
   "execution_count": 2,
   "id": "e3c62d62",
   "metadata": {},
   "outputs": [
    {
     "data": {
      "text/plain": [
       "SeqRecord(seq=Seq('GCCGCCGCCGCCCTTCGCGCCCTGGGCCATCTCCCTCCCACCTCCCTCCGCGGA...CAG'), id='NC_000019.10', name='NC_000019', description='Homo sapiens chromosome 19, GRCh38.p14 Primary Assembly', dbxrefs=['BioProject:PRJNA168', 'Assembly:GCF_000001405.40'])"
      ]
     },
     "execution_count": 2,
     "metadata": {},
     "output_type": "execute_result"
    }
   ],
   "source": [
    "record = SeqIO.read(\"TGFB1.gb\", \"genbank\") \n",
    "record"
   ]
  },
  {
   "cell_type": "code",
   "execution_count": 8,
   "id": "c4426eee",
   "metadata": {},
   "outputs": [
    {
     "name": "stdout",
     "output_type": "stream",
     "text": [
      "23600\n",
      "NC_000019.10\n",
      "Homo sapiens chromosome 19, GRCh38.p14 Primary Assembly\n",
      "NC_000019\n"
     ]
    }
   ],
   "source": [
    "print(len(record.seq))\n",
    "print(record.id)\n",
    "print(record.description)\n",
    "print(record.name)"
   ]
  },
  {
   "cell_type": "code",
   "execution_count": 9,
   "id": "0367cd76",
   "metadata": {},
   "outputs": [
    {
     "name": "stdout",
     "output_type": "stream",
     "text": [
      "{'molecule_type': 'DNA', 'topology': 'linear', 'data_file_division': 'CON', 'date': '07-OCT-2023', 'accessions': ['NC_000019', 'REGION:', 'complement(41330323..41353922)'], 'sequence_version': 10, 'keywords': ['RefSeq'], 'source': 'Homo sapiens (human)', 'organism': 'Homo sapiens', 'taxonomy': ['Eukaryota', 'Metazoa', 'Chordata', 'Craniata', 'Vertebrata', 'Euteleostomi', 'Mammalia', 'Eutheria', 'Euarchontoglires', 'Primates', 'Haplorrhini', 'Catarrhini', 'Hominidae', 'Homo'], 'references': [Reference(title='Finishing the euchromatic sequence of the human genome', ...), Reference(title='The DNA sequence and biology of human chromosome 19', ...), Reference(title='Initial sequencing and analysis of the human genome', ...)], 'comment': 'REFSEQ INFORMATION: The reference sequence is identical to\\nCM000681.2.\\nOn Feb 3, 2014 this sequence version replaced NC_000019.9.\\nAssembly Name: GRCh38.p14 Primary Assembly\\nThe DNA sequence is composed of genomic sequence, primarily\\nfinished clones that were sequenced as part of the Human Genome\\nProject. PCR products and WGS shotgun sequence have been added\\nwhere necessary to fill gaps or correct errors. All such additions\\nare manually curated by GRC staff. For more information see:\\nhttps://genomereference.org.', 'structured_comment': defaultdict(<class 'dict'>, {'Genome-Annotation-Data': {'Annotation Provider': 'NCBI RefSeq', 'Annotation Status': 'Updated annotation', 'Annotation Name': 'GCF_000001405.40-RS_2023_10', 'Annotation Pipeline': 'NCBI eukaryotic genome annotation pipeline', 'Annotation Software Version': '10.2', 'Annotation Method': 'Best-placed RefSeq; Gnomon; RefSeqFE; cmsearch; tRNAscan-SE', 'Features Annotated': 'Gene; mRNA; CDS; ncRNA', 'Annotation Date': '10/02/2023'}})}\n"
     ]
    }
   ],
   "source": [
    "print(record.annotations)"
   ]
  },
  {
   "cell_type": "code",
   "execution_count": 4,
   "id": "fa3ad5b7",
   "metadata": {},
   "outputs": [
    {
     "name": "stdout",
     "output_type": "stream",
     "text": [
      "['BioProject:PRJNA168', 'Assembly:GCF_000001405.40']\n",
      "Homo sapiens (human)\n",
      "['Eukaryota', 'Metazoa', 'Chordata', 'Craniata', 'Vertebrata', 'Euteleostomi', 'Mammalia', 'Eutheria', 'Euarchontoglires', 'Primates', 'Haplorrhini', 'Catarrhini', 'Hominidae', 'Homo']\n"
     ]
    }
   ],
   "source": [
    "print(record.dbxrefs)\n",
    "print(record.annotations[\"source\"] )\n",
    "print(record.annotations[\"taxonomy\"])"
   ]
  },
  {
   "cell_type": "code",
   "execution_count": 6,
   "id": "e2545624",
   "metadata": {},
   "outputs": [
    {
     "name": "stdout",
     "output_type": "stream",
     "text": [
      "Temos 6 features\n"
     ]
    },
    {
     "data": {
      "text/plain": [
       "[SeqFeature(SimpleLocation(ExactPosition(0), ExactPosition(23600), strand=1), type='source', qualifiers=...),\n",
       " SeqFeature(SimpleLocation(ExactPosition(0), ExactPosition(23600), strand=1), type='gene', qualifiers=...),\n",
       " SeqFeature(CompoundLocation([SimpleLocation(ExactPosition(0), ExactPosition(1233), strand=1), SimpleLocation(ExactPosition(5467), ExactPosition(5628), strand=1), SimpleLocation(ExactPosition(9058), ExactPosition(9176), strand=1), SimpleLocation(ExactPosition(11675), ExactPosition(11753), strand=1), SimpleLocation(ExactPosition(11892), ExactPosition(12040), strand=1), SimpleLocation(ExactPosition(21641), ExactPosition(21795), strand=1), SimpleLocation(ExactPosition(22712), ExactPosition(23600), strand=1)], 'join'), type='mRNA', location_operator='join', qualifiers=...),\n",
       " SeqFeature(CompoundLocation([SimpleLocation(ExactPosition(0), ExactPosition(1233), strand=1), SimpleLocation(ExactPosition(5467), ExactPosition(5628), strand=1), SimpleLocation(ExactPosition(9058), ExactPosition(9176), strand=1), SimpleLocation(ExactPosition(11675), ExactPosition(11753), strand=1), SimpleLocation(ExactPosition(11889), ExactPosition(12040), strand=1), SimpleLocation(ExactPosition(21641), ExactPosition(21795), strand=1), SimpleLocation(ExactPosition(22712), ExactPosition(23600), strand=1)], 'join'), type='mRNA', location_operator='join', qualifiers=...),\n",
       " SeqFeature(CompoundLocation([SimpleLocation(ExactPosition(878), ExactPosition(1233), strand=1), SimpleLocation(ExactPosition(5467), ExactPosition(5628), strand=1), SimpleLocation(ExactPosition(9058), ExactPosition(9176), strand=1), SimpleLocation(ExactPosition(11675), ExactPosition(11753), strand=1), SimpleLocation(ExactPosition(11892), ExactPosition(12040), strand=1), SimpleLocation(ExactPosition(21641), ExactPosition(21795), strand=1), SimpleLocation(ExactPosition(22712), ExactPosition(22871), strand=1)], 'join'), type='CDS', location_operator='join', qualifiers=...),\n",
       " SeqFeature(CompoundLocation([SimpleLocation(ExactPosition(878), ExactPosition(1233), strand=1), SimpleLocation(ExactPosition(5467), ExactPosition(5628), strand=1), SimpleLocation(ExactPosition(9058), ExactPosition(9176), strand=1), SimpleLocation(ExactPosition(11675), ExactPosition(11753), strand=1), SimpleLocation(ExactPosition(11889), ExactPosition(12040), strand=1), SimpleLocation(ExactPosition(21641), ExactPosition(21795), strand=1), SimpleLocation(ExactPosition(22712), ExactPosition(22871), strand=1)], 'join'), type='CDS', location_operator='join', qualifiers=...)]"
      ]
     },
     "execution_count": 6,
     "metadata": {},
     "output_type": "execute_result"
    }
   ],
   "source": [
    "print(\"Temos\", len(record.features), \"features\")\n",
    "record.features"
   ]
  },
  {
   "cell_type": "code",
   "execution_count": 10,
   "id": "ca03389d",
   "metadata": {},
   "outputs": [
    {
     "name": "stdout",
     "output_type": "stream",
     "text": [
      "source [0:23600](+)\n",
      "gene [0:23600](+)\n",
      "mRNA join{[0:1233](+), [5467:5628](+), [9058:9176](+), [11675:11753](+), [11892:12040](+), [21641:21795](+), [22712:23600](+)}\n",
      "mRNA join{[0:1233](+), [5467:5628](+), [9058:9176](+), [11675:11753](+), [11889:12040](+), [21641:21795](+), [22712:23600](+)}\n",
      "CDS join{[878:1233](+), [5467:5628](+), [9058:9176](+), [11675:11753](+), [11892:12040](+), [21641:21795](+), [22712:22871](+)}\n",
      "CDS join{[878:1233](+), [5467:5628](+), [9058:9176](+), [11675:11753](+), [11889:12040](+), [21641:21795](+), [22712:22871](+)}\n"
     ]
    }
   ],
   "source": [
    "for t in record.features:\n",
    "    print(t.type, t.location)"
   ]
  },
  {
   "cell_type": "code",
   "execution_count": 11,
   "id": "5979187b",
   "metadata": {},
   "outputs": [
    {
     "data": {
      "text/plain": [
       "[4, 5]"
      ]
     },
     "execution_count": 11,
     "metadata": {},
     "output_type": "execute_result"
    }
   ],
   "source": [
    "feat_cds= []\n",
    "for i in range(len(record.features)):\n",
    "    if record.features[i].type == \"CDS\":\n",
    "        feat_cds.append(i)\n",
    "feat_cds"
   ]
  },
  {
   "cell_type": "code",
   "execution_count": 16,
   "id": "b2909ca8",
   "metadata": {},
   "outputs": [
    {
     "name": "stdout",
     "output_type": "stream",
     "text": [
      "{'gene': ['TGFB1'], 'gene_synonym': ['CED; DPD1; IBDIMDE; LAP; TGF-beta1; TGFB; TGFbeta'], 'note': ['Derived by automated computational analysis using gene prediction method: BestRefSeq.'], 'codon_start': ['1'], 'product': ['transforming growth factor beta-1 proprotein preproprotein'], 'protein_id': ['NP_000651.3'], 'db_xref': ['CCDS:CCDS33031.1', 'Ensembl:ENSP00000221930.4', 'GeneID:7040', 'HGNC:HGNC:11766', 'MIM:190180'], 'translation': ['MPPSGLRLLPLLLPLLWLLVLTPGRPAAGLSTCKTIDMELVKRKRIEAIRGQILSKLRLASPPSQGEVPPGPLPEAVLALYNSTRDRVAGESAEPEPEPEADYYAKEVTRVLMVETHNEIYDKFKQSTHSIYMFFNTSELREAVPEPVLLSRAELRLLRLKLKVEQHVELYQKYSNNSWRYLSNRLLAPSDSPEWLSFDVTGVVRQWLSRGGEIEGFRLSAHCSCDSRDNTLQVDINGFTTGRRGDLATIHGMNRPFLLLMATPLERAQHLQSSRHRRALDTNYCFSSTEKNCCVRQLYIDFRKDLGWKWIHEPKGYHANFCLGPCPYIWSLDTQYSKVLALYNQHNPGASAAPCCVPQALEPLPIVYYVGRKPKVEQLSNMIVRSCKCS']}\n",
      "{'gene': ['TGFB1'], 'gene_synonym': ['CED; DPD1; IBDIMDE; LAP; TGF-beta1; TGFB; TGFbeta'], 'note': ['Derived by automated computational analysis using gene prediction method: Gnomon.'], 'codon_start': ['1'], 'product': ['transforming growth factor beta-1 proprotein isoform X1'], 'protein_id': ['XP_011525544.1'], 'db_xref': ['GeneID:7040', 'HGNC:HGNC:11766', 'MIM:190180'], 'translation': ['MPPSGLRLLPLLLPLLWLLVLTPGRPAAGLSTCKTIDMELVKRKRIEAIRGQILSKLRLASPPSQGEVPPGPLPEAVLALYNSTRDRVAGESAEPEPEPEADYYAKEVTRVLMVETHNEIYDKFKQSTHSIYMFFNTSELREAVPEPVLLSRAELRLLRLKLKVEQHVELYQKYSNNSWRYLSNRLLAPSDSPEWLSFDVTGVVRQWLSRGGEIEGFRLSAHCSCDSRDNTLQVDINAGFTTGRRGDLATIHGMNRPFLLLMATPLERAQHLQSSRHRRALDTNYCFSSTEKNCCVRQLYIDFRKDLGWKWIHEPKGYHANFCLGPCPYIWSLDTQYSKVLALYNQHNPGASAAPCCVPQALEPLPIVYYVGRKPKVEQLSNMIVRSCKCS']}\n"
     ]
    }
   ],
   "source": [
    "print(record.features[4].qualifiers)\n",
    "print(record.features[5].qualifiers)"
   ]
  },
  {
   "cell_type": "code",
   "execution_count": 17,
   "id": "e9d89798",
   "metadata": {},
   "outputs": [
    {
     "name": "stdout",
     "output_type": "stream",
     "text": [
      "DNA:  ATGCCGCCCTCCGGGCTGCGGCTGCTGCCGCTGCTGCTACCGCTGCTGTGGCTACTGGTGCTGACGCCTGGCCGGCCGGCCGCGGGACTATCCACCTGCAAGACTATCGACATGGAGCTGGTGAAGCGGAAGCGCATCGAGGCCATCCGCGGCCAGATCCTGTCCAAGCTGCGGCTCGCCAGCCCCCCGAGCCAGGGGGAGGTGCCGCCCGGCCCGCTGCCCGAGGCCGTGCTCGCCCTGTACAACAGCACCCGCGACCGGGTGGCCGGGGAGAGTGCAGAACCGGAGCCCGAGCCTGAGGCCGACTACTACGCCAAGGAGGTCACCCGCGTGCTAATGGTGGAAACCCACAACGAAATCTATGACAAGTTCAAGCAGAGTACACACAGCATATATATGTTCTTCAACACATCAGAGCTCCGAGAAGCGGTACCTGAACCCGTGTTGCTCTCCCGGGCAGAGCTGCGTCTGCTGAGGCTCAAGTTAAAAGTGGAGCAGCACGTGGAGCTGTACCAGAAATACAGCAACAATTCCTGGCGATACCTCAGCAACCGGCTGCTGGCACCCAGCGACTCGCCAGAGTGGTTATCTTTTGATGTCACCGGAGTTGTGCGGCAGTGGTTGAGCCGTGGAGGGGAAATTGAGGGCTTTCGCCTTAGCGCCCACTGCTCCTGTGACAGCAGGGATAACACACTGCAAGTGGACATCAACGGGTTCACTACCGGCCGCCGAGGTGACCTGGCCACCATTCATGGCATGAACCGGCCTTTCCTGCTTCTCATGGCCACCCCGCTGGAGAGGGCCCAGCATCTGCAAAGCTCCCGGCACCGCCGAGCCCTGGACACCAACTATTGCTTCAGCTCCACGGAGAAGAACTGCTGCGTGCGGCAGCTGTACATTGACTTCCGCAAGGACCTCGGCTGGAAGTGGATCCACGAGCCCAAGGGCTACCATGCCAACTTCTGCCTCGGGCCCTGCCCCTACATTTGGAGCCTGGACACGCAGTACAGCAAGGTCCTGGCCCTGTACAACCAGCATAACCCGGGCGCCTCGGCGGCGCCGTGCTGCGTGCCGCAGGCGCTGGAGCCGCTGCCCATCGTGTACTACGTGGGCCGCAAGCCCAAGGTGGAGCAGCTGTCCAACATGATCGTGCGCTCCTGCAAGTGCAGCTGA\n",
      "Proteína:  MPPSGLRLLPLLLPLLWLLVLTPGRPAAGLSTCKTIDMELVKRKRIEAIRGQILSKLRLASPPSQGEVPPGPLPEAVLALYNSTRDRVAGESAEPEPEPEADYYAKEVTRVLMVETHNEIYDKFKQSTHSIYMFFNTSELREAVPEPVLLSRAELRLLRLKLKVEQHVELYQKYSNNSWRYLSNRLLAPSDSPEWLSFDVTGVVRQWLSRGGEIEGFRLSAHCSCDSRDNTLQVDINGFTTGRRGDLATIHGMNRPFLLLMATPLERAQHLQSSRHRRALDTNYCFSSTEKNCCVRQLYIDFRKDLGWKWIHEPKGYHANFCLGPCPYIWSLDTQYSKVLALYNQHNPGASAAPCCVPQALEPLPIVYYVGRKPKVEQLSNMIVRSCKCS*\n",
      "DNA:  ATGCCGCCCTCCGGGCTGCGGCTGCTGCCGCTGCTGCTACCGCTGCTGTGGCTACTGGTGCTGACGCCTGGCCGGCCGGCCGCGGGACTATCCACCTGCAAGACTATCGACATGGAGCTGGTGAAGCGGAAGCGCATCGAGGCCATCCGCGGCCAGATCCTGTCCAAGCTGCGGCTCGCCAGCCCCCCGAGCCAGGGGGAGGTGCCGCCCGGCCCGCTGCCCGAGGCCGTGCTCGCCCTGTACAACAGCACCCGCGACCGGGTGGCCGGGGAGAGTGCAGAACCGGAGCCCGAGCCTGAGGCCGACTACTACGCCAAGGAGGTCACCCGCGTGCTAATGGTGGAAACCCACAACGAAATCTATGACAAGTTCAAGCAGAGTACACACAGCATATATATGTTCTTCAACACATCAGAGCTCCGAGAAGCGGTACCTGAACCCGTGTTGCTCTCCCGGGCAGAGCTGCGTCTGCTGAGGCTCAAGTTAAAAGTGGAGCAGCACGTGGAGCTGTACCAGAAATACAGCAACAATTCCTGGCGATACCTCAGCAACCGGCTGCTGGCACCCAGCGACTCGCCAGAGTGGTTATCTTTTGATGTCACCGGAGTTGTGCGGCAGTGGTTGAGCCGTGGAGGGGAAATTGAGGGCTTTCGCCTTAGCGCCCACTGCTCCTGTGACAGCAGGGATAACACACTGCAAGTGGACATCAACGCAGGGTTCACTACCGGCCGCCGAGGTGACCTGGCCACCATTCATGGCATGAACCGGCCTTTCCTGCTTCTCATGGCCACCCCGCTGGAGAGGGCCCAGCATCTGCAAAGCTCCCGGCACCGCCGAGCCCTGGACACCAACTATTGCTTCAGCTCCACGGAGAAGAACTGCTGCGTGCGGCAGCTGTACATTGACTTCCGCAAGGACCTCGGCTGGAAGTGGATCCACGAGCCCAAGGGCTACCATGCCAACTTCTGCCTCGGGCCCTGCCCCTACATTTGGAGCCTGGACACGCAGTACAGCAAGGTCCTGGCCCTGTACAACCAGCATAACCCGGGCGCCTCGGCGGCGCCGTGCTGCGTGCCGCAGGCGCTGGAGCCGCTGCCCATCGTGTACTACGTGGGCCGCAAGCCCAAGGTGGAGCAGCTGTCCAACATGATCGTGCGCTCCTGCAAGTGCAGCTGA\n",
      "Proteína:  MPPSGLRLLPLLLPLLWLLVLTPGRPAAGLSTCKTIDMELVKRKRIEAIRGQILSKLRLASPPSQGEVPPGPLPEAVLALYNSTRDRVAGESAEPEPEPEADYYAKEVTRVLMVETHNEIYDKFKQSTHSIYMFFNTSELREAVPEPVLLSRAELRLLRLKLKVEQHVELYQKYSNNSWRYLSNRLLAPSDSPEWLSFDVTGVVRQWLSRGGEIEGFRLSAHCSCDSRDNTLQVDINAGFTTGRRGDLATIHGMNRPFLLLMATPLERAQHLQSSRHRRALDTNYCFSSTEKNCCVRQLYIDFRKDLGWKWIHEPKGYHANFCLGPCPYIWSLDTQYSKVLALYNQHNPGASAAPCCVPQALEPLPIVYYVGRKPKVEQLSNMIVRSCKCS*\n"
     ]
    }
   ],
   "source": [
    "for i in feat_cds:\n",
    "    coding_dna = record.features[i].extract(record.seq)\n",
    "    print(\"DNA: \", coding_dna)\n",
    "    print(\"Proteína: \", coding_dna.translate())"
   ]
  },
  {
   "cell_type": "code",
   "execution_count": 22,
   "id": "d2f4445d",
   "metadata": {},
   "outputs": [
    {
     "name": "stdout",
     "output_type": "stream",
     "text": [
      "Número de features tipo gene:  1\n"
     ]
    }
   ],
   "source": [
    "feat_gene = []\n",
    "for j in range(len(record.features)):\n",
    "    if record.features[j].type == 'gene':\n",
    "        feat_gene.append(j)\n",
    "print('Número de features tipo gene: ', len(feat_gene))"
   ]
  },
  {
   "cell_type": "markdown",
   "id": "71d88d03",
   "metadata": {},
   "source": [
    "## Gene IL-10 (Interleukin 10)"
   ]
  },
  {
   "cell_type": "code",
   "execution_count": 23,
   "id": "ab32a928",
   "metadata": {},
   "outputs": [
    {
     "data": {
      "text/plain": [
       "SeqRecord(seq=Seq('ACACATCAGGGGCTTGCTCTTGCAAAACCAAACCACAAGACAGACTTGCAAAAG...TCA'), id='NC_000001.11', name='NC_000001', description='Homo sapiens chromosome 1, GRCh38.p14 Primary Assembly', dbxrefs=['BioProject:PRJNA168', 'Assembly:GCF_000001405.40'])"
      ]
     },
     "execution_count": 23,
     "metadata": {},
     "output_type": "execute_result"
    }
   ],
   "source": [
    "record2 = SeqIO.read(\"IL10.gb\", \"genbank\") \n",
    "record2"
   ]
  },
  {
   "cell_type": "code",
   "execution_count": 24,
   "id": "9589b950",
   "metadata": {},
   "outputs": [
    {
     "name": "stdout",
     "output_type": "stream",
     "text": [
      "4893\n",
      "NC_000001.11\n",
      "Homo sapiens chromosome 1, GRCh38.p14 Primary Assembly\n",
      "NC_000001\n"
     ]
    }
   ],
   "source": [
    "print(len(record2.seq))\n",
    "print(record2.id)\n",
    "print(record2.description)\n",
    "print(record2.name)"
   ]
  },
  {
   "cell_type": "code",
   "execution_count": 26,
   "id": "5493568a",
   "metadata": {},
   "outputs": [
    {
     "name": "stdout",
     "output_type": "stream",
     "text": [
      "{'molecule_type': 'DNA', 'topology': 'linear', 'data_file_division': 'CON', 'date': '07-OCT-2023', 'accessions': ['NC_000001', 'REGION:', 'complement(206767602..206772494)'], 'sequence_version': 11, 'keywords': ['RefSeq'], 'source': 'Homo sapiens (human)', 'organism': 'Homo sapiens', 'taxonomy': ['Eukaryota', 'Metazoa', 'Chordata', 'Craniata', 'Vertebrata', 'Euteleostomi', 'Mammalia', 'Eutheria', 'Euarchontoglires', 'Primates', 'Haplorrhini', 'Catarrhini', 'Hominidae', 'Homo'], 'references': [Reference(title='The DNA sequence and biological annotation of human chromosome 1', ...), Reference(title='Finishing the euchromatic sequence of the human genome', ...), Reference(title='Initial sequencing and analysis of the human genome', ...)], 'comment': 'REFSEQ INFORMATION: The reference sequence is identical to\\nCM000663.2.\\nOn Feb 3, 2014 this sequence version replaced NC_000001.10.\\nAssembly Name: GRCh38.p14 Primary Assembly\\nThe DNA sequence is composed of genomic sequence, primarily\\nfinished clones that were sequenced as part of the Human Genome\\nProject. PCR products and WGS shotgun sequence have been added\\nwhere necessary to fill gaps or correct errors. All such additions\\nare manually curated by GRC staff. For more information see:\\nhttps://genomereference.org.', 'structured_comment': defaultdict(<class 'dict'>, {'Genome-Annotation-Data': {'Annotation Provider': 'NCBI RefSeq', 'Annotation Status': 'Updated annotation', 'Annotation Name': 'GCF_000001405.40-RS_2023_10', 'Annotation Pipeline': 'NCBI eukaryotic genome annotation pipeline', 'Annotation Software Version': '10.2', 'Annotation Method': 'Best-placed RefSeq; Gnomon; RefSeqFE; cmsearch; tRNAscan-SE', 'Features Annotated': 'Gene; mRNA; CDS; ncRNA', 'Annotation Date': '10/02/2023'}})}\n"
     ]
    }
   ],
   "source": [
    "print(record2.annotations)"
   ]
  },
  {
   "cell_type": "code",
   "execution_count": 27,
   "id": "cc86823a",
   "metadata": {},
   "outputs": [
    {
     "name": "stdout",
     "output_type": "stream",
     "text": [
      "['BioProject:PRJNA168', 'Assembly:GCF_000001405.40']\n",
      "Homo sapiens (human)\n",
      "['Eukaryota', 'Metazoa', 'Chordata', 'Craniata', 'Vertebrata', 'Euteleostomi', 'Mammalia', 'Eutheria', 'Euarchontoglires', 'Primates', 'Haplorrhini', 'Catarrhini', 'Hominidae', 'Homo']\n"
     ]
    }
   ],
   "source": [
    "print(record2.dbxrefs)\n",
    "print(record2.annotations[\"source\"] )\n",
    "print(record2.annotations[\"taxonomy\"])"
   ]
  },
  {
   "cell_type": "code",
   "execution_count": 28,
   "id": "c0164328",
   "metadata": {},
   "outputs": [
    {
     "name": "stdout",
     "output_type": "stream",
     "text": [
      "Temos 11 features\n"
     ]
    },
    {
     "data": {
      "text/plain": [
       "[SeqFeature(SimpleLocation(ExactPosition(0), ExactPosition(4893), strand=1), type='source', qualifiers=...),\n",
       " SeqFeature(SimpleLocation(BeforePosition(0), ExactPosition(1722), strand=-1), type='gene', qualifiers=...),\n",
       " SeqFeature(SimpleLocation(BeforePosition(1416), ExactPosition(1722), strand=-1), type='mRNA', qualifiers=...),\n",
       " SeqFeature(SimpleLocation(BeforePosition(1664), ExactPosition(1722), strand=-1), type='mRNA', qualifiers=...),\n",
       " SeqFeature(SimpleLocation(ExactPosition(0), ExactPosition(4893), strand=1), type='gene', qualifiers=...),\n",
       " SeqFeature(CompoundLocation([SimpleLocation(ExactPosition(0), ExactPosition(224), strand=1), SimpleLocation(ExactPosition(1079), ExactPosition(1139), strand=1), SimpleLocation(ExactPosition(1435), ExactPosition(1588), strand=1), SimpleLocation(ExactPosition(2600), ExactPosition(2666), strand=1), SimpleLocation(ExactPosition(3766), ExactPosition(4893), strand=1)], 'join'), type='mRNA', location_operator='join', qualifiers=...),\n",
       " SeqFeature(CompoundLocation([SimpleLocation(ExactPosition(0), ExactPosition(224), strand=1), SimpleLocation(ExactPosition(1079), ExactPosition(1139), strand=1), SimpleLocation(ExactPosition(1435), ExactPosition(1588), strand=1), SimpleLocation(ExactPosition(2175), ExactPosition(2413), strand=1), SimpleLocation(ExactPosition(2600), ExactPosition(2666), strand=1), SimpleLocation(ExactPosition(3766), ExactPosition(4893), strand=1)], 'join'), type='misc_RNA', location_operator='join', qualifiers=...),\n",
       " SeqFeature(CompoundLocation([SimpleLocation(ExactPosition(59), ExactPosition(224), strand=1), SimpleLocation(ExactPosition(1079), ExactPosition(1139), strand=1), SimpleLocation(ExactPosition(1435), ExactPosition(1588), strand=1), SimpleLocation(ExactPosition(2600), ExactPosition(2666), strand=1), SimpleLocation(ExactPosition(3766), ExactPosition(3859), strand=1)], 'join'), type='CDS', location_operator='join', qualifiers=...),\n",
       " SeqFeature(CompoundLocation([SimpleLocation(ExactPosition(1305), ExactPosition(1588), strand=1), SimpleLocation(ExactPosition(2600), ExactPosition(2666), strand=1), SimpleLocation(ExactPosition(3766), ExactPosition(4893), strand=1)], 'join'), type='mRNA', location_operator='join', qualifiers=...),\n",
       " SeqFeature(CompoundLocation([SimpleLocation(ExactPosition(1465), ExactPosition(1588), strand=1), SimpleLocation(ExactPosition(2600), ExactPosition(2666), strand=1), SimpleLocation(ExactPosition(3766), ExactPosition(3859), strand=1)], 'join'), type='CDS', location_operator='join', qualifiers=...),\n",
       " SeqFeature(CompoundLocation([SimpleLocation(ExactPosition(1891), ExactPosition(2096), strand=1), SimpleLocation(ExactPosition(2600), ExactPosition(2666), strand=1), SimpleLocation(ExactPosition(3766), ExactPosition(4893), strand=1)], 'join'), type='misc_RNA', location_operator='join', qualifiers=...)]"
      ]
     },
     "execution_count": 28,
     "metadata": {},
     "output_type": "execute_result"
    }
   ],
   "source": [
    "print(\"Temos\", len(record2.features), \"features\")\n",
    "record2.features"
   ]
  },
  {
   "cell_type": "code",
   "execution_count": 29,
   "id": "da7ea0e3",
   "metadata": {},
   "outputs": [
    {
     "name": "stdout",
     "output_type": "stream",
     "text": [
      "source [0:4893](+)\n",
      "gene [<0:1722](-)\n",
      "mRNA [<1416:1722](-)\n",
      "mRNA [<1664:1722](-)\n",
      "gene [0:4893](+)\n",
      "mRNA join{[0:224](+), [1079:1139](+), [1435:1588](+), [2600:2666](+), [3766:4893](+)}\n",
      "misc_RNA join{[0:224](+), [1079:1139](+), [1435:1588](+), [2175:2413](+), [2600:2666](+), [3766:4893](+)}\n",
      "CDS join{[59:224](+), [1079:1139](+), [1435:1588](+), [2600:2666](+), [3766:3859](+)}\n",
      "mRNA join{[1305:1588](+), [2600:2666](+), [3766:4893](+)}\n",
      "CDS join{[1465:1588](+), [2600:2666](+), [3766:3859](+)}\n",
      "misc_RNA join{[1891:2096](+), [2600:2666](+), [3766:4893](+)}\n"
     ]
    }
   ],
   "source": [
    "for t in record2.features:\n",
    "    print(t.type, t.location)"
   ]
  },
  {
   "cell_type": "code",
   "execution_count": 30,
   "id": "0aea26b7",
   "metadata": {},
   "outputs": [
    {
     "data": {
      "text/plain": [
       "[7, 9]"
      ]
     },
     "execution_count": 30,
     "metadata": {},
     "output_type": "execute_result"
    }
   ],
   "source": [
    "feat_cds= []\n",
    "for i in range(len(record2.features)):\n",
    "    if record2.features[i].type == \"CDS\":\n",
    "        feat_cds.append(i)\n",
    "feat_cds"
   ]
  },
  {
   "cell_type": "code",
   "execution_count": 31,
   "id": "51ef7c6c",
   "metadata": {},
   "outputs": [
    {
     "name": "stdout",
     "output_type": "stream",
     "text": [
      "{'gene': ['IL10'], 'gene_synonym': ['CSIF; GVHDS; IL-10; IL10A; TGIF'], 'note': ['isoform 1 precursor is encoded by transcript variant 1; Derived by automated computational analysis using gene prediction method: BestRefSeq.'], 'codon_start': ['1'], 'product': ['interleukin-10 isoform 1 precursor'], 'protein_id': ['NP_000563.1'], 'db_xref': ['CCDS:CCDS1467.1', 'Ensembl:ENSP00000412237.1', 'GeneID:3586', 'HGNC:HGNC:5962', 'MIM:124092'], 'translation': ['MHSSALLCCLVLLTGVRASPGQGTQSENSCTHFPGNLPNMLRDLRDAFSRVKTFFQMKDQLDNLLLKESLLEDFKGYLGCQALSEMIQFYLEEVMPQAENQDPDIKAHVNSLGENLKTLRLRLRRCHRFLPCENKSKAVEQVKNAFNKLQEKGIYKAMSEFDIFINYIEAYMTMKIRN']}\n",
      "{'gene': ['IL10'], 'gene_synonym': ['CSIF; GVHDS; IL-10; IL10A; TGIF'], 'note': ['isoform 2 is encoded by transcript variant 2; Derived by automated computational analysis using gene prediction method: BestRefSeq.'], 'codon_start': ['1'], 'product': ['interleukin-10 isoform 2'], 'protein_id': ['NP_001369553.1'], 'db_xref': ['CCDS:CCDS91154.1', 'GeneID:3586', 'HGNC:HGNC:5962', 'MIM:124092'], 'translation': ['MIQFYLEEVMPQAENQDPDIKAHVNSLGENLKTLRLRLRRCHRFLPCENKSKAVEQVKNAFNKLQEKGIYKAMSEFDIFINYIEAYMTMKIRN']}\n"
     ]
    }
   ],
   "source": [
    "print(record2.features[7].qualifiers)\n",
    "print(record2.features[9].qualifiers)"
   ]
  },
  {
   "cell_type": "code",
   "execution_count": 32,
   "id": "69b05c3c",
   "metadata": {},
   "outputs": [
    {
     "name": "stdout",
     "output_type": "stream",
     "text": [
      "DNA:  ATGCACAGCTCAGCACTGCTCTGTTGCCTGGTCCTCCTGACTGGGGTGAGGGCCAGCCCAGGCCAGGGCACCCAGTCTGAGAACAGCTGCACCCACTTCCCAGGCAACCTGCCTAACATGCTTCGAGATCTCCGAGATGCCTTCAGCAGAGTGAAGACTTTCTTTCAAATGAAGGATCAGCTGGACAACTTGTTGTTAAAGGAGTCCTTGCTGGAGGACTTTAAGGGTTACCTGGGTTGCCAAGCCTTGTCTGAGATGATCCAGTTTTACCTGGAGGAGGTGATGCCCCAAGCTGAGAACCAAGACCCAGACATCAAGGCGCATGTGAACTCCCTGGGGGAGAACCTGAAGACCCTCAGGCTGAGGCTACGGCGCTGTCATCGATTTCTTCCCTGTGAAAACAAGAGCAAGGCCGTGGAGCAGGTGAAGAATGCCTTTAATAAGCTCCAAGAGAAAGGCATCTACAAAGCCATGAGTGAGTTTGACATCTTCATCAACTACATAGAAGCCTACATGACAATGAAGATACGAAACTGA\n",
      "Proteína:  MHSSALLCCLVLLTGVRASPGQGTQSENSCTHFPGNLPNMLRDLRDAFSRVKTFFQMKDQLDNLLLKESLLEDFKGYLGCQALSEMIQFYLEEVMPQAENQDPDIKAHVNSLGENLKTLRLRLRRCHRFLPCENKSKAVEQVKNAFNKLQEKGIYKAMSEFDIFINYIEAYMTMKIRN*\n",
      "DNA:  ATGATCCAGTTTTACCTGGAGGAGGTGATGCCCCAAGCTGAGAACCAAGACCCAGACATCAAGGCGCATGTGAACTCCCTGGGGGAGAACCTGAAGACCCTCAGGCTGAGGCTACGGCGCTGTCATCGATTTCTTCCCTGTGAAAACAAGAGCAAGGCCGTGGAGCAGGTGAAGAATGCCTTTAATAAGCTCCAAGAGAAAGGCATCTACAAAGCCATGAGTGAGTTTGACATCTTCATCAACTACATAGAAGCCTACATGACAATGAAGATACGAAACTGA\n",
      "Proteína:  MIQFYLEEVMPQAENQDPDIKAHVNSLGENLKTLRLRLRRCHRFLPCENKSKAVEQVKNAFNKLQEKGIYKAMSEFDIFINYIEAYMTMKIRN*\n"
     ]
    }
   ],
   "source": [
    "for i in feat_cds:\n",
    "    coding_dna = record2.features[i].extract(record2.seq)\n",
    "    print(\"DNA: \", coding_dna)\n",
    "    print(\"Proteína: \", coding_dna.translate())"
   ]
  },
  {
   "cell_type": "code",
   "execution_count": 33,
   "id": "aae892e5",
   "metadata": {},
   "outputs": [
    {
     "name": "stdout",
     "output_type": "stream",
     "text": [
      "Número de features tipo gene:  2\n"
     ]
    }
   ],
   "source": [
    "feat_gene = []\n",
    "for j in range(len(record2.features)):\n",
    "    if record2.features[j].type == 'gene':\n",
    "        feat_gene.append(j)\n",
    "print('Número de features tipo gene: ', len(feat_gene))"
   ]
  },
  {
   "cell_type": "markdown",
   "id": "aba970c8",
   "metadata": {},
   "source": [
    "## Gene IL-13 (Interleukin 13)"
   ]
  },
  {
   "cell_type": "code",
   "execution_count": 36,
   "id": "b158305d",
   "metadata": {},
   "outputs": [
    {
     "data": {
      "text/plain": [
       "SeqRecord(seq=Seq('ACGCGCGGGGGCGCCCCTGCCCACCGCTCCCGGCAGGGCTTTTGGTGGCCATGG...ATA'), id='NC_000005.10', name='NC_000005', description='Homo sapiens chromosome 5, GRCh38.p14 Primary Assembly', dbxrefs=['BioProject:PRJNA168', 'Assembly:GCF_000001405.40'])"
      ]
     },
     "execution_count": 36,
     "metadata": {},
     "output_type": "execute_result"
    }
   ],
   "source": [
    "record3 = SeqIO.read(\"IL13.gb\", \"genbank\") \n",
    "record3"
   ]
  },
  {
   "cell_type": "code",
   "execution_count": 37,
   "id": "ea6be691",
   "metadata": {},
   "outputs": [
    {
     "name": "stdout",
     "output_type": "stream",
     "text": [
      "4589\n",
      "NC_000005.10\n",
      "Homo sapiens chromosome 5, GRCh38.p14 Primary Assembly\n",
      "NC_000005\n"
     ]
    }
   ],
   "source": [
    "print(len(record3.seq))\n",
    "print(record3.id)\n",
    "print(record3.description)\n",
    "print(record3.name)"
   ]
  },
  {
   "cell_type": "code",
   "execution_count": 38,
   "id": "b537c75e",
   "metadata": {},
   "outputs": [
    {
     "name": "stdout",
     "output_type": "stream",
     "text": [
      "{'molecule_type': 'DNA', 'topology': 'linear', 'data_file_division': 'CON', 'date': '07-OCT-2023', 'accessions': ['NC_000005', 'REGION:', '132656522..132661110'], 'sequence_version': 10, 'keywords': ['RefSeq'], 'source': 'Homo sapiens (human)', 'organism': 'Homo sapiens', 'taxonomy': ['Eukaryota', 'Metazoa', 'Chordata', 'Craniata', 'Vertebrata', 'Euteleostomi', 'Mammalia', 'Eutheria', 'Euarchontoglires', 'Primates', 'Haplorrhini', 'Catarrhini', 'Hominidae', 'Homo'], 'references': [Reference(title='Finishing the euchromatic sequence of the human genome', ...), Reference(title='The DNA sequence and comparative analysis of human chromosome 5', ...), Reference(title='Initial sequencing and analysis of the human genome', ...)], 'comment': 'REFSEQ INFORMATION: The reference sequence is identical to\\nCM000667.2.\\nOn Feb 3, 2014 this sequence version replaced NC_000005.9.\\nAssembly Name: GRCh38.p14 Primary Assembly\\nThe DNA sequence is composed of genomic sequence, primarily\\nfinished clones that were sequenced as part of the Human Genome\\nProject. PCR products and WGS shotgun sequence have been added\\nwhere necessary to fill gaps or correct errors. All such additions\\nare manually curated by GRC staff. For more information see:\\nhttps://genomereference.org.', 'structured_comment': defaultdict(<class 'dict'>, {'Genome-Annotation-Data': {'Annotation Provider': 'NCBI RefSeq', 'Annotation Status': 'Updated annotation', 'Annotation Name': 'GCF_000001405.40-RS_2023_10', 'Annotation Pipeline': 'NCBI eukaryotic genome annotation pipeline', 'Annotation Software Version': '10.2', 'Annotation Method': 'Best-placed RefSeq; Gnomon; RefSeqFE; cmsearch; tRNAscan-SE', 'Features Annotated': 'Gene; mRNA; CDS; ncRNA', 'Annotation Date': '10/02/2023'}})}\n"
     ]
    }
   ],
   "source": [
    "print(record3.annotations)"
   ]
  },
  {
   "cell_type": "code",
   "execution_count": 39,
   "id": "95323363",
   "metadata": {},
   "outputs": [
    {
     "name": "stdout",
     "output_type": "stream",
     "text": [
      "['BioProject:PRJNA168', 'Assembly:GCF_000001405.40']\n",
      "Homo sapiens (human)\n",
      "['Eukaryota', 'Metazoa', 'Chordata', 'Craniata', 'Vertebrata', 'Euteleostomi', 'Mammalia', 'Eutheria', 'Euarchontoglires', 'Primates', 'Haplorrhini', 'Catarrhini', 'Hominidae', 'Homo']\n"
     ]
    }
   ],
   "source": [
    "print(record3.dbxrefs)\n",
    "print(record3.annotations[\"source\"] )\n",
    "print(record3.annotations[\"taxonomy\"])"
   ]
  },
  {
   "cell_type": "code",
   "execution_count": 40,
   "id": "aef2ba1e",
   "metadata": {},
   "outputs": [
    {
     "name": "stdout",
     "output_type": "stream",
     "text": [
      "Temos 18 features\n"
     ]
    },
    {
     "data": {
      "text/plain": [
       "[SeqFeature(SimpleLocation(ExactPosition(0), ExactPosition(4589), strand=1), type='source', qualifiers=...),\n",
       " SeqFeature(SimpleLocation(BeforePosition(0), ExactPosition(146), strand=1), type='misc_feature', qualifiers=...),\n",
       " SeqFeature(SimpleLocation(BeforePosition(0), ExactPosition(146), strand=1), type='regulatory', qualifiers=...),\n",
       " SeqFeature(SimpleLocation(ExactPosition(0), ExactPosition(4589), strand=1), type='gene', qualifiers=...),\n",
       " SeqFeature(CompoundLocation([SimpleLocation(ExactPosition(0), ExactPosition(109), strand=1), SimpleLocation(ExactPosition(544), ExactPosition(723), strand=1), SimpleLocation(ExactPosition(1768), ExactPosition(1839), strand=1), SimpleLocation(ExactPosition(2896), ExactPosition(2950), strand=1), SimpleLocation(ExactPosition(3202), ExactPosition(3307), strand=1), SimpleLocation(ExactPosition(3653), ExactPosition(4589), strand=1)], 'join'), type='mRNA', location_operator='join', qualifiers=...),\n",
       " SeqFeature(CompoundLocation([SimpleLocation(ExactPosition(0), ExactPosition(109), strand=1), SimpleLocation(ExactPosition(544), ExactPosition(723), strand=1), SimpleLocation(ExactPosition(2896), ExactPosition(2950), strand=1), SimpleLocation(ExactPosition(3202), ExactPosition(3307), strand=1), SimpleLocation(ExactPosition(3653), ExactPosition(4589), strand=1)], 'join'), type='mRNA', location_operator='join', qualifiers=...),\n",
       " SeqFeature(CompoundLocation([SimpleLocation(ExactPosition(0), ExactPosition(109), strand=1), SimpleLocation(ExactPosition(1768), ExactPosition(1839), strand=1), SimpleLocation(ExactPosition(2896), ExactPosition(2950), strand=1), SimpleLocation(ExactPosition(3202), ExactPosition(3307), strand=1), SimpleLocation(ExactPosition(3653), ExactPosition(4589), strand=1)], 'join'), type='mRNA', location_operator='join', qualifiers=...),\n",
       " SeqFeature(SimpleLocation(ExactPosition(206), ExactPosition(296), strand=1), type='misc_feature', qualifiers=...),\n",
       " SeqFeature(SimpleLocation(ExactPosition(206), ExactPosition(296), strand=1), type='regulatory', qualifiers=...),\n",
       " SeqFeature(SimpleLocation(ExactPosition(376), ExactPosition(436), strand=1), type='misc_feature', qualifiers=...),\n",
       " SeqFeature(SimpleLocation(ExactPosition(376), ExactPosition(436), strand=1), type='regulatory', qualifiers=...),\n",
       " SeqFeature(CompoundLocation([SimpleLocation(ExactPosition(1651), ExactPosition(1839), strand=1), SimpleLocation(ExactPosition(2896), ExactPosition(2950), strand=1), SimpleLocation(ExactPosition(3202), ExactPosition(3307), strand=1), SimpleLocation(ExactPosition(3653), ExactPosition(4589), strand=1)], 'join'), type='mRNA', location_operator='join', qualifiers=...),\n",
       " SeqFeature(CompoundLocation([SimpleLocation(ExactPosition(1665), ExactPosition(1839), strand=1), SimpleLocation(ExactPosition(2896), ExactPosition(2950), strand=1), SimpleLocation(ExactPosition(3202), ExactPosition(3307), strand=1), SimpleLocation(ExactPosition(3653), ExactPosition(3761), strand=1)], 'join'), type='CDS', location_operator='join', qualifiers=...),\n",
       " SeqFeature(SimpleLocation(ExactPosition(1665), ExactPosition(1725), strand=1), type='sig_peptide', qualifiers=...),\n",
       " SeqFeature(CompoundLocation([SimpleLocation(ExactPosition(1725), ExactPosition(1839), strand=1), SimpleLocation(ExactPosition(2896), ExactPosition(2950), strand=1), SimpleLocation(ExactPosition(3202), ExactPosition(3307), strand=1), SimpleLocation(ExactPosition(3653), ExactPosition(3716), strand=1)], 'join'), type='mat_peptide', location_operator='join', qualifiers=...),\n",
       " SeqFeature(CompoundLocation([SimpleLocation(ExactPosition(2917), ExactPosition(2950), strand=1), SimpleLocation(ExactPosition(3202), ExactPosition(3307), strand=1), SimpleLocation(ExactPosition(3653), ExactPosition(3761), strand=1)], 'join'), type='CDS', location_operator='join', qualifiers=...),\n",
       " SeqFeature(CompoundLocation([SimpleLocation(ExactPosition(2917), ExactPosition(2950), strand=1), SimpleLocation(ExactPosition(3202), ExactPosition(3307), strand=1), SimpleLocation(ExactPosition(3653), ExactPosition(3761), strand=1)], 'join'), type='CDS', location_operator='join', qualifiers=...),\n",
       " SeqFeature(CompoundLocation([SimpleLocation(ExactPosition(2917), ExactPosition(2950), strand=1), SimpleLocation(ExactPosition(3202), ExactPosition(3307), strand=1), SimpleLocation(ExactPosition(3653), ExactPosition(3761), strand=1)], 'join'), type='CDS', location_operator='join', qualifiers=...)]"
      ]
     },
     "execution_count": 40,
     "metadata": {},
     "output_type": "execute_result"
    }
   ],
   "source": [
    "print(\"Temos\", len(record3.features), \"features\")\n",
    "record3.features"
   ]
  },
  {
   "cell_type": "code",
   "execution_count": 41,
   "id": "c19540f7",
   "metadata": {},
   "outputs": [
    {
     "name": "stdout",
     "output_type": "stream",
     "text": [
      "source [0:4589](+)\n",
      "misc_feature [<0:146](+)\n",
      "regulatory [<0:146](+)\n",
      "gene [0:4589](+)\n",
      "mRNA join{[0:109](+), [544:723](+), [1768:1839](+), [2896:2950](+), [3202:3307](+), [3653:4589](+)}\n",
      "mRNA join{[0:109](+), [544:723](+), [2896:2950](+), [3202:3307](+), [3653:4589](+)}\n",
      "mRNA join{[0:109](+), [1768:1839](+), [2896:2950](+), [3202:3307](+), [3653:4589](+)}\n",
      "misc_feature [206:296](+)\n",
      "regulatory [206:296](+)\n",
      "misc_feature [376:436](+)\n",
      "regulatory [376:436](+)\n",
      "mRNA join{[1651:1839](+), [2896:2950](+), [3202:3307](+), [3653:4589](+)}\n",
      "CDS join{[1665:1839](+), [2896:2950](+), [3202:3307](+), [3653:3761](+)}\n",
      "sig_peptide [1665:1725](+)\n",
      "mat_peptide join{[1725:1839](+), [2896:2950](+), [3202:3307](+), [3653:3716](+)}\n",
      "CDS join{[2917:2950](+), [3202:3307](+), [3653:3761](+)}\n",
      "CDS join{[2917:2950](+), [3202:3307](+), [3653:3761](+)}\n",
      "CDS join{[2917:2950](+), [3202:3307](+), [3653:3761](+)}\n"
     ]
    }
   ],
   "source": [
    "for t in record3.features:\n",
    "    print(t.type, t.location)"
   ]
  },
  {
   "cell_type": "code",
   "execution_count": 42,
   "id": "ab11ae66",
   "metadata": {},
   "outputs": [
    {
     "data": {
      "text/plain": [
       "[12, 15, 16, 17]"
      ]
     },
     "execution_count": 42,
     "metadata": {},
     "output_type": "execute_result"
    }
   ],
   "source": [
    "feat_cds= []\n",
    "for i in range(len(record3.features)):\n",
    "    if record3.features[i].type == \"CDS\":\n",
    "        feat_cds.append(i)\n",
    "feat_cds"
   ]
  },
  {
   "cell_type": "code",
   "execution_count": 43,
   "id": "89b6f09a",
   "metadata": {},
   "outputs": [
    {
     "name": "stdout",
     "output_type": "stream",
     "text": [
      "{'gene': ['IL13'], 'gene_synonym': ['IL-13; P600'], 'note': ['isoform 1 precursor is encoded by transcript variant 1; Derived by automated computational analysis using gene prediction method: BestRefSeq.'], 'codon_start': ['1'], 'product': ['interleukin-13 isoform 1 precursor'], 'protein_id': ['NP_002179.2'], 'db_xref': ['CCDS:CCDS4157.1', 'Ensembl:ENSP00000304915.3', 'GeneID:3596', 'HGNC:HGNC:5973', 'MIM:147683'], 'translation': ['MHPLLNPLLLALGLMALLLTTVIALTCLGGFASPGPVPPSTALRELIEELVNITQNQKAPLCNGSMVWSINLTAGMYCAALESLINVSGCSAIEKTQRMLSGFCPHKVSAGQFSSLHVRDTKIEVAQFVKDLLLHLKKLFREGQFN']}\n",
      "{'gene': ['IL13'], 'gene_synonym': ['IL-13; P600'], 'note': ['isoform b is encoded by transcript variant 4; Derived by automated computational analysis using gene prediction method: BestRefSeq.'], 'codon_start': ['1'], 'product': ['interleukin-13 isoform b'], 'protein_id': ['NP_001341922.1'], 'db_xref': ['GeneID:3596', 'HGNC:HGNC:5973', 'MIM:147683'], 'translation': ['MVWSINLTAGMYCAALESLINVSGCSAIEKTQRMLSGFCPHKVSAGQFSSLHVRDTKIEVAQFVKDLLLHLKKLFREGQFN']}\n",
      "{'gene': ['IL13'], 'gene_synonym': ['IL-13; P600'], 'note': ['isoform b is encoded by transcript variant 3; Derived by automated computational analysis using gene prediction method: BestRefSeq.'], 'codon_start': ['1'], 'product': ['interleukin-13 isoform b'], 'protein_id': ['NP_001341921.1'], 'db_xref': ['GeneID:3596', 'HGNC:HGNC:5973', 'MIM:147683'], 'translation': ['MVWSINLTAGMYCAALESLINVSGCSAIEKTQRMLSGFCPHKVSAGQFSSLHVRDTKIEVAQFVKDLLLHLKKLFREGQFN']}\n",
      "{'gene': ['IL13'], 'gene_synonym': ['IL-13; P600'], 'note': ['isoform b is encoded by transcript variant 2; Derived by automated computational analysis using gene prediction method: BestRefSeq.'], 'codon_start': ['1'], 'product': ['interleukin-13 isoform b'], 'protein_id': ['NP_001341920.1'], 'db_xref': ['GeneID:3596', 'HGNC:HGNC:5973', 'MIM:147683'], 'translation': ['MVWSINLTAGMYCAALESLINVSGCSAIEKTQRMLSGFCPHKVSAGQFSSLHVRDTKIEVAQFVKDLLLHLKKLFREGQFN']}\n"
     ]
    }
   ],
   "source": [
    "print(record3.features[12].qualifiers)\n",
    "print(record3.features[15].qualifiers)\n",
    "print(record3.features[16].qualifiers)\n",
    "print(record3.features[17].qualifiers)"
   ]
  },
  {
   "cell_type": "code",
   "execution_count": 44,
   "id": "68d4274e",
   "metadata": {},
   "outputs": [
    {
     "name": "stdout",
     "output_type": "stream",
     "text": [
      "DNA:  ATGCATCCGCTCCTCAATCCTCTCCTGTTGGCACTGGGCCTCATGGCGCTTTTGTTGACCACGGTCATTGCTCTCACTTGCCTTGGCGGCTTTGCCTCCCCAGGCCCTGTGCCTCCCTCTACAGCCCTCAGGGAGCTCATTGAGGAGCTGGTCAACATCACCCAGAACCAGAAGGCTCCGCTCTGCAATGGCAGCATGGTATGGAGCATCAACCTGACAGCTGGCATGTACTGTGCAGCCCTGGAATCCCTGATCAACGTGTCAGGCTGCAGTGCCATCGAGAAGACCCAGAGGATGCTGAGCGGATTCTGCCCGCACAAGGTCTCAGCTGGGCAGTTTTCCAGCTTGCATGTCCGAGACACCAAAATCGAGGTGGCCCAGTTTGTAAAGGACCTGCTCTTACATTTAAAGAAACTTTTTCGCGAGGGACAGTTCAACTGA\n",
      "Proteína:  MHPLLNPLLLALGLMALLLTTVIALTCLGGFASPGPVPPSTALRELIEELVNITQNQKAPLCNGSMVWSINLTAGMYCAALESLINVSGCSAIEKTQRMLSGFCPHKVSAGQFSSLHVRDTKIEVAQFVKDLLLHLKKLFREGQFN*\n",
      "DNA:  ATGGTATGGAGCATCAACCTGACAGCTGGCATGTACTGTGCAGCCCTGGAATCCCTGATCAACGTGTCAGGCTGCAGTGCCATCGAGAAGACCCAGAGGATGCTGAGCGGATTCTGCCCGCACAAGGTCTCAGCTGGGCAGTTTTCCAGCTTGCATGTCCGAGACACCAAAATCGAGGTGGCCCAGTTTGTAAAGGACCTGCTCTTACATTTAAAGAAACTTTTTCGCGAGGGACAGTTCAACTGA\n",
      "Proteína:  MVWSINLTAGMYCAALESLINVSGCSAIEKTQRMLSGFCPHKVSAGQFSSLHVRDTKIEVAQFVKDLLLHLKKLFREGQFN*\n",
      "DNA:  ATGGTATGGAGCATCAACCTGACAGCTGGCATGTACTGTGCAGCCCTGGAATCCCTGATCAACGTGTCAGGCTGCAGTGCCATCGAGAAGACCCAGAGGATGCTGAGCGGATTCTGCCCGCACAAGGTCTCAGCTGGGCAGTTTTCCAGCTTGCATGTCCGAGACACCAAAATCGAGGTGGCCCAGTTTGTAAAGGACCTGCTCTTACATTTAAAGAAACTTTTTCGCGAGGGACAGTTCAACTGA\n",
      "Proteína:  MVWSINLTAGMYCAALESLINVSGCSAIEKTQRMLSGFCPHKVSAGQFSSLHVRDTKIEVAQFVKDLLLHLKKLFREGQFN*\n",
      "DNA:  ATGGTATGGAGCATCAACCTGACAGCTGGCATGTACTGTGCAGCCCTGGAATCCCTGATCAACGTGTCAGGCTGCAGTGCCATCGAGAAGACCCAGAGGATGCTGAGCGGATTCTGCCCGCACAAGGTCTCAGCTGGGCAGTTTTCCAGCTTGCATGTCCGAGACACCAAAATCGAGGTGGCCCAGTTTGTAAAGGACCTGCTCTTACATTTAAAGAAACTTTTTCGCGAGGGACAGTTCAACTGA\n",
      "Proteína:  MVWSINLTAGMYCAALESLINVSGCSAIEKTQRMLSGFCPHKVSAGQFSSLHVRDTKIEVAQFVKDLLLHLKKLFREGQFN*\n"
     ]
    }
   ],
   "source": [
    "for i in feat_cds:\n",
    "    coding_dna = record3.features[i].extract(record3.seq)\n",
    "    print(\"DNA: \", coding_dna)\n",
    "    print(\"Proteína: \", coding_dna.translate())"
   ]
  },
  {
   "cell_type": "code",
   "execution_count": 45,
   "id": "d5c9bfb7",
   "metadata": {},
   "outputs": [
    {
     "name": "stdout",
     "output_type": "stream",
     "text": [
      "Número de features tipo gene:  1\n"
     ]
    }
   ],
   "source": [
    "feat_gene = []\n",
    "for j in range(len(record3.features)):\n",
    "    if record3.features[j].type == 'gene':\n",
    "        feat_gene.append(j)\n",
    "print('Número de features tipo gene: ', len(feat_gene))"
   ]
  },
  {
   "cell_type": "markdown",
   "id": "6fcbd9fd",
   "metadata": {},
   "source": [
    "## Gene STAT6 (Signal transducer and activator of transcription 6)"
   ]
  },
  {
   "cell_type": "code",
   "execution_count": 46,
   "id": "862325b2",
   "metadata": {},
   "outputs": [
    {
     "data": {
      "text/plain": [
       "SeqRecord(seq=Seq('GGGGCAGCCACTGCTTACACTGAAGAGGGAGGACGGGAGAGGAGTGTGTGTGTG...AAA'), id='NC_000012.12', name='NC_000012', description='Homo sapiens chromosome 12, GRCh38.p14 Primary Assembly', dbxrefs=['BioProject:PRJNA168', 'Assembly:GCF_000001405.40'])"
      ]
     },
     "execution_count": 46,
     "metadata": {},
     "output_type": "execute_result"
    }
   ],
   "source": [
    "record4 = SeqIO.read(\"STAT6.gb\", \"genbank\") \n",
    "record4"
   ]
  },
  {
   "cell_type": "code",
   "execution_count": 47,
   "id": "88d61752",
   "metadata": {},
   "outputs": [
    {
     "name": "stdout",
     "output_type": "stream",
     "text": [
      "15955\n",
      "NC_000012.12\n",
      "Homo sapiens chromosome 12, GRCh38.p14 Primary Assembly\n",
      "NC_000012\n"
     ]
    }
   ],
   "source": [
    "print(len(record4.seq))\n",
    "print(record4.id)\n",
    "print(record4.description)\n",
    "print(record4.name)"
   ]
  },
  {
   "cell_type": "code",
   "execution_count": 49,
   "id": "ee353d00",
   "metadata": {},
   "outputs": [
    {
     "name": "stdout",
     "output_type": "stream",
     "text": [
      "{'molecule_type': 'DNA', 'topology': 'linear', 'data_file_division': 'CON', 'date': '07-OCT-2023', 'accessions': ['NC_000012', 'REGION:', 'complement(57095408..57111362)'], 'sequence_version': 12, 'keywords': ['RefSeq'], 'source': 'Homo sapiens (human)', 'organism': 'Homo sapiens', 'taxonomy': ['Eukaryota', 'Metazoa', 'Chordata', 'Craniata', 'Vertebrata', 'Euteleostomi', 'Mammalia', 'Eutheria', 'Euarchontoglires', 'Primates', 'Haplorrhini', 'Catarrhini', 'Hominidae', 'Homo'], 'references': [Reference(title='The finished DNA sequence of human chromosome 12', ...), Reference(title='Finishing the euchromatic sequence of the human genome', ...), Reference(title='Initial sequencing and analysis of the human genome', ...)], 'comment': 'REFSEQ INFORMATION: The reference sequence is identical to\\nCM000674.2.\\nOn Feb 3, 2014 this sequence version replaced NC_000012.11.\\nAssembly Name: GRCh38.p14 Primary Assembly\\nThe DNA sequence is composed of genomic sequence, primarily\\nfinished clones that were sequenced as part of the Human Genome\\nProject. PCR products and WGS shotgun sequence have been added\\nwhere necessary to fill gaps or correct errors. All such additions\\nare manually curated by GRC staff. For more information see:\\nhttps://genomereference.org.', 'structured_comment': defaultdict(<class 'dict'>, {'Genome-Annotation-Data': {'Annotation Provider': 'NCBI RefSeq', 'Annotation Status': 'Updated annotation', 'Annotation Name': 'GCF_000001405.40-RS_2023_10', 'Annotation Pipeline': 'NCBI eukaryotic genome annotation pipeline', 'Annotation Software Version': '10.2', 'Annotation Method': 'Best-placed RefSeq; Gnomon; RefSeqFE; cmsearch; tRNAscan-SE', 'Features Annotated': 'Gene; mRNA; CDS; ncRNA', 'Annotation Date': '10/02/2023'}})}\n"
     ]
    }
   ],
   "source": [
    "print(record4.annotations)"
   ]
  },
  {
   "cell_type": "code",
   "execution_count": 50,
   "id": "c390d32f",
   "metadata": {},
   "outputs": [
    {
     "name": "stdout",
     "output_type": "stream",
     "text": [
      "['BioProject:PRJNA168', 'Assembly:GCF_000001405.40']\n",
      "Homo sapiens (human)\n",
      "['Eukaryota', 'Metazoa', 'Chordata', 'Craniata', 'Vertebrata', 'Euteleostomi', 'Mammalia', 'Eutheria', 'Euarchontoglires', 'Primates', 'Haplorrhini', 'Catarrhini', 'Hominidae', 'Homo']\n"
     ]
    }
   ],
   "source": [
    "print(record4.dbxrefs)\n",
    "print(record4.annotations[\"source\"] )\n",
    "print(record4.annotations[\"taxonomy\"])"
   ]
  },
  {
   "cell_type": "code",
   "execution_count": 51,
   "id": "daf9da61",
   "metadata": {},
   "outputs": [
    {
     "name": "stdout",
     "output_type": "stream",
     "text": [
      "Temos 28 features\n"
     ]
    },
    {
     "data": {
      "text/plain": [
       "[SeqFeature(SimpleLocation(ExactPosition(0), ExactPosition(15955), strand=1), type='source', qualifiers=...),\n",
       " SeqFeature(SimpleLocation(BeforePosition(0), ExactPosition(641), strand=-1), type='gene', qualifiers=...),\n",
       " SeqFeature(SimpleLocation(BeforePosition(0), ExactPosition(641), strand=-1), type='ncRNA', qualifiers=...),\n",
       " SeqFeature(SimpleLocation(ExactPosition(0), ExactPosition(15955), strand=1), type='gene', qualifiers=...),\n",
       " SeqFeature(CompoundLocation([SimpleLocation(ExactPosition(0), ExactPosition(234), strand=1), SimpleLocation(ExactPosition(4048), ExactPosition(4132), strand=1), SimpleLocation(ExactPosition(4531), ExactPosition(4670), strand=1), SimpleLocation(ExactPosition(4782), ExactPosition(4835), strand=1), SimpleLocation(ExactPosition(5023), ExactPosition(5172), strand=1), SimpleLocation(ExactPosition(5763), ExactPosition(5895), strand=1), SimpleLocation(ExactPosition(6023), ExactPosition(6212), strand=1), SimpleLocation(ExactPosition(6549), ExactPosition(6637), strand=1), SimpleLocation(ExactPosition(6776), ExactPosition(6899), strand=1), SimpleLocation(ExactPosition(8441), ExactPosition(8534), strand=1), SimpleLocation(ExactPosition(8866), ExactPosition(9073), strand=1), SimpleLocation(ExactPosition(11272), ExactPosition(11367), strand=1), SimpleLocation(ExactPosition(11459), ExactPosition(11596), strand=1), SimpleLocation(ExactPosition(11922), ExactPosition(12069), strand=1), SimpleLocation(ExactPosition(12284), ExactPosition(12348), strand=1), SimpleLocation(ExactPosition(12460), ExactPosition(12571), strand=1), SimpleLocation(ExactPosition(12765), ExactPosition(12858), strand=1), SimpleLocation(ExactPosition(14229), ExactPosition(14295), strand=1), SimpleLocation(ExactPosition(14384), ExactPosition(14513), strand=1), SimpleLocation(ExactPosition(14601), ExactPosition(15955), strand=1)], 'join'), type='mRNA', location_operator='join', qualifiers=...),\n",
       " SeqFeature(CompoundLocation([SimpleLocation(ExactPosition(0), ExactPosition(234), strand=1), SimpleLocation(ExactPosition(3619), ExactPosition(3758), strand=1), SimpleLocation(ExactPosition(4048), ExactPosition(4132), strand=1), SimpleLocation(ExactPosition(4531), ExactPosition(4670), strand=1), SimpleLocation(ExactPosition(4782), ExactPosition(4835), strand=1), SimpleLocation(ExactPosition(5023), ExactPosition(5172), strand=1), SimpleLocation(ExactPosition(5763), ExactPosition(5895), strand=1), SimpleLocation(ExactPosition(6023), ExactPosition(6212), strand=1), SimpleLocation(ExactPosition(6549), ExactPosition(6637), strand=1), SimpleLocation(ExactPosition(6776), ExactPosition(6899), strand=1), SimpleLocation(ExactPosition(8441), ExactPosition(8534), strand=1), SimpleLocation(ExactPosition(8866), ExactPosition(9073), strand=1), SimpleLocation(ExactPosition(11272), ExactPosition(11367), strand=1), SimpleLocation(ExactPosition(11459), ExactPosition(11596), strand=1), SimpleLocation(ExactPosition(11922), ExactPosition(12069), strand=1), SimpleLocation(ExactPosition(12284), ExactPosition(12348), strand=1), SimpleLocation(ExactPosition(12460), ExactPosition(12571), strand=1), SimpleLocation(ExactPosition(12765), ExactPosition(12858), strand=1), SimpleLocation(ExactPosition(14229), ExactPosition(14295), strand=1), SimpleLocation(ExactPosition(14384), ExactPosition(14513), strand=1), SimpleLocation(ExactPosition(14601), ExactPosition(15955), strand=1)], 'join'), type='mRNA', location_operator='join', qualifiers=...),\n",
       " SeqFeature(CompoundLocation([SimpleLocation(ExactPosition(0), ExactPosition(234), strand=1), SimpleLocation(ExactPosition(3063), ExactPosition(3200), strand=1), SimpleLocation(ExactPosition(4048), ExactPosition(4132), strand=1), SimpleLocation(ExactPosition(4531), ExactPosition(4670), strand=1), SimpleLocation(ExactPosition(4782), ExactPosition(4835), strand=1), SimpleLocation(ExactPosition(5023), ExactPosition(5172), strand=1), SimpleLocation(ExactPosition(5763), ExactPosition(5895), strand=1), SimpleLocation(ExactPosition(6023), ExactPosition(6212), strand=1), SimpleLocation(ExactPosition(6549), ExactPosition(6637), strand=1), SimpleLocation(ExactPosition(6776), ExactPosition(6899), strand=1), SimpleLocation(ExactPosition(8441), ExactPosition(8534), strand=1), SimpleLocation(ExactPosition(8866), ExactPosition(9073), strand=1), SimpleLocation(ExactPosition(11272), ExactPosition(11367), strand=1), SimpleLocation(ExactPosition(11459), ExactPosition(11596), strand=1), SimpleLocation(ExactPosition(11922), ExactPosition(12069), strand=1), SimpleLocation(ExactPosition(12284), ExactPosition(12348), strand=1), SimpleLocation(ExactPosition(12460), ExactPosition(12571), strand=1), SimpleLocation(ExactPosition(12765), ExactPosition(12858), strand=1), SimpleLocation(ExactPosition(14229), ExactPosition(14295), strand=1), SimpleLocation(ExactPosition(14384), ExactPosition(14513), strand=1), SimpleLocation(ExactPosition(14601), ExactPosition(15955), strand=1)], 'join'), type='misc_RNA', location_operator='join', qualifiers=...),\n",
       " SeqFeature(CompoundLocation([SimpleLocation(ExactPosition(0), ExactPosition(234), strand=1), SimpleLocation(ExactPosition(3063), ExactPosition(3200), strand=1), SimpleLocation(ExactPosition(3619), ExactPosition(3758), strand=1), SimpleLocation(ExactPosition(4048), ExactPosition(4132), strand=1), SimpleLocation(ExactPosition(4531), ExactPosition(4670), strand=1), SimpleLocation(ExactPosition(4782), ExactPosition(4835), strand=1), SimpleLocation(ExactPosition(5023), ExactPosition(5172), strand=1), SimpleLocation(ExactPosition(5763), ExactPosition(5895), strand=1), SimpleLocation(ExactPosition(6023), ExactPosition(6212), strand=1), SimpleLocation(ExactPosition(6549), ExactPosition(6637), strand=1), SimpleLocation(ExactPosition(6776), ExactPosition(6899), strand=1), SimpleLocation(ExactPosition(8441), ExactPosition(8534), strand=1), SimpleLocation(ExactPosition(8866), ExactPosition(9073), strand=1), SimpleLocation(ExactPosition(11272), ExactPosition(11367), strand=1), SimpleLocation(ExactPosition(11459), ExactPosition(11596), strand=1), SimpleLocation(ExactPosition(11922), ExactPosition(12069), strand=1), SimpleLocation(ExactPosition(12284), ExactPosition(12348), strand=1), SimpleLocation(ExactPosition(12460), ExactPosition(12571), strand=1), SimpleLocation(ExactPosition(12765), ExactPosition(12858), strand=1), SimpleLocation(ExactPosition(14229), ExactPosition(14295), strand=1), SimpleLocation(ExactPosition(14384), ExactPosition(14513), strand=1), SimpleLocation(ExactPosition(14601), ExactPosition(15955), strand=1)], 'join'), type='mRNA', location_operator='join', qualifiers=...),\n",
       " SeqFeature(CompoundLocation([SimpleLocation(ExactPosition(0), ExactPosition(234), strand=1), SimpleLocation(ExactPosition(1252), ExactPosition(1286), strand=1), SimpleLocation(ExactPosition(3063), ExactPosition(3200), strand=1), SimpleLocation(ExactPosition(3619), ExactPosition(3758), strand=1), SimpleLocation(ExactPosition(4048), ExactPosition(4132), strand=1), SimpleLocation(ExactPosition(4531), ExactPosition(4670), strand=1), SimpleLocation(ExactPosition(4782), ExactPosition(4835), strand=1), SimpleLocation(ExactPosition(5023), ExactPosition(5172), strand=1), SimpleLocation(ExactPosition(5763), ExactPosition(5895), strand=1), SimpleLocation(ExactPosition(6023), ExactPosition(6212), strand=1), SimpleLocation(ExactPosition(6549), ExactPosition(6637), strand=1), SimpleLocation(ExactPosition(6776), ExactPosition(6899), strand=1), SimpleLocation(ExactPosition(8441), ExactPosition(8534), strand=1), SimpleLocation(ExactPosition(8866), ExactPosition(9073), strand=1), SimpleLocation(ExactPosition(11272), ExactPosition(11367), strand=1), SimpleLocation(ExactPosition(11459), ExactPosition(11596), strand=1), SimpleLocation(ExactPosition(11922), ExactPosition(12069), strand=1), SimpleLocation(ExactPosition(12284), ExactPosition(12348), strand=1), SimpleLocation(ExactPosition(12460), ExactPosition(12571), strand=1), SimpleLocation(ExactPosition(12765), ExactPosition(12858), strand=1), SimpleLocation(ExactPosition(14229), ExactPosition(14295), strand=1), SimpleLocation(ExactPosition(14384), ExactPosition(14513), strand=1), SimpleLocation(ExactPosition(14601), ExactPosition(15955), strand=1)], 'join'), type='mRNA', location_operator='join', qualifiers=...),\n",
       " SeqFeature(CompoundLocation([SimpleLocation(ExactPosition(0), ExactPosition(234), strand=1), SimpleLocation(ExactPosition(1252), ExactPosition(1320), strand=1), SimpleLocation(ExactPosition(3063), ExactPosition(3200), strand=1), SimpleLocation(ExactPosition(3619), ExactPosition(3758), strand=1), SimpleLocation(ExactPosition(4048), ExactPosition(4132), strand=1), SimpleLocation(ExactPosition(4531), ExactPosition(4670), strand=1), SimpleLocation(ExactPosition(4782), ExactPosition(4835), strand=1), SimpleLocation(ExactPosition(5023), ExactPosition(5172), strand=1), SimpleLocation(ExactPosition(5763), ExactPosition(5895), strand=1), SimpleLocation(ExactPosition(6023), ExactPosition(6212), strand=1), SimpleLocation(ExactPosition(6549), ExactPosition(6637), strand=1), SimpleLocation(ExactPosition(6776), ExactPosition(6899), strand=1), SimpleLocation(ExactPosition(8441), ExactPosition(8534), strand=1), SimpleLocation(ExactPosition(8866), ExactPosition(9073), strand=1), SimpleLocation(ExactPosition(11272), ExactPosition(11367), strand=1), SimpleLocation(ExactPosition(11459), ExactPosition(11596), strand=1), SimpleLocation(ExactPosition(11922), ExactPosition(12069), strand=1), SimpleLocation(ExactPosition(12284), ExactPosition(12348), strand=1), SimpleLocation(ExactPosition(12460), ExactPosition(12571), strand=1), SimpleLocation(ExactPosition(12765), ExactPosition(12858), strand=1), SimpleLocation(ExactPosition(14229), ExactPosition(14295), strand=1), SimpleLocation(ExactPosition(14384), ExactPosition(14513), strand=1), SimpleLocation(ExactPosition(14601), ExactPosition(15955), strand=1)], 'join'), type='mRNA', location_operator='join', qualifiers=...),\n",
       " SeqFeature(CompoundLocation([SimpleLocation(ExactPosition(0), ExactPosition(234), strand=1), SimpleLocation(ExactPosition(1252), ExactPosition(1422), strand=1), SimpleLocation(ExactPosition(3063), ExactPosition(3200), strand=1), SimpleLocation(ExactPosition(3619), ExactPosition(3758), strand=1), SimpleLocation(ExactPosition(4048), ExactPosition(4132), strand=1), SimpleLocation(ExactPosition(4531), ExactPosition(4670), strand=1), SimpleLocation(ExactPosition(4782), ExactPosition(4835), strand=1), SimpleLocation(ExactPosition(5023), ExactPosition(5172), strand=1), SimpleLocation(ExactPosition(5763), ExactPosition(5895), strand=1), SimpleLocation(ExactPosition(6023), ExactPosition(6212), strand=1), SimpleLocation(ExactPosition(6549), ExactPosition(6637), strand=1), SimpleLocation(ExactPosition(6776), ExactPosition(6899), strand=1), SimpleLocation(ExactPosition(8441), ExactPosition(8534), strand=1), SimpleLocation(ExactPosition(8866), ExactPosition(9073), strand=1), SimpleLocation(ExactPosition(11272), ExactPosition(11367), strand=1), SimpleLocation(ExactPosition(11459), ExactPosition(11596), strand=1), SimpleLocation(ExactPosition(11922), ExactPosition(12069), strand=1), SimpleLocation(ExactPosition(12284), ExactPosition(12348), strand=1), SimpleLocation(ExactPosition(12460), ExactPosition(12571), strand=1), SimpleLocation(ExactPosition(12765), ExactPosition(12858), strand=1), SimpleLocation(ExactPosition(14229), ExactPosition(14295), strand=1), SimpleLocation(ExactPosition(14384), ExactPosition(14513), strand=1), SimpleLocation(ExactPosition(14601), ExactPosition(15955), strand=1)], 'join'), type='mRNA', location_operator='join', qualifiers=...),\n",
       " SeqFeature(CompoundLocation([SimpleLocation(ExactPosition(0), ExactPosition(253), strand=1), SimpleLocation(ExactPosition(3063), ExactPosition(3200), strand=1), SimpleLocation(ExactPosition(3619), ExactPosition(3758), strand=1), SimpleLocation(ExactPosition(4048), ExactPosition(4132), strand=1), SimpleLocation(ExactPosition(4531), ExactPosition(4670), strand=1), SimpleLocation(ExactPosition(4782), ExactPosition(4835), strand=1), SimpleLocation(ExactPosition(5023), ExactPosition(5172), strand=1), SimpleLocation(ExactPosition(5763), ExactPosition(5895), strand=1), SimpleLocation(ExactPosition(6023), ExactPosition(6212), strand=1), SimpleLocation(ExactPosition(6549), ExactPosition(6637), strand=1), SimpleLocation(ExactPosition(6776), ExactPosition(6899), strand=1), SimpleLocation(ExactPosition(8441), ExactPosition(8534), strand=1), SimpleLocation(ExactPosition(8866), ExactPosition(9073), strand=1), SimpleLocation(ExactPosition(11272), ExactPosition(11367), strand=1), SimpleLocation(ExactPosition(11459), ExactPosition(11596), strand=1), SimpleLocation(ExactPosition(11922), ExactPosition(12069), strand=1), SimpleLocation(ExactPosition(12284), ExactPosition(12348), strand=1), SimpleLocation(ExactPosition(12460), ExactPosition(12571), strand=1), SimpleLocation(ExactPosition(12765), ExactPosition(12858), strand=1), SimpleLocation(ExactPosition(14229), ExactPosition(14295), strand=1), SimpleLocation(ExactPosition(14384), ExactPosition(14513), strand=1), SimpleLocation(ExactPosition(14601), ExactPosition(15955), strand=1)], 'join'), type='mRNA', location_operator='join', qualifiers=...),\n",
       " SeqFeature(CompoundLocation([SimpleLocation(ExactPosition(0), ExactPosition(234), strand=1), SimpleLocation(ExactPosition(3063), ExactPosition(3200), strand=1), SimpleLocation(ExactPosition(3619), ExactPosition(3758), strand=1), SimpleLocation(ExactPosition(4048), ExactPosition(4132), strand=1), SimpleLocation(ExactPosition(4531), ExactPosition(4670), strand=1), SimpleLocation(ExactPosition(4782), ExactPosition(4835), strand=1), SimpleLocation(ExactPosition(5023), ExactPosition(5172), strand=1), SimpleLocation(ExactPosition(5763), ExactPosition(5895), strand=1), SimpleLocation(ExactPosition(6023), ExactPosition(6212), strand=1), SimpleLocation(ExactPosition(6549), ExactPosition(6637), strand=1), SimpleLocation(ExactPosition(6776), ExactPosition(6899), strand=1), SimpleLocation(ExactPosition(8441), ExactPosition(8534), strand=1), SimpleLocation(ExactPosition(8866), ExactPosition(9073), strand=1), SimpleLocation(ExactPosition(10463), ExactPosition(11367), strand=1)], 'join'), type='mRNA', location_operator='join', qualifiers=...),\n",
       " SeqFeature(CompoundLocation([SimpleLocation(ExactPosition(1073), ExactPosition(1286), strand=1), SimpleLocation(ExactPosition(3063), ExactPosition(3200), strand=1), SimpleLocation(ExactPosition(3619), ExactPosition(3758), strand=1), SimpleLocation(ExactPosition(4048), ExactPosition(4132), strand=1), SimpleLocation(ExactPosition(4531), ExactPosition(4670), strand=1), SimpleLocation(ExactPosition(4782), ExactPosition(4835), strand=1), SimpleLocation(ExactPosition(5023), ExactPosition(5172), strand=1), SimpleLocation(ExactPosition(5763), ExactPosition(5895), strand=1), SimpleLocation(ExactPosition(6023), ExactPosition(6212), strand=1), SimpleLocation(ExactPosition(6549), ExactPosition(6637), strand=1), SimpleLocation(ExactPosition(6776), ExactPosition(6899), strand=1), SimpleLocation(ExactPosition(8441), ExactPosition(8534), strand=1), SimpleLocation(ExactPosition(8866), ExactPosition(9073), strand=1), SimpleLocation(ExactPosition(11272), ExactPosition(11367), strand=1), SimpleLocation(ExactPosition(11459), ExactPosition(11596), strand=1), SimpleLocation(ExactPosition(11922), ExactPosition(12069), strand=1), SimpleLocation(ExactPosition(12284), ExactPosition(12348), strand=1), SimpleLocation(ExactPosition(12460), ExactPosition(12571), strand=1), SimpleLocation(ExactPosition(12765), ExactPosition(12858), strand=1), SimpleLocation(ExactPosition(14229), ExactPosition(14295), strand=1), SimpleLocation(ExactPosition(14384), ExactPosition(14513), strand=1), SimpleLocation(ExactPosition(14601), ExactPosition(15955), strand=1)], 'join'), type='mRNA', location_operator='join', qualifiers=...),\n",
       " SeqFeature(CompoundLocation([SimpleLocation(ExactPosition(3084), ExactPosition(3200), strand=1), SimpleLocation(ExactPosition(3619), ExactPosition(3758), strand=1), SimpleLocation(ExactPosition(4048), ExactPosition(4132), strand=1), SimpleLocation(ExactPosition(4531), ExactPosition(4670), strand=1), SimpleLocation(ExactPosition(4782), ExactPosition(4835), strand=1), SimpleLocation(ExactPosition(5023), ExactPosition(5172), strand=1), SimpleLocation(ExactPosition(5763), ExactPosition(5895), strand=1), SimpleLocation(ExactPosition(6023), ExactPosition(6212), strand=1), SimpleLocation(ExactPosition(6549), ExactPosition(6637), strand=1), SimpleLocation(ExactPosition(6776), ExactPosition(6899), strand=1), SimpleLocation(ExactPosition(8441), ExactPosition(8534), strand=1), SimpleLocation(ExactPosition(8866), ExactPosition(9073), strand=1), SimpleLocation(ExactPosition(11272), ExactPosition(11367), strand=1), SimpleLocation(ExactPosition(11459), ExactPosition(11596), strand=1), SimpleLocation(ExactPosition(11922), ExactPosition(12069), strand=1), SimpleLocation(ExactPosition(12284), ExactPosition(12348), strand=1), SimpleLocation(ExactPosition(12460), ExactPosition(12571), strand=1), SimpleLocation(ExactPosition(12765), ExactPosition(12858), strand=1), SimpleLocation(ExactPosition(14229), ExactPosition(14295), strand=1), SimpleLocation(ExactPosition(14384), ExactPosition(14513), strand=1), SimpleLocation(ExactPosition(14601), ExactPosition(14791), strand=1)], 'join'), type='CDS', location_operator='join', qualifiers=...),\n",
       " SeqFeature(CompoundLocation([SimpleLocation(ExactPosition(3084), ExactPosition(3200), strand=1), SimpleLocation(ExactPosition(3619), ExactPosition(3758), strand=1), SimpleLocation(ExactPosition(4048), ExactPosition(4132), strand=1), SimpleLocation(ExactPosition(4531), ExactPosition(4670), strand=1), SimpleLocation(ExactPosition(4782), ExactPosition(4835), strand=1), SimpleLocation(ExactPosition(5023), ExactPosition(5172), strand=1), SimpleLocation(ExactPosition(5763), ExactPosition(5895), strand=1), SimpleLocation(ExactPosition(6023), ExactPosition(6212), strand=1), SimpleLocation(ExactPosition(6549), ExactPosition(6637), strand=1), SimpleLocation(ExactPosition(6776), ExactPosition(6899), strand=1), SimpleLocation(ExactPosition(8441), ExactPosition(8534), strand=1), SimpleLocation(ExactPosition(8866), ExactPosition(9073), strand=1), SimpleLocation(ExactPosition(11272), ExactPosition(11367), strand=1), SimpleLocation(ExactPosition(11459), ExactPosition(11596), strand=1), SimpleLocation(ExactPosition(11922), ExactPosition(12069), strand=1), SimpleLocation(ExactPosition(12284), ExactPosition(12348), strand=1), SimpleLocation(ExactPosition(12460), ExactPosition(12571), strand=1), SimpleLocation(ExactPosition(12765), ExactPosition(12858), strand=1), SimpleLocation(ExactPosition(14229), ExactPosition(14295), strand=1), SimpleLocation(ExactPosition(14384), ExactPosition(14513), strand=1), SimpleLocation(ExactPosition(14601), ExactPosition(14791), strand=1)], 'join'), type='CDS', location_operator='join', qualifiers=...),\n",
       " SeqFeature(CompoundLocation([SimpleLocation(ExactPosition(3084), ExactPosition(3200), strand=1), SimpleLocation(ExactPosition(3619), ExactPosition(3758), strand=1), SimpleLocation(ExactPosition(4048), ExactPosition(4132), strand=1), SimpleLocation(ExactPosition(4531), ExactPosition(4670), strand=1), SimpleLocation(ExactPosition(4782), ExactPosition(4835), strand=1), SimpleLocation(ExactPosition(5023), ExactPosition(5172), strand=1), SimpleLocation(ExactPosition(5763), ExactPosition(5895), strand=1), SimpleLocation(ExactPosition(6023), ExactPosition(6212), strand=1), SimpleLocation(ExactPosition(6549), ExactPosition(6637), strand=1), SimpleLocation(ExactPosition(6776), ExactPosition(6899), strand=1), SimpleLocation(ExactPosition(8441), ExactPosition(8534), strand=1), SimpleLocation(ExactPosition(8866), ExactPosition(9073), strand=1), SimpleLocation(ExactPosition(11272), ExactPosition(11367), strand=1), SimpleLocation(ExactPosition(11459), ExactPosition(11596), strand=1), SimpleLocation(ExactPosition(11922), ExactPosition(12069), strand=1), SimpleLocation(ExactPosition(12284), ExactPosition(12348), strand=1), SimpleLocation(ExactPosition(12460), ExactPosition(12571), strand=1), SimpleLocation(ExactPosition(12765), ExactPosition(12858), strand=1), SimpleLocation(ExactPosition(14229), ExactPosition(14295), strand=1), SimpleLocation(ExactPosition(14384), ExactPosition(14513), strand=1), SimpleLocation(ExactPosition(14601), ExactPosition(14791), strand=1)], 'join'), type='CDS', location_operator='join', qualifiers=...),\n",
       " SeqFeature(CompoundLocation([SimpleLocation(ExactPosition(3084), ExactPosition(3200), strand=1), SimpleLocation(ExactPosition(3619), ExactPosition(3758), strand=1), SimpleLocation(ExactPosition(4048), ExactPosition(4132), strand=1), SimpleLocation(ExactPosition(4531), ExactPosition(4670), strand=1), SimpleLocation(ExactPosition(4782), ExactPosition(4835), strand=1), SimpleLocation(ExactPosition(5023), ExactPosition(5172), strand=1), SimpleLocation(ExactPosition(5763), ExactPosition(5895), strand=1), SimpleLocation(ExactPosition(6023), ExactPosition(6212), strand=1), SimpleLocation(ExactPosition(6549), ExactPosition(6637), strand=1), SimpleLocation(ExactPosition(6776), ExactPosition(6899), strand=1), SimpleLocation(ExactPosition(8441), ExactPosition(8534), strand=1), SimpleLocation(ExactPosition(8866), ExactPosition(9073), strand=1), SimpleLocation(ExactPosition(11272), ExactPosition(11367), strand=1), SimpleLocation(ExactPosition(11459), ExactPosition(11596), strand=1), SimpleLocation(ExactPosition(11922), ExactPosition(12069), strand=1), SimpleLocation(ExactPosition(12284), ExactPosition(12348), strand=1), SimpleLocation(ExactPosition(12460), ExactPosition(12571), strand=1), SimpleLocation(ExactPosition(12765), ExactPosition(12858), strand=1), SimpleLocation(ExactPosition(14229), ExactPosition(14295), strand=1), SimpleLocation(ExactPosition(14384), ExactPosition(14513), strand=1), SimpleLocation(ExactPosition(14601), ExactPosition(14791), strand=1)], 'join'), type='CDS', location_operator='join', qualifiers=...),\n",
       " SeqFeature(CompoundLocation([SimpleLocation(ExactPosition(3084), ExactPosition(3200), strand=1), SimpleLocation(ExactPosition(3619), ExactPosition(3758), strand=1), SimpleLocation(ExactPosition(4048), ExactPosition(4132), strand=1), SimpleLocation(ExactPosition(4531), ExactPosition(4670), strand=1), SimpleLocation(ExactPosition(4782), ExactPosition(4835), strand=1), SimpleLocation(ExactPosition(5023), ExactPosition(5172), strand=1), SimpleLocation(ExactPosition(5763), ExactPosition(5895), strand=1), SimpleLocation(ExactPosition(6023), ExactPosition(6212), strand=1), SimpleLocation(ExactPosition(6549), ExactPosition(6637), strand=1), SimpleLocation(ExactPosition(6776), ExactPosition(6899), strand=1), SimpleLocation(ExactPosition(8441), ExactPosition(8534), strand=1), SimpleLocation(ExactPosition(8866), ExactPosition(9073), strand=1), SimpleLocation(ExactPosition(11272), ExactPosition(11367), strand=1), SimpleLocation(ExactPosition(11459), ExactPosition(11596), strand=1), SimpleLocation(ExactPosition(11922), ExactPosition(12069), strand=1), SimpleLocation(ExactPosition(12284), ExactPosition(12348), strand=1), SimpleLocation(ExactPosition(12460), ExactPosition(12571), strand=1), SimpleLocation(ExactPosition(12765), ExactPosition(12858), strand=1), SimpleLocation(ExactPosition(14229), ExactPosition(14295), strand=1), SimpleLocation(ExactPosition(14384), ExactPosition(14513), strand=1), SimpleLocation(ExactPosition(14601), ExactPosition(14791), strand=1)], 'join'), type='CDS', location_operator='join', qualifiers=...),\n",
       " SeqFeature(CompoundLocation([SimpleLocation(ExactPosition(3084), ExactPosition(3200), strand=1), SimpleLocation(ExactPosition(3619), ExactPosition(3758), strand=1), SimpleLocation(ExactPosition(4048), ExactPosition(4132), strand=1), SimpleLocation(ExactPosition(4531), ExactPosition(4670), strand=1), SimpleLocation(ExactPosition(4782), ExactPosition(4835), strand=1), SimpleLocation(ExactPosition(5023), ExactPosition(5172), strand=1), SimpleLocation(ExactPosition(5763), ExactPosition(5895), strand=1), SimpleLocation(ExactPosition(6023), ExactPosition(6212), strand=1), SimpleLocation(ExactPosition(6549), ExactPosition(6637), strand=1), SimpleLocation(ExactPosition(6776), ExactPosition(6899), strand=1), SimpleLocation(ExactPosition(8441), ExactPosition(8534), strand=1), SimpleLocation(ExactPosition(8866), ExactPosition(9073), strand=1), SimpleLocation(ExactPosition(11272), ExactPosition(11367), strand=1), SimpleLocation(ExactPosition(11459), ExactPosition(11596), strand=1), SimpleLocation(ExactPosition(11922), ExactPosition(12069), strand=1), SimpleLocation(ExactPosition(12284), ExactPosition(12348), strand=1), SimpleLocation(ExactPosition(12460), ExactPosition(12571), strand=1), SimpleLocation(ExactPosition(12765), ExactPosition(12858), strand=1), SimpleLocation(ExactPosition(14229), ExactPosition(14295), strand=1), SimpleLocation(ExactPosition(14384), ExactPosition(14513), strand=1), SimpleLocation(ExactPosition(14601), ExactPosition(14791), strand=1)], 'join'), type='CDS', location_operator='join', qualifiers=...),\n",
       " SeqFeature(CompoundLocation([SimpleLocation(ExactPosition(3084), ExactPosition(3200), strand=1), SimpleLocation(ExactPosition(3619), ExactPosition(3758), strand=1), SimpleLocation(ExactPosition(4048), ExactPosition(4132), strand=1), SimpleLocation(ExactPosition(4531), ExactPosition(4670), strand=1), SimpleLocation(ExactPosition(4782), ExactPosition(4835), strand=1), SimpleLocation(ExactPosition(5023), ExactPosition(5172), strand=1), SimpleLocation(ExactPosition(5763), ExactPosition(5895), strand=1), SimpleLocation(ExactPosition(6023), ExactPosition(6212), strand=1), SimpleLocation(ExactPosition(6549), ExactPosition(6637), strand=1), SimpleLocation(ExactPosition(6776), ExactPosition(6899), strand=1), SimpleLocation(ExactPosition(8441), ExactPosition(8534), strand=1), SimpleLocation(ExactPosition(8866), ExactPosition(9073), strand=1), SimpleLocation(ExactPosition(10463), ExactPosition(10814), strand=1)], 'join'), type='CDS', location_operator='join', qualifiers=...),\n",
       " SeqFeature(CompoundLocation([SimpleLocation(ExactPosition(4123), ExactPosition(4132), strand=1), SimpleLocation(ExactPosition(4531), ExactPosition(4670), strand=1), SimpleLocation(ExactPosition(4782), ExactPosition(4835), strand=1), SimpleLocation(ExactPosition(5023), ExactPosition(5172), strand=1), SimpleLocation(ExactPosition(5763), ExactPosition(5895), strand=1), SimpleLocation(ExactPosition(6023), ExactPosition(6212), strand=1), SimpleLocation(ExactPosition(6549), ExactPosition(6637), strand=1), SimpleLocation(ExactPosition(6776), ExactPosition(6899), strand=1), SimpleLocation(ExactPosition(8441), ExactPosition(8534), strand=1), SimpleLocation(ExactPosition(8866), ExactPosition(9073), strand=1), SimpleLocation(ExactPosition(11272), ExactPosition(11367), strand=1), SimpleLocation(ExactPosition(11459), ExactPosition(11596), strand=1), SimpleLocation(ExactPosition(11922), ExactPosition(12069), strand=1), SimpleLocation(ExactPosition(12284), ExactPosition(12348), strand=1), SimpleLocation(ExactPosition(12460), ExactPosition(12571), strand=1), SimpleLocation(ExactPosition(12765), ExactPosition(12858), strand=1), SimpleLocation(ExactPosition(14229), ExactPosition(14295), strand=1), SimpleLocation(ExactPosition(14384), ExactPosition(14513), strand=1), SimpleLocation(ExactPosition(14601), ExactPosition(14791), strand=1)], 'join'), type='CDS', location_operator='join', qualifiers=...),\n",
       " SeqFeature(CompoundLocation([SimpleLocation(ExactPosition(4123), ExactPosition(4132), strand=1), SimpleLocation(ExactPosition(4531), ExactPosition(4670), strand=1), SimpleLocation(ExactPosition(4782), ExactPosition(4835), strand=1), SimpleLocation(ExactPosition(5023), ExactPosition(5172), strand=1), SimpleLocation(ExactPosition(5763), ExactPosition(5895), strand=1), SimpleLocation(ExactPosition(6023), ExactPosition(6212), strand=1), SimpleLocation(ExactPosition(6549), ExactPosition(6637), strand=1), SimpleLocation(ExactPosition(6776), ExactPosition(6899), strand=1), SimpleLocation(ExactPosition(8441), ExactPosition(8534), strand=1), SimpleLocation(ExactPosition(8866), ExactPosition(9073), strand=1), SimpleLocation(ExactPosition(11272), ExactPosition(11367), strand=1), SimpleLocation(ExactPosition(11459), ExactPosition(11596), strand=1), SimpleLocation(ExactPosition(11922), ExactPosition(12069), strand=1), SimpleLocation(ExactPosition(12284), ExactPosition(12348), strand=1), SimpleLocation(ExactPosition(12460), ExactPosition(12571), strand=1), SimpleLocation(ExactPosition(12765), ExactPosition(12858), strand=1), SimpleLocation(ExactPosition(14229), ExactPosition(14295), strand=1), SimpleLocation(ExactPosition(14384), ExactPosition(14513), strand=1), SimpleLocation(ExactPosition(14601), ExactPosition(14791), strand=1)], 'join'), type='CDS', location_operator='join', qualifiers=...),\n",
       " SeqFeature(CompoundLocation([SimpleLocation(ExactPosition(6771), ExactPosition(7036), strand=1), SimpleLocation(ExactPosition(8441), ExactPosition(8534), strand=1), SimpleLocation(ExactPosition(8866), ExactPosition(9073), strand=1), SimpleLocation(ExactPosition(11272), ExactPosition(11367), strand=1), SimpleLocation(ExactPosition(11459), ExactPosition(11596), strand=1), SimpleLocation(ExactPosition(11922), ExactPosition(12069), strand=1), SimpleLocation(ExactPosition(12284), ExactPosition(12348), strand=1), SimpleLocation(ExactPosition(12460), ExactPosition(12571), strand=1), SimpleLocation(ExactPosition(12765), ExactPosition(12858), strand=1), SimpleLocation(ExactPosition(14229), ExactPosition(14295), strand=1), SimpleLocation(ExactPosition(14384), ExactPosition(14513), strand=1), SimpleLocation(ExactPosition(14601), ExactPosition(15955), strand=1)], 'join'), type='mRNA', location_operator='join', qualifiers=...),\n",
       " SeqFeature(CompoundLocation([SimpleLocation(ExactPosition(7003), ExactPosition(7036), strand=1), SimpleLocation(ExactPosition(8441), ExactPosition(8534), strand=1), SimpleLocation(ExactPosition(8866), ExactPosition(9073), strand=1), SimpleLocation(ExactPosition(11272), ExactPosition(11367), strand=1), SimpleLocation(ExactPosition(11459), ExactPosition(11596), strand=1), SimpleLocation(ExactPosition(11922), ExactPosition(12069), strand=1), SimpleLocation(ExactPosition(12284), ExactPosition(12348), strand=1), SimpleLocation(ExactPosition(12460), ExactPosition(12571), strand=1), SimpleLocation(ExactPosition(12765), ExactPosition(12858), strand=1), SimpleLocation(ExactPosition(14229), ExactPosition(14295), strand=1), SimpleLocation(ExactPosition(14384), ExactPosition(14513), strand=1), SimpleLocation(ExactPosition(14601), ExactPosition(14791), strand=1)], 'join'), type='CDS', location_operator='join', qualifiers=...),\n",
       " SeqFeature(SimpleLocation(ExactPosition(15886), AfterPosition(15955), strand=-1), type='gene', qualifiers=...),\n",
       " SeqFeature(SimpleLocation(ExactPosition(15886), AfterPosition(15955), strand=-1), type='mRNA', qualifiers=...),\n",
       " SeqFeature(SimpleLocation(ExactPosition(15886), AfterPosition(15955), strand=-1), type='mRNA', qualifiers=...)]"
      ]
     },
     "execution_count": 51,
     "metadata": {},
     "output_type": "execute_result"
    }
   ],
   "source": [
    "print(\"Temos\", len(record4.features), \"features\")\n",
    "record4.features"
   ]
  },
  {
   "cell_type": "code",
   "execution_count": 52,
   "id": "e26f9c4a",
   "metadata": {},
   "outputs": [
    {
     "name": "stdout",
     "output_type": "stream",
     "text": [
      "source [0:15955](+)\n",
      "gene [<0:641](-)\n",
      "ncRNA [<0:641](-)\n",
      "gene [0:15955](+)\n",
      "mRNA join{[0:234](+), [4048:4132](+), [4531:4670](+), [4782:4835](+), [5023:5172](+), [5763:5895](+), [6023:6212](+), [6549:6637](+), [6776:6899](+), [8441:8534](+), [8866:9073](+), [11272:11367](+), [11459:11596](+), [11922:12069](+), [12284:12348](+), [12460:12571](+), [12765:12858](+), [14229:14295](+), [14384:14513](+), [14601:15955](+)}\n",
      "mRNA join{[0:234](+), [3619:3758](+), [4048:4132](+), [4531:4670](+), [4782:4835](+), [5023:5172](+), [5763:5895](+), [6023:6212](+), [6549:6637](+), [6776:6899](+), [8441:8534](+), [8866:9073](+), [11272:11367](+), [11459:11596](+), [11922:12069](+), [12284:12348](+), [12460:12571](+), [12765:12858](+), [14229:14295](+), [14384:14513](+), [14601:15955](+)}\n",
      "misc_RNA join{[0:234](+), [3063:3200](+), [4048:4132](+), [4531:4670](+), [4782:4835](+), [5023:5172](+), [5763:5895](+), [6023:6212](+), [6549:6637](+), [6776:6899](+), [8441:8534](+), [8866:9073](+), [11272:11367](+), [11459:11596](+), [11922:12069](+), [12284:12348](+), [12460:12571](+), [12765:12858](+), [14229:14295](+), [14384:14513](+), [14601:15955](+)}\n",
      "mRNA join{[0:234](+), [3063:3200](+), [3619:3758](+), [4048:4132](+), [4531:4670](+), [4782:4835](+), [5023:5172](+), [5763:5895](+), [6023:6212](+), [6549:6637](+), [6776:6899](+), [8441:8534](+), [8866:9073](+), [11272:11367](+), [11459:11596](+), [11922:12069](+), [12284:12348](+), [12460:12571](+), [12765:12858](+), [14229:14295](+), [14384:14513](+), [14601:15955](+)}\n",
      "mRNA join{[0:234](+), [1252:1286](+), [3063:3200](+), [3619:3758](+), [4048:4132](+), [4531:4670](+), [4782:4835](+), [5023:5172](+), [5763:5895](+), [6023:6212](+), [6549:6637](+), [6776:6899](+), [8441:8534](+), [8866:9073](+), [11272:11367](+), [11459:11596](+), [11922:12069](+), [12284:12348](+), [12460:12571](+), [12765:12858](+), [14229:14295](+), [14384:14513](+), [14601:15955](+)}\n",
      "mRNA join{[0:234](+), [1252:1320](+), [3063:3200](+), [3619:3758](+), [4048:4132](+), [4531:4670](+), [4782:4835](+), [5023:5172](+), [5763:5895](+), [6023:6212](+), [6549:6637](+), [6776:6899](+), [8441:8534](+), [8866:9073](+), [11272:11367](+), [11459:11596](+), [11922:12069](+), [12284:12348](+), [12460:12571](+), [12765:12858](+), [14229:14295](+), [14384:14513](+), [14601:15955](+)}\n",
      "mRNA join{[0:234](+), [1252:1422](+), [3063:3200](+), [3619:3758](+), [4048:4132](+), [4531:4670](+), [4782:4835](+), [5023:5172](+), [5763:5895](+), [6023:6212](+), [6549:6637](+), [6776:6899](+), [8441:8534](+), [8866:9073](+), [11272:11367](+), [11459:11596](+), [11922:12069](+), [12284:12348](+), [12460:12571](+), [12765:12858](+), [14229:14295](+), [14384:14513](+), [14601:15955](+)}\n",
      "mRNA join{[0:253](+), [3063:3200](+), [3619:3758](+), [4048:4132](+), [4531:4670](+), [4782:4835](+), [5023:5172](+), [5763:5895](+), [6023:6212](+), [6549:6637](+), [6776:6899](+), [8441:8534](+), [8866:9073](+), [11272:11367](+), [11459:11596](+), [11922:12069](+), [12284:12348](+), [12460:12571](+), [12765:12858](+), [14229:14295](+), [14384:14513](+), [14601:15955](+)}\n",
      "mRNA join{[0:234](+), [3063:3200](+), [3619:3758](+), [4048:4132](+), [4531:4670](+), [4782:4835](+), [5023:5172](+), [5763:5895](+), [6023:6212](+), [6549:6637](+), [6776:6899](+), [8441:8534](+), [8866:9073](+), [10463:11367](+)}\n",
      "mRNA join{[1073:1286](+), [3063:3200](+), [3619:3758](+), [4048:4132](+), [4531:4670](+), [4782:4835](+), [5023:5172](+), [5763:5895](+), [6023:6212](+), [6549:6637](+), [6776:6899](+), [8441:8534](+), [8866:9073](+), [11272:11367](+), [11459:11596](+), [11922:12069](+), [12284:12348](+), [12460:12571](+), [12765:12858](+), [14229:14295](+), [14384:14513](+), [14601:15955](+)}\n",
      "CDS join{[3084:3200](+), [3619:3758](+), [4048:4132](+), [4531:4670](+), [4782:4835](+), [5023:5172](+), [5763:5895](+), [6023:6212](+), [6549:6637](+), [6776:6899](+), [8441:8534](+), [8866:9073](+), [11272:11367](+), [11459:11596](+), [11922:12069](+), [12284:12348](+), [12460:12571](+), [12765:12858](+), [14229:14295](+), [14384:14513](+), [14601:14791](+)}\n",
      "CDS join{[3084:3200](+), [3619:3758](+), [4048:4132](+), [4531:4670](+), [4782:4835](+), [5023:5172](+), [5763:5895](+), [6023:6212](+), [6549:6637](+), [6776:6899](+), [8441:8534](+), [8866:9073](+), [11272:11367](+), [11459:11596](+), [11922:12069](+), [12284:12348](+), [12460:12571](+), [12765:12858](+), [14229:14295](+), [14384:14513](+), [14601:14791](+)}\n",
      "CDS join{[3084:3200](+), [3619:3758](+), [4048:4132](+), [4531:4670](+), [4782:4835](+), [5023:5172](+), [5763:5895](+), [6023:6212](+), [6549:6637](+), [6776:6899](+), [8441:8534](+), [8866:9073](+), [11272:11367](+), [11459:11596](+), [11922:12069](+), [12284:12348](+), [12460:12571](+), [12765:12858](+), [14229:14295](+), [14384:14513](+), [14601:14791](+)}\n",
      "CDS join{[3084:3200](+), [3619:3758](+), [4048:4132](+), [4531:4670](+), [4782:4835](+), [5023:5172](+), [5763:5895](+), [6023:6212](+), [6549:6637](+), [6776:6899](+), [8441:8534](+), [8866:9073](+), [11272:11367](+), [11459:11596](+), [11922:12069](+), [12284:12348](+), [12460:12571](+), [12765:12858](+), [14229:14295](+), [14384:14513](+), [14601:14791](+)}\n",
      "CDS join{[3084:3200](+), [3619:3758](+), [4048:4132](+), [4531:4670](+), [4782:4835](+), [5023:5172](+), [5763:5895](+), [6023:6212](+), [6549:6637](+), [6776:6899](+), [8441:8534](+), [8866:9073](+), [11272:11367](+), [11459:11596](+), [11922:12069](+), [12284:12348](+), [12460:12571](+), [12765:12858](+), [14229:14295](+), [14384:14513](+), [14601:14791](+)}\n",
      "CDS join{[3084:3200](+), [3619:3758](+), [4048:4132](+), [4531:4670](+), [4782:4835](+), [5023:5172](+), [5763:5895](+), [6023:6212](+), [6549:6637](+), [6776:6899](+), [8441:8534](+), [8866:9073](+), [11272:11367](+), [11459:11596](+), [11922:12069](+), [12284:12348](+), [12460:12571](+), [12765:12858](+), [14229:14295](+), [14384:14513](+), [14601:14791](+)}\n",
      "CDS join{[3084:3200](+), [3619:3758](+), [4048:4132](+), [4531:4670](+), [4782:4835](+), [5023:5172](+), [5763:5895](+), [6023:6212](+), [6549:6637](+), [6776:6899](+), [8441:8534](+), [8866:9073](+), [10463:10814](+)}\n",
      "CDS join{[4123:4132](+), [4531:4670](+), [4782:4835](+), [5023:5172](+), [5763:5895](+), [6023:6212](+), [6549:6637](+), [6776:6899](+), [8441:8534](+), [8866:9073](+), [11272:11367](+), [11459:11596](+), [11922:12069](+), [12284:12348](+), [12460:12571](+), [12765:12858](+), [14229:14295](+), [14384:14513](+), [14601:14791](+)}\n",
      "CDS join{[4123:4132](+), [4531:4670](+), [4782:4835](+), [5023:5172](+), [5763:5895](+), [6023:6212](+), [6549:6637](+), [6776:6899](+), [8441:8534](+), [8866:9073](+), [11272:11367](+), [11459:11596](+), [11922:12069](+), [12284:12348](+), [12460:12571](+), [12765:12858](+), [14229:14295](+), [14384:14513](+), [14601:14791](+)}\n",
      "mRNA join{[6771:7036](+), [8441:8534](+), [8866:9073](+), [11272:11367](+), [11459:11596](+), [11922:12069](+), [12284:12348](+), [12460:12571](+), [12765:12858](+), [14229:14295](+), [14384:14513](+), [14601:15955](+)}\n",
      "CDS join{[7003:7036](+), [8441:8534](+), [8866:9073](+), [11272:11367](+), [11459:11596](+), [11922:12069](+), [12284:12348](+), [12460:12571](+), [12765:12858](+), [14229:14295](+), [14384:14513](+), [14601:14791](+)}\n",
      "gene [15886:>15955](-)\n",
      "mRNA [15886:>15955](-)\n",
      "mRNA [15886:>15955](-)\n"
     ]
    }
   ],
   "source": [
    "for t in record4.features:\n",
    "    print(t.type, t.location)"
   ]
  },
  {
   "cell_type": "code",
   "execution_count": 53,
   "id": "35408e87",
   "metadata": {},
   "outputs": [
    {
     "data": {
      "text/plain": [
       "[14, 15, 16, 17, 18, 19, 20, 21, 22, 24]"
      ]
     },
     "execution_count": 53,
     "metadata": {},
     "output_type": "execute_result"
    }
   ],
   "source": [
    "feat_cds= []\n",
    "for i in range(len(record4.features)):\n",
    "    if record4.features[i].type == \"CDS\":\n",
    "        feat_cds.append(i)\n",
    "feat_cds"
   ]
  },
  {
   "cell_type": "code",
   "execution_count": 56,
   "id": "df3fb1bf",
   "metadata": {},
   "outputs": [
    {
     "name": "stdout",
     "output_type": "stream",
     "text": [
      "{'gene': ['STAT6'], 'gene_synonym': ['D12S1644; IL-4-STAT; STAT6B; STAT6C'], 'note': ['Derived by automated computational analysis using gene prediction method: Gnomon.'], 'codon_start': ['1'], 'product': ['signal transducer and activator of transcription 6 isoform X1'], 'protein_id': ['XP_047285429.1'], 'db_xref': ['GeneID:6778', 'HGNC:HGNC:11368', 'MIM:601512'], 'translation': ['MSLWGLVSKMPPEKVQRLYVDFPQHLRHLLGDWLESQPWEFLVGSDAFCCNLASALLSDTVQHLQASVGEQGEGSTILQHISTLESIYQRDPLKLVATFRQILQGEKKAVMEQFRHLPMPFHWKQEELKFKTGLRRLQHRVGEIHLLREALQKGAEAGQVSLHSLIETPANGTGPSEALAMLLQETTGELEAAKALVLKRIQIWKRQQQLAGNGAPFEESLAPLQERCESLVDIYSQLQQEVGAAGGELEPKTRASLTGRLDEVLRTLVTSCFLVEKQPPQVLKTQTKFQAGVRFLLGLRFLGAPAKPPLVRADMVTEKQARELSVPQGPGAGAESTGEIINNTVPLENSIPGNCCSALFKNLLLKKIKRCERKGTESVTEEKCAVLFSASFTLGPGKLPIQLQALSLPLVVIVHGNQDNNAKATILWDNAFSEMDRVPFVVAERVPWEKMCETLNLKFMAEVGTNRGLLPEHFLFLAQKIFNDNSLSMEAFQHRSVSWSQFNKEILLGRGFTFWQWFDGVLDLTKRCLRSYWSDRLIIGFISKQYVTSLLLNEPDGTFLLRFSDSEIGGITIAHVIRGQDGSPQIENIQPFSAKDLSIRSLGDRIRDLAQLKNLYPKKPKDEAFRSHYKPEQMGKDGRGYVPATIKMTVERDQPLPTPELQMPTMVPSYDLGMAPDSSMSMQLGPDMVPQVYPPHSHSIPPYQGLSPEESVNVLSAFQEPHLQMPPSLGQMSLPFDQPHPQGLLPCQPQEHAVSSPDPLLCSDVTMVEDSCLSQPVTAFPQGTWIGEDIFPPLLPPTEQDLTKLLLEGQGESGGGSLGAQPLLQPSHYGQSGISMSHMDLRANPSW']}\n",
      "{'gene': ['STAT6'], 'gene_synonym': ['D12S1644; IL-4-STAT; STAT6B; STAT6C'], 'note': ['Derived by automated computational analysis using gene prediction method: Gnomon.'], 'codon_start': ['1'], 'product': ['signal transducer and activator of transcription 6 isoform X1'], 'protein_id': ['XP_047285430.1'], 'db_xref': ['GeneID:6778', 'HGNC:HGNC:11368', 'MIM:601512'], 'translation': ['MSLWGLVSKMPPEKVQRLYVDFPQHLRHLLGDWLESQPWEFLVGSDAFCCNLASALLSDTVQHLQASVGEQGEGSTILQHISTLESIYQRDPLKLVATFRQILQGEKKAVMEQFRHLPMPFHWKQEELKFKTGLRRLQHRVGEIHLLREALQKGAEAGQVSLHSLIETPANGTGPSEALAMLLQETTGELEAAKALVLKRIQIWKRQQQLAGNGAPFEESLAPLQERCESLVDIYSQLQQEVGAAGGELEPKTRASLTGRLDEVLRTLVTSCFLVEKQPPQVLKTQTKFQAGVRFLLGLRFLGAPAKPPLVRADMVTEKQARELSVPQGPGAGAESTGEIINNTVPLENSIPGNCCSALFKNLLLKKIKRCERKGTESVTEEKCAVLFSASFTLGPGKLPIQLQALSLPLVVIVHGNQDNNAKATILWDNAFSEMDRVPFVVAERVPWEKMCETLNLKFMAEVGTNRGLLPEHFLFLAQKIFNDNSLSMEAFQHRSVSWSQFNKEILLGRGFTFWQWFDGVLDLTKRCLRSYWSDRLIIGFISKQYVTSLLLNEPDGTFLLRFSDSEIGGITIAHVIRGQDGSPQIENIQPFSAKDLSIRSLGDRIRDLAQLKNLYPKKPKDEAFRSHYKPEQMGKDGRGYVPATIKMTVERDQPLPTPELQMPTMVPSYDLGMAPDSSMSMQLGPDMVPQVYPPHSHSIPPYQGLSPEESVNVLSAFQEPHLQMPPSLGQMSLPFDQPHPQGLLPCQPQEHAVSSPDPLLCSDVTMVEDSCLSQPVTAFPQGTWIGEDIFPPLLPPTEQDLTKLLLEGQGESGGGSLGAQPLLQPSHYGQSGISMSHMDLRANPSW']}\n",
      "{'gene': ['STAT6'], 'gene_synonym': ['D12S1644; IL-4-STAT; STAT6B; STAT6C'], 'note': ['Derived by automated computational analysis using gene prediction method: Gnomon.'], 'codon_start': ['1'], 'product': ['signal transducer and activator of transcription 6 isoform X1'], 'protein_id': ['XP_047285431.1'], 'db_xref': ['GeneID:6778', 'HGNC:HGNC:11368', 'MIM:601512'], 'translation': ['MSLWGLVSKMPPEKVQRLYVDFPQHLRHLLGDWLESQPWEFLVGSDAFCCNLASALLSDTVQHLQASVGEQGEGSTILQHISTLESIYQRDPLKLVATFRQILQGEKKAVMEQFRHLPMPFHWKQEELKFKTGLRRLQHRVGEIHLLREALQKGAEAGQVSLHSLIETPANGTGPSEALAMLLQETTGELEAAKALVLKRIQIWKRQQQLAGNGAPFEESLAPLQERCESLVDIYSQLQQEVGAAGGELEPKTRASLTGRLDEVLRTLVTSCFLVEKQPPQVLKTQTKFQAGVRFLLGLRFLGAPAKPPLVRADMVTEKQARELSVPQGPGAGAESTGEIINNTVPLENSIPGNCCSALFKNLLLKKIKRCERKGTESVTEEKCAVLFSASFTLGPGKLPIQLQALSLPLVVIVHGNQDNNAKATILWDNAFSEMDRVPFVVAERVPWEKMCETLNLKFMAEVGTNRGLLPEHFLFLAQKIFNDNSLSMEAFQHRSVSWSQFNKEILLGRGFTFWQWFDGVLDLTKRCLRSYWSDRLIIGFISKQYVTSLLLNEPDGTFLLRFSDSEIGGITIAHVIRGQDGSPQIENIQPFSAKDLSIRSLGDRIRDLAQLKNLYPKKPKDEAFRSHYKPEQMGKDGRGYVPATIKMTVERDQPLPTPELQMPTMVPSYDLGMAPDSSMSMQLGPDMVPQVYPPHSHSIPPYQGLSPEESVNVLSAFQEPHLQMPPSLGQMSLPFDQPHPQGLLPCQPQEHAVSSPDPLLCSDVTMVEDSCLSQPVTAFPQGTWIGEDIFPPLLPPTEQDLTKLLLEGQGESGGGSLGAQPLLQPSHYGQSGISMSHMDLRANPSW']}\n",
      "{'gene': ['STAT6'], 'gene_synonym': ['D12S1644; IL-4-STAT; STAT6B; STAT6C'], 'note': ['isoform 1 is encoded by transcript variant 2; Derived by automated computational analysis using gene prediction method: BestRefSeq.'], 'codon_start': ['1'], 'product': ['signal transducer and activator of transcription 6 isoform 1'], 'protein_id': ['NP_003144.3'], 'db_xref': ['CCDS:CCDS8931.1', 'Ensembl:ENSP00000300134.3', 'GeneID:6778', 'HGNC:HGNC:11368', 'MIM:601512'], 'translation': ['MSLWGLVSKMPPEKVQRLYVDFPQHLRHLLGDWLESQPWEFLVGSDAFCCNLASALLSDTVQHLQASVGEQGEGSTILQHISTLESIYQRDPLKLVATFRQILQGEKKAVMEQFRHLPMPFHWKQEELKFKTGLRRLQHRVGEIHLLREALQKGAEAGQVSLHSLIETPANGTGPSEALAMLLQETTGELEAAKALVLKRIQIWKRQQQLAGNGAPFEESLAPLQERCESLVDIYSQLQQEVGAAGGELEPKTRASLTGRLDEVLRTLVTSCFLVEKQPPQVLKTQTKFQAGVRFLLGLRFLGAPAKPPLVRADMVTEKQARELSVPQGPGAGAESTGEIINNTVPLENSIPGNCCSALFKNLLLKKIKRCERKGTESVTEEKCAVLFSASFTLGPGKLPIQLQALSLPLVVIVHGNQDNNAKATILWDNAFSEMDRVPFVVAERVPWEKMCETLNLKFMAEVGTNRGLLPEHFLFLAQKIFNDNSLSMEAFQHRSVSWSQFNKEILLGRGFTFWQWFDGVLDLTKRCLRSYWSDRLIIGFISKQYVTSLLLNEPDGTFLLRFSDSEIGGITIAHVIRGQDGSPQIENIQPFSAKDLSIRSLGDRIRDLAQLKNLYPKKPKDEAFRSHYKPEQMGKDGRGYVPATIKMTVERDQPLPTPELQMPTMVPSYDLGMAPDSSMSMQLGPDMVPQVYPPHSHSIPPYQGLSPEESVNVLSAFQEPHLQMPPSLGQMSLPFDQPHPQGLLPCQPQEHAVSSPDPLLCSDVTMVEDSCLSQPVTAFPQGTWIGEDIFPPLLPPTEQDLTKLLLEGQGESGGGSLGAQPLLQPSHYGQSGISMSHMDLRANPSW']}\n",
      "{'gene': ['STAT6'], 'gene_synonym': ['D12S1644; IL-4-STAT; STAT6B; STAT6C'], 'note': ['isoform 1 is encoded by transcript variant 1; Derived by automated computational analysis using gene prediction method: BestRefSeq.'], 'codon_start': ['1'], 'product': ['signal transducer and activator of transcription 6 isoform 1'], 'protein_id': ['NP_001171549.1'], 'db_xref': ['CCDS:CCDS8931.1', 'GeneID:6778', 'HGNC:HGNC:11368', 'MIM:601512'], 'translation': ['MSLWGLVSKMPPEKVQRLYVDFPQHLRHLLGDWLESQPWEFLVGSDAFCCNLASALLSDTVQHLQASVGEQGEGSTILQHISTLESIYQRDPLKLVATFRQILQGEKKAVMEQFRHLPMPFHWKQEELKFKTGLRRLQHRVGEIHLLREALQKGAEAGQVSLHSLIETPANGTGPSEALAMLLQETTGELEAAKALVLKRIQIWKRQQQLAGNGAPFEESLAPLQERCESLVDIYSQLQQEVGAAGGELEPKTRASLTGRLDEVLRTLVTSCFLVEKQPPQVLKTQTKFQAGVRFLLGLRFLGAPAKPPLVRADMVTEKQARELSVPQGPGAGAESTGEIINNTVPLENSIPGNCCSALFKNLLLKKIKRCERKGTESVTEEKCAVLFSASFTLGPGKLPIQLQALSLPLVVIVHGNQDNNAKATILWDNAFSEMDRVPFVVAERVPWEKMCETLNLKFMAEVGTNRGLLPEHFLFLAQKIFNDNSLSMEAFQHRSVSWSQFNKEILLGRGFTFWQWFDGVLDLTKRCLRSYWSDRLIIGFISKQYVTSLLLNEPDGTFLLRFSDSEIGGITIAHVIRGQDGSPQIENIQPFSAKDLSIRSLGDRIRDLAQLKNLYPKKPKDEAFRSHYKPEQMGKDGRGYVPATIKMTVERDQPLPTPELQMPTMVPSYDLGMAPDSSMSMQLGPDMVPQVYPPHSHSIPPYQGLSPEESVNVLSAFQEPHLQMPPSLGQMSLPFDQPHPQGLLPCQPQEHAVSSPDPLLCSDVTMVEDSCLSQPVTAFPQGTWIGEDIFPPLLPPTEQDLTKLLLEGQGESGGGSLGAQPLLQPSHYGQSGISMSHMDLRANPSW']}\n",
      "{'gene': ['STAT6'], 'gene_synonym': ['D12S1644; IL-4-STAT; STAT6B; STAT6C'], 'note': ['isoform 1 is encoded by transcript variant 3; Derived by automated computational analysis using gene prediction method: BestRefSeq.'], 'codon_start': ['1'], 'product': ['signal transducer and activator of transcription 6 isoform 1'], 'protein_id': ['NP_001171550.1'], 'db_xref': ['CCDS:CCDS8931.1', 'GeneID:6778', 'HGNC:HGNC:11368', 'MIM:601512'], 'translation': ['MSLWGLVSKMPPEKVQRLYVDFPQHLRHLLGDWLESQPWEFLVGSDAFCCNLASALLSDTVQHLQASVGEQGEGSTILQHISTLESIYQRDPLKLVATFRQILQGEKKAVMEQFRHLPMPFHWKQEELKFKTGLRRLQHRVGEIHLLREALQKGAEAGQVSLHSLIETPANGTGPSEALAMLLQETTGELEAAKALVLKRIQIWKRQQQLAGNGAPFEESLAPLQERCESLVDIYSQLQQEVGAAGGELEPKTRASLTGRLDEVLRTLVTSCFLVEKQPPQVLKTQTKFQAGVRFLLGLRFLGAPAKPPLVRADMVTEKQARELSVPQGPGAGAESTGEIINNTVPLENSIPGNCCSALFKNLLLKKIKRCERKGTESVTEEKCAVLFSASFTLGPGKLPIQLQALSLPLVVIVHGNQDNNAKATILWDNAFSEMDRVPFVVAERVPWEKMCETLNLKFMAEVGTNRGLLPEHFLFLAQKIFNDNSLSMEAFQHRSVSWSQFNKEILLGRGFTFWQWFDGVLDLTKRCLRSYWSDRLIIGFISKQYVTSLLLNEPDGTFLLRFSDSEIGGITIAHVIRGQDGSPQIENIQPFSAKDLSIRSLGDRIRDLAQLKNLYPKKPKDEAFRSHYKPEQMGKDGRGYVPATIKMTVERDQPLPTPELQMPTMVPSYDLGMAPDSSMSMQLGPDMVPQVYPPHSHSIPPYQGLSPEESVNVLSAFQEPHLQMPPSLGQMSLPFDQPHPQGLLPCQPQEHAVSSPDPLLCSDVTMVEDSCLSQPVTAFPQGTWIGEDIFPPLLPPTEQDLTKLLLEGQGESGGGSLGAQPLLQPSHYGQSGISMSHMDLRANPSW']}\n",
      "{'gene': ['STAT6'], 'gene_synonym': ['D12S1644; IL-4-STAT; STAT6B; STAT6C'], 'note': ['Derived by automated computational analysis using gene prediction method: Gnomon.'], 'codon_start': ['1'], 'product': ['signal transducer and activator of transcription 6 isoform X2'], 'protein_id': ['XP_047285432.1'], 'db_xref': ['GeneID:6778', 'HGNC:HGNC:11368', 'MIM:601512'], 'translation': ['MSLWGLVSKMPPEKVQRLYVDFPQHLRHLLGDWLESQPWEFLVGSDAFCCNLASALLSDTVQHLQASVGEQGEGSTILQHISTLESIYQRDPLKLVATFRQILQGEKKAVMEQFRHLPMPFHWKQEELKFKTGLRRLQHRVGEIHLLREALQKGAEAGQVSLHSLIETPANGTGPSEALAMLLQETTGELEAAKALVLKRIQIWKRQQQLAGNGAPFEESLAPLQERCESLVDIYSQLQQEVGAAGGELEPKTRASLTGRLDEVLRTLVTSCFLVEKQPPQVLKTQTKFQAGVRFLLGLRFLGAPAKPPLVRADMVTEKQARELSVPQGPGAGAESTGEIINNTVPLENSIPGNCCSALFKNLLLKKIKRCERKGTESVTEEKCAVLFSASFTLGPGKLPIQLQALSLPLVVIVHGNQDNNAKATILWDNAFSEMDRVPFVVAERVPWEKMCETLNLKFMAEVGTNRGLLPEHFLFLAQKIFNDNSLSMEAFQHRSVSWSQFNKMRNLMLRGLCSLFKFPKQVSAMARREPHISDSCSFILCYIMLFYVLVFFSFLSFFLSFFLSFFLSFSFFLSFFLSFFLSFFLSFFLSLSLSLFFFLLCETESLKRRKKCSCDQRVC']}\n",
      "{'gene': ['STAT6'], 'gene_synonym': ['D12S1644; IL-4-STAT; STAT6B; STAT6C'], 'note': ['isoform 2 is encoded by transcript variant 4; Derived by automated computational analysis using gene prediction method: BestRefSeq.'], 'codon_start': ['1'], 'product': ['signal transducer and activator of transcription 6 isoform 2'], 'protein_id': ['NP_001171551.1'], 'db_xref': ['CCDS:CCDS53804.1', 'GeneID:6778', 'HGNC:HGNC:11368', 'MIM:601512'], 'translation': ['MEQFRHLPMPFHWKQEELKFKTGLRRLQHRVGEIHLLREALQKGAEAGQVSLHSLIETPANGTGPSEALAMLLQETTGELEAAKALVLKRIQIWKRQQQLAGNGAPFEESLAPLQERCESLVDIYSQLQQEVGAAGGELEPKTRASLTGRLDEVLRTLVTSCFLVEKQPPQVLKTQTKFQAGVRFLLGLRFLGAPAKPPLVRADMVTEKQARELSVPQGPGAGAESTGEIINNTVPLENSIPGNCCSALFKNLLLKKIKRCERKGTESVTEEKCAVLFSASFTLGPGKLPIQLQALSLPLVVIVHGNQDNNAKATILWDNAFSEMDRVPFVVAERVPWEKMCETLNLKFMAEVGTNRGLLPEHFLFLAQKIFNDNSLSMEAFQHRSVSWSQFNKEILLGRGFTFWQWFDGVLDLTKRCLRSYWSDRLIIGFISKQYVTSLLLNEPDGTFLLRFSDSEIGGITIAHVIRGQDGSPQIENIQPFSAKDLSIRSLGDRIRDLAQLKNLYPKKPKDEAFRSHYKPEQMGKDGRGYVPATIKMTVERDQPLPTPELQMPTMVPSYDLGMAPDSSMSMQLGPDMVPQVYPPHSHSIPPYQGLSPEESVNVLSAFQEPHLQMPPSLGQMSLPFDQPHPQGLLPCQPQEHAVSSPDPLLCSDVTMVEDSCLSQPVTAFPQGTWIGEDIFPPLLPPTEQDLTKLLLEGQGESGGGSLGAQPLLQPSHYGQSGISMSHMDLRANPSW']}\n",
      "{'gene': ['STAT6'], 'gene_synonym': ['D12S1644; IL-4-STAT; STAT6B; STAT6C'], 'note': ['isoform 2 is encoded by transcript variant 5; Derived by automated computational analysis using gene prediction method: BestRefSeq.'], 'codon_start': ['1'], 'product': ['signal transducer and activator of transcription 6 isoform 2'], 'protein_id': ['NP_001171552.1'], 'db_xref': ['CCDS:CCDS53804.1', 'GeneID:6778', 'HGNC:HGNC:11368', 'MIM:601512'], 'translation': ['MEQFRHLPMPFHWKQEELKFKTGLRRLQHRVGEIHLLREALQKGAEAGQVSLHSLIETPANGTGPSEALAMLLQETTGELEAAKALVLKRIQIWKRQQQLAGNGAPFEESLAPLQERCESLVDIYSQLQQEVGAAGGELEPKTRASLTGRLDEVLRTLVTSCFLVEKQPPQVLKTQTKFQAGVRFLLGLRFLGAPAKPPLVRADMVTEKQARELSVPQGPGAGAESTGEIINNTVPLENSIPGNCCSALFKNLLLKKIKRCERKGTESVTEEKCAVLFSASFTLGPGKLPIQLQALSLPLVVIVHGNQDNNAKATILWDNAFSEMDRVPFVVAERVPWEKMCETLNLKFMAEVGTNRGLLPEHFLFLAQKIFNDNSLSMEAFQHRSVSWSQFNKEILLGRGFTFWQWFDGVLDLTKRCLRSYWSDRLIIGFISKQYVTSLLLNEPDGTFLLRFSDSEIGGITIAHVIRGQDGSPQIENIQPFSAKDLSIRSLGDRIRDLAQLKNLYPKKPKDEAFRSHYKPEQMGKDGRGYVPATIKMTVERDQPLPTPELQMPTMVPSYDLGMAPDSSMSMQLGPDMVPQVYPPHSHSIPPYQGLSPEESVNVLSAFQEPHLQMPPSLGQMSLPFDQPHPQGLLPCQPQEHAVSSPDPLLCSDVTMVEDSCLSQPVTAFPQGTWIGEDIFPPLLPPTEQDLTKLLLEGQGESGGGSLGAQPLLQPSHYGQSGISMSHMDLRANPSW']}\n",
      "{'gene': ['STAT6'], 'gene_synonym': ['D12S1644; IL-4-STAT; STAT6B; STAT6C'], 'note': ['Derived by automated computational analysis using gene prediction method: Gnomon.'], 'codon_start': ['1'], 'product': ['signal transducer and activator of transcription 6 isoform X3'], 'protein_id': ['XP_047285433.1'], 'db_xref': ['GeneID:6778', 'HGNC:HGNC:11368', 'MIM:601512'], 'translation': ['MCLGFMHTGARALSLPLVVIVHGNQDNNAKATILWDNAFSEMDRVPFVVAERVPWEKMCETLNLKFMAEVGTNRGLLPEHFLFLAQKIFNDNSLSMEAFQHRSVSWSQFNKEILLGRGFTFWQWFDGVLDLTKRCLRSYWSDRLIIGFISKQYVTSLLLNEPDGTFLLRFSDSEIGGITIAHVIRGQDGSPQIENIQPFSAKDLSIRSLGDRIRDLAQLKNLYPKKPKDEAFRSHYKPEQMGKDGRGYVPATIKMTVERDQPLPTPELQMPTMVPSYDLGMAPDSSMSMQLGPDMVPQVYPPHSHSIPPYQGLSPEESVNVLSAFQEPHLQMPPSLGQMSLPFDQPHPQGLLPCQPQEHAVSSPDPLLCSDVTMVEDSCLSQPVTAFPQGTWIGEDIFPPLLPPTEQDLTKLLLEGQGESGGGSLGAQPLLQPSHYGQSGISMSHMDLRANPSW']}\n"
     ]
    }
   ],
   "source": [
    "print(record4.features[14].qualifiers)\n",
    "print(record4.features[15].qualifiers)\n",
    "print(record4.features[16].qualifiers)\n",
    "print(record4.features[17].qualifiers)\n",
    "print(record4.features[18].qualifiers)\n",
    "print(record4.features[19].qualifiers)\n",
    "print(record4.features[20].qualifiers)\n",
    "print(record4.features[21].qualifiers)\n",
    "print(record4.features[22].qualifiers)\n",
    "print(record4.features[24].qualifiers)"
   ]
  },
  {
   "cell_type": "code",
   "execution_count": 57,
   "id": "699299b1",
   "metadata": {},
   "outputs": [
    {
     "name": "stdout",
     "output_type": "stream",
     "text": [
      "DNA:  ATGTCTCTGTGGGGTCTGGTCTCCAAGATGCCCCCAGAAAAAGTGCAGCGGCTCTATGTCGACTTTCCCCAACACCTGCGGCATCTTCTGGGTGACTGGCTGGAGAGCCAGCCCTGGGAGTTCCTGGTCGGCTCCGACGCCTTCTGCTGCAACTTGGCTAGTGCCCTACTTTCAGACACTGTCCAGCACCTTCAGGCCTCGGTGGGAGAGCAGGGGGAGGGGAGCACCATCTTGCAACACATCAGCACCCTTGAGAGCATATATCAGAGGGACCCCCTGAAGCTGGTGGCCACTTTCAGACAAATACTTCAAGGAGAGAAAAAAGCTGTTATGGAACAGTTCCGCCACTTGCCAATGCCTTTCCACTGGAAGCAGGAAGAACTCAAGTTTAAGACAGGCTTGCGGAGGCTGCAGCACCGAGTAGGGGAGATCCACCTTCTCCGAGAAGCCCTGCAGAAGGGGGCTGAGGCTGGCCAAGTGTCTCTGCACAGCTTGATAGAAACTCCTGCTAATGGGACTGGGCCAAGTGAGGCCCTGGCCATGCTACTGCAGGAGACCACTGGAGAGCTAGAGGCAGCCAAAGCCCTAGTGCTGAAGAGGATCCAGATTTGGAAACGGCAGCAGCAGCTGGCAGGGAATGGCGCACCGTTTGAGGAGAGCCTGGCCCCACTCCAGGAGAGGTGTGAAAGCCTGGTGGACATTTATTCCCAGCTACAGCAGGAGGTAGGGGCGGCTGGTGGGGAGCTTGAGCCCAAGACCCGGGCATCGCTGACTGGCCGGCTGGATGAAGTCCTGAGAACCCTCGTCACCAGTTGCTTCCTGGTGGAGAAGCAGCCCCCCCAGGTACTGAAGACTCAGACCAAGTTCCAGGCTGGAGTTCGATTCCTGTTGGGCTTGAGGTTCCTGGGGGCCCCAGCCAAGCCTCCGCTGGTCAGGGCCGACATGGTGACAGAGAAGCAGGCGCGGGAGCTGAGTGTGCCTCAGGGTCCTGGGGCTGGAGCAGAAAGCACTGGAGAAATCATCAACAACACTGTGCCCTTGGAGAACAGCATTCCTGGGAACTGCTGCTCTGCCCTGTTCAAGAACCTGCTTCTCAAGAAGATCAAGCGGTGTGAGCGGAAGGGCACTGAGTCTGTCACAGAGGAGAAGTGCGCTGTGCTCTTCTCTGCCAGCTTCACACTTGGCCCCGGCAAACTCCCCATCCAGCTCCAGGCCCTGTCTCTGCCCCTGGTGGTCATCGTCCATGGCAACCAAGACAACAATGCCAAAGCCACTATCCTGTGGGACAATGCCTTCTCTGAGATGGACCGCGTGCCCTTTGTGGTGGCTGAGCGGGTGCCCTGGGAGAAGATGTGTGAAACTCTGAACCTGAAGTTCATGGCTGAGGTGGGGACCAACCGGGGGCTGCTCCCAGAGCACTTCCTCTTCCTGGCCCAGAAGATCTTCAATGACAACAGCCTCAGTATGGAGGCCTTCCAGCACCGTTCTGTGTCCTGGTCGCAGTTCAACAAGGAGATCCTGCTGGGCCGTGGCTTCACCTTTTGGCAGTGGTTTGATGGTGTCCTGGACCTCACCAAACGCTGTCTCCGGAGCTACTGGTCTGACCGGCTGATCATTGGCTTCATCAGCAAACAGTACGTTACTAGCCTTCTTCTCAATGAGCCCGACGGAACCTTTCTCCTCCGCTTCAGCGACTCAGAGATTGGGGGCATCACCATTGCCCATGTCATCCGGGGCCAGGATGGCTCTCCACAGATAGAGAACATCCAGCCATTCTCTGCCAAAGACCTGTCCATTCGCTCACTGGGGGACCGAATCCGGGATCTTGCTCAGCTCAAAAATCTCTATCCCAAGAAGCCCAAGGATGAGGCTTTCCGGAGCCACTACAAGCCTGAACAGATGGGTAAGGATGGCAGGGGTTATGTCCCAGCTACCATCAAGATGACCGTGGAAAGGGACCAACCACTTCCTACCCCAGAGCTCCAGATGCCTACCATGGTGCCTTCTTATGACCTTGGAATGGCCCCTGATTCCTCCATGAGCATGCAGCTTGGCCCAGATATGGTGCCCCAGGTGTACCCACCACACTCTCACTCCATCCCCCCGTATCAAGGCCTCTCCCCAGAAGAATCAGTCAACGTGTTGTCAGCCTTCCAGGAGCCTCACCTGCAGATGCCCCCCAGCCTGGGCCAGATGAGCCTGCCCTTTGACCAGCCTCACCCCCAGGGCCTGCTGCCGTGCCAGCCTCAGGAGCATGCTGTGTCCAGCCCTGACCCCCTGCTCTGCTCAGATGTGACCATGGTGGAAGACAGCTGCCTGAGCCAGCCAGTGACAGCGTTTCCTCAGGGCACTTGGATTGGTGAAGACATATTCCCTCCTCTGCTGCCTCCCACTGAACAGGACCTCACTAAGCTTCTCCTGGAGGGGCAAGGGGAGTCGGGGGGAGGGTCCTTGGGGGCACAGCCCCTCCTGCAGCCCTCCCACTATGGGCAATCTGGGATCTCAATGTCCCACATGGACCTAAGGGCCAACCCCAGTTGGTGA\n",
      "Proteína:  MSLWGLVSKMPPEKVQRLYVDFPQHLRHLLGDWLESQPWEFLVGSDAFCCNLASALLSDTVQHLQASVGEQGEGSTILQHISTLESIYQRDPLKLVATFRQILQGEKKAVMEQFRHLPMPFHWKQEELKFKTGLRRLQHRVGEIHLLREALQKGAEAGQVSLHSLIETPANGTGPSEALAMLLQETTGELEAAKALVLKRIQIWKRQQQLAGNGAPFEESLAPLQERCESLVDIYSQLQQEVGAAGGELEPKTRASLTGRLDEVLRTLVTSCFLVEKQPPQVLKTQTKFQAGVRFLLGLRFLGAPAKPPLVRADMVTEKQARELSVPQGPGAGAESTGEIINNTVPLENSIPGNCCSALFKNLLLKKIKRCERKGTESVTEEKCAVLFSASFTLGPGKLPIQLQALSLPLVVIVHGNQDNNAKATILWDNAFSEMDRVPFVVAERVPWEKMCETLNLKFMAEVGTNRGLLPEHFLFLAQKIFNDNSLSMEAFQHRSVSWSQFNKEILLGRGFTFWQWFDGVLDLTKRCLRSYWSDRLIIGFISKQYVTSLLLNEPDGTFLLRFSDSEIGGITIAHVIRGQDGSPQIENIQPFSAKDLSIRSLGDRIRDLAQLKNLYPKKPKDEAFRSHYKPEQMGKDGRGYVPATIKMTVERDQPLPTPELQMPTMVPSYDLGMAPDSSMSMQLGPDMVPQVYPPHSHSIPPYQGLSPEESVNVLSAFQEPHLQMPPSLGQMSLPFDQPHPQGLLPCQPQEHAVSSPDPLLCSDVTMVEDSCLSQPVTAFPQGTWIGEDIFPPLLPPTEQDLTKLLLEGQGESGGGSLGAQPLLQPSHYGQSGISMSHMDLRANPSW*\n",
      "DNA:  ATGTCTCTGTGGGGTCTGGTCTCCAAGATGCCCCCAGAAAAAGTGCAGCGGCTCTATGTCGACTTTCCCCAACACCTGCGGCATCTTCTGGGTGACTGGCTGGAGAGCCAGCCCTGGGAGTTCCTGGTCGGCTCCGACGCCTTCTGCTGCAACTTGGCTAGTGCCCTACTTTCAGACACTGTCCAGCACCTTCAGGCCTCGGTGGGAGAGCAGGGGGAGGGGAGCACCATCTTGCAACACATCAGCACCCTTGAGAGCATATATCAGAGGGACCCCCTGAAGCTGGTGGCCACTTTCAGACAAATACTTCAAGGAGAGAAAAAAGCTGTTATGGAACAGTTCCGCCACTTGCCAATGCCTTTCCACTGGAAGCAGGAAGAACTCAAGTTTAAGACAGGCTTGCGGAGGCTGCAGCACCGAGTAGGGGAGATCCACCTTCTCCGAGAAGCCCTGCAGAAGGGGGCTGAGGCTGGCCAAGTGTCTCTGCACAGCTTGATAGAAACTCCTGCTAATGGGACTGGGCCAAGTGAGGCCCTGGCCATGCTACTGCAGGAGACCACTGGAGAGCTAGAGGCAGCCAAAGCCCTAGTGCTGAAGAGGATCCAGATTTGGAAACGGCAGCAGCAGCTGGCAGGGAATGGCGCACCGTTTGAGGAGAGCCTGGCCCCACTCCAGGAGAGGTGTGAAAGCCTGGTGGACATTTATTCCCAGCTACAGCAGGAGGTAGGGGCGGCTGGTGGGGAGCTTGAGCCCAAGACCCGGGCATCGCTGACTGGCCGGCTGGATGAAGTCCTGAGAACCCTCGTCACCAGTTGCTTCCTGGTGGAGAAGCAGCCCCCCCAGGTACTGAAGACTCAGACCAAGTTCCAGGCTGGAGTTCGATTCCTGTTGGGCTTGAGGTTCCTGGGGGCCCCAGCCAAGCCTCCGCTGGTCAGGGCCGACATGGTGACAGAGAAGCAGGCGCGGGAGCTGAGTGTGCCTCAGGGTCCTGGGGCTGGAGCAGAAAGCACTGGAGAAATCATCAACAACACTGTGCCCTTGGAGAACAGCATTCCTGGGAACTGCTGCTCTGCCCTGTTCAAGAACCTGCTTCTCAAGAAGATCAAGCGGTGTGAGCGGAAGGGCACTGAGTCTGTCACAGAGGAGAAGTGCGCTGTGCTCTTCTCTGCCAGCTTCACACTTGGCCCCGGCAAACTCCCCATCCAGCTCCAGGCCCTGTCTCTGCCCCTGGTGGTCATCGTCCATGGCAACCAAGACAACAATGCCAAAGCCACTATCCTGTGGGACAATGCCTTCTCTGAGATGGACCGCGTGCCCTTTGTGGTGGCTGAGCGGGTGCCCTGGGAGAAGATGTGTGAAACTCTGAACCTGAAGTTCATGGCTGAGGTGGGGACCAACCGGGGGCTGCTCCCAGAGCACTTCCTCTTCCTGGCCCAGAAGATCTTCAATGACAACAGCCTCAGTATGGAGGCCTTCCAGCACCGTTCTGTGTCCTGGTCGCAGTTCAACAAGGAGATCCTGCTGGGCCGTGGCTTCACCTTTTGGCAGTGGTTTGATGGTGTCCTGGACCTCACCAAACGCTGTCTCCGGAGCTACTGGTCTGACCGGCTGATCATTGGCTTCATCAGCAAACAGTACGTTACTAGCCTTCTTCTCAATGAGCCCGACGGAACCTTTCTCCTCCGCTTCAGCGACTCAGAGATTGGGGGCATCACCATTGCCCATGTCATCCGGGGCCAGGATGGCTCTCCACAGATAGAGAACATCCAGCCATTCTCTGCCAAAGACCTGTCCATTCGCTCACTGGGGGACCGAATCCGGGATCTTGCTCAGCTCAAAAATCTCTATCCCAAGAAGCCCAAGGATGAGGCTTTCCGGAGCCACTACAAGCCTGAACAGATGGGTAAGGATGGCAGGGGTTATGTCCCAGCTACCATCAAGATGACCGTGGAAAGGGACCAACCACTTCCTACCCCAGAGCTCCAGATGCCTACCATGGTGCCTTCTTATGACCTTGGAATGGCCCCTGATTCCTCCATGAGCATGCAGCTTGGCCCAGATATGGTGCCCCAGGTGTACCCACCACACTCTCACTCCATCCCCCCGTATCAAGGCCTCTCCCCAGAAGAATCAGTCAACGTGTTGTCAGCCTTCCAGGAGCCTCACCTGCAGATGCCCCCCAGCCTGGGCCAGATGAGCCTGCCCTTTGACCAGCCTCACCCCCAGGGCCTGCTGCCGTGCCAGCCTCAGGAGCATGCTGTGTCCAGCCCTGACCCCCTGCTCTGCTCAGATGTGACCATGGTGGAAGACAGCTGCCTGAGCCAGCCAGTGACAGCGTTTCCTCAGGGCACTTGGATTGGTGAAGACATATTCCCTCCTCTGCTGCCTCCCACTGAACAGGACCTCACTAAGCTTCTCCTGGAGGGGCAAGGGGAGTCGGGGGGAGGGTCCTTGGGGGCACAGCCCCTCCTGCAGCCCTCCCACTATGGGCAATCTGGGATCTCAATGTCCCACATGGACCTAAGGGCCAACCCCAGTTGGTGA\n",
      "Proteína:  MSLWGLVSKMPPEKVQRLYVDFPQHLRHLLGDWLESQPWEFLVGSDAFCCNLASALLSDTVQHLQASVGEQGEGSTILQHISTLESIYQRDPLKLVATFRQILQGEKKAVMEQFRHLPMPFHWKQEELKFKTGLRRLQHRVGEIHLLREALQKGAEAGQVSLHSLIETPANGTGPSEALAMLLQETTGELEAAKALVLKRIQIWKRQQQLAGNGAPFEESLAPLQERCESLVDIYSQLQQEVGAAGGELEPKTRASLTGRLDEVLRTLVTSCFLVEKQPPQVLKTQTKFQAGVRFLLGLRFLGAPAKPPLVRADMVTEKQARELSVPQGPGAGAESTGEIINNTVPLENSIPGNCCSALFKNLLLKKIKRCERKGTESVTEEKCAVLFSASFTLGPGKLPIQLQALSLPLVVIVHGNQDNNAKATILWDNAFSEMDRVPFVVAERVPWEKMCETLNLKFMAEVGTNRGLLPEHFLFLAQKIFNDNSLSMEAFQHRSVSWSQFNKEILLGRGFTFWQWFDGVLDLTKRCLRSYWSDRLIIGFISKQYVTSLLLNEPDGTFLLRFSDSEIGGITIAHVIRGQDGSPQIENIQPFSAKDLSIRSLGDRIRDLAQLKNLYPKKPKDEAFRSHYKPEQMGKDGRGYVPATIKMTVERDQPLPTPELQMPTMVPSYDLGMAPDSSMSMQLGPDMVPQVYPPHSHSIPPYQGLSPEESVNVLSAFQEPHLQMPPSLGQMSLPFDQPHPQGLLPCQPQEHAVSSPDPLLCSDVTMVEDSCLSQPVTAFPQGTWIGEDIFPPLLPPTEQDLTKLLLEGQGESGGGSLGAQPLLQPSHYGQSGISMSHMDLRANPSW*\n",
      "DNA:  ATGTCTCTGTGGGGTCTGGTCTCCAAGATGCCCCCAGAAAAAGTGCAGCGGCTCTATGTCGACTTTCCCCAACACCTGCGGCATCTTCTGGGTGACTGGCTGGAGAGCCAGCCCTGGGAGTTCCTGGTCGGCTCCGACGCCTTCTGCTGCAACTTGGCTAGTGCCCTACTTTCAGACACTGTCCAGCACCTTCAGGCCTCGGTGGGAGAGCAGGGGGAGGGGAGCACCATCTTGCAACACATCAGCACCCTTGAGAGCATATATCAGAGGGACCCCCTGAAGCTGGTGGCCACTTTCAGACAAATACTTCAAGGAGAGAAAAAAGCTGTTATGGAACAGTTCCGCCACTTGCCAATGCCTTTCCACTGGAAGCAGGAAGAACTCAAGTTTAAGACAGGCTTGCGGAGGCTGCAGCACCGAGTAGGGGAGATCCACCTTCTCCGAGAAGCCCTGCAGAAGGGGGCTGAGGCTGGCCAAGTGTCTCTGCACAGCTTGATAGAAACTCCTGCTAATGGGACTGGGCCAAGTGAGGCCCTGGCCATGCTACTGCAGGAGACCACTGGAGAGCTAGAGGCAGCCAAAGCCCTAGTGCTGAAGAGGATCCAGATTTGGAAACGGCAGCAGCAGCTGGCAGGGAATGGCGCACCGTTTGAGGAGAGCCTGGCCCCACTCCAGGAGAGGTGTGAAAGCCTGGTGGACATTTATTCCCAGCTACAGCAGGAGGTAGGGGCGGCTGGTGGGGAGCTTGAGCCCAAGACCCGGGCATCGCTGACTGGCCGGCTGGATGAAGTCCTGAGAACCCTCGTCACCAGTTGCTTCCTGGTGGAGAAGCAGCCCCCCCAGGTACTGAAGACTCAGACCAAGTTCCAGGCTGGAGTTCGATTCCTGTTGGGCTTGAGGTTCCTGGGGGCCCCAGCCAAGCCTCCGCTGGTCAGGGCCGACATGGTGACAGAGAAGCAGGCGCGGGAGCTGAGTGTGCCTCAGGGTCCTGGGGCTGGAGCAGAAAGCACTGGAGAAATCATCAACAACACTGTGCCCTTGGAGAACAGCATTCCTGGGAACTGCTGCTCTGCCCTGTTCAAGAACCTGCTTCTCAAGAAGATCAAGCGGTGTGAGCGGAAGGGCACTGAGTCTGTCACAGAGGAGAAGTGCGCTGTGCTCTTCTCTGCCAGCTTCACACTTGGCCCCGGCAAACTCCCCATCCAGCTCCAGGCCCTGTCTCTGCCCCTGGTGGTCATCGTCCATGGCAACCAAGACAACAATGCCAAAGCCACTATCCTGTGGGACAATGCCTTCTCTGAGATGGACCGCGTGCCCTTTGTGGTGGCTGAGCGGGTGCCCTGGGAGAAGATGTGTGAAACTCTGAACCTGAAGTTCATGGCTGAGGTGGGGACCAACCGGGGGCTGCTCCCAGAGCACTTCCTCTTCCTGGCCCAGAAGATCTTCAATGACAACAGCCTCAGTATGGAGGCCTTCCAGCACCGTTCTGTGTCCTGGTCGCAGTTCAACAAGGAGATCCTGCTGGGCCGTGGCTTCACCTTTTGGCAGTGGTTTGATGGTGTCCTGGACCTCACCAAACGCTGTCTCCGGAGCTACTGGTCTGACCGGCTGATCATTGGCTTCATCAGCAAACAGTACGTTACTAGCCTTCTTCTCAATGAGCCCGACGGAACCTTTCTCCTCCGCTTCAGCGACTCAGAGATTGGGGGCATCACCATTGCCCATGTCATCCGGGGCCAGGATGGCTCTCCACAGATAGAGAACATCCAGCCATTCTCTGCCAAAGACCTGTCCATTCGCTCACTGGGGGACCGAATCCGGGATCTTGCTCAGCTCAAAAATCTCTATCCCAAGAAGCCCAAGGATGAGGCTTTCCGGAGCCACTACAAGCCTGAACAGATGGGTAAGGATGGCAGGGGTTATGTCCCAGCTACCATCAAGATGACCGTGGAAAGGGACCAACCACTTCCTACCCCAGAGCTCCAGATGCCTACCATGGTGCCTTCTTATGACCTTGGAATGGCCCCTGATTCCTCCATGAGCATGCAGCTTGGCCCAGATATGGTGCCCCAGGTGTACCCACCACACTCTCACTCCATCCCCCCGTATCAAGGCCTCTCCCCAGAAGAATCAGTCAACGTGTTGTCAGCCTTCCAGGAGCCTCACCTGCAGATGCCCCCCAGCCTGGGCCAGATGAGCCTGCCCTTTGACCAGCCTCACCCCCAGGGCCTGCTGCCGTGCCAGCCTCAGGAGCATGCTGTGTCCAGCCCTGACCCCCTGCTCTGCTCAGATGTGACCATGGTGGAAGACAGCTGCCTGAGCCAGCCAGTGACAGCGTTTCCTCAGGGCACTTGGATTGGTGAAGACATATTCCCTCCTCTGCTGCCTCCCACTGAACAGGACCTCACTAAGCTTCTCCTGGAGGGGCAAGGGGAGTCGGGGGGAGGGTCCTTGGGGGCACAGCCCCTCCTGCAGCCCTCCCACTATGGGCAATCTGGGATCTCAATGTCCCACATGGACCTAAGGGCCAACCCCAGTTGGTGA\n",
      "Proteína:  MSLWGLVSKMPPEKVQRLYVDFPQHLRHLLGDWLESQPWEFLVGSDAFCCNLASALLSDTVQHLQASVGEQGEGSTILQHISTLESIYQRDPLKLVATFRQILQGEKKAVMEQFRHLPMPFHWKQEELKFKTGLRRLQHRVGEIHLLREALQKGAEAGQVSLHSLIETPANGTGPSEALAMLLQETTGELEAAKALVLKRIQIWKRQQQLAGNGAPFEESLAPLQERCESLVDIYSQLQQEVGAAGGELEPKTRASLTGRLDEVLRTLVTSCFLVEKQPPQVLKTQTKFQAGVRFLLGLRFLGAPAKPPLVRADMVTEKQARELSVPQGPGAGAESTGEIINNTVPLENSIPGNCCSALFKNLLLKKIKRCERKGTESVTEEKCAVLFSASFTLGPGKLPIQLQALSLPLVVIVHGNQDNNAKATILWDNAFSEMDRVPFVVAERVPWEKMCETLNLKFMAEVGTNRGLLPEHFLFLAQKIFNDNSLSMEAFQHRSVSWSQFNKEILLGRGFTFWQWFDGVLDLTKRCLRSYWSDRLIIGFISKQYVTSLLLNEPDGTFLLRFSDSEIGGITIAHVIRGQDGSPQIENIQPFSAKDLSIRSLGDRIRDLAQLKNLYPKKPKDEAFRSHYKPEQMGKDGRGYVPATIKMTVERDQPLPTPELQMPTMVPSYDLGMAPDSSMSMQLGPDMVPQVYPPHSHSIPPYQGLSPEESVNVLSAFQEPHLQMPPSLGQMSLPFDQPHPQGLLPCQPQEHAVSSPDPLLCSDVTMVEDSCLSQPVTAFPQGTWIGEDIFPPLLPPTEQDLTKLLLEGQGESGGGSLGAQPLLQPSHYGQSGISMSHMDLRANPSW*\n",
      "DNA:  ATGTCTCTGTGGGGTCTGGTCTCCAAGATGCCCCCAGAAAAAGTGCAGCGGCTCTATGTCGACTTTCCCCAACACCTGCGGCATCTTCTGGGTGACTGGCTGGAGAGCCAGCCCTGGGAGTTCCTGGTCGGCTCCGACGCCTTCTGCTGCAACTTGGCTAGTGCCCTACTTTCAGACACTGTCCAGCACCTTCAGGCCTCGGTGGGAGAGCAGGGGGAGGGGAGCACCATCTTGCAACACATCAGCACCCTTGAGAGCATATATCAGAGGGACCCCCTGAAGCTGGTGGCCACTTTCAGACAAATACTTCAAGGAGAGAAAAAAGCTGTTATGGAACAGTTCCGCCACTTGCCAATGCCTTTCCACTGGAAGCAGGAAGAACTCAAGTTTAAGACAGGCTTGCGGAGGCTGCAGCACCGAGTAGGGGAGATCCACCTTCTCCGAGAAGCCCTGCAGAAGGGGGCTGAGGCTGGCCAAGTGTCTCTGCACAGCTTGATAGAAACTCCTGCTAATGGGACTGGGCCAAGTGAGGCCCTGGCCATGCTACTGCAGGAGACCACTGGAGAGCTAGAGGCAGCCAAAGCCCTAGTGCTGAAGAGGATCCAGATTTGGAAACGGCAGCAGCAGCTGGCAGGGAATGGCGCACCGTTTGAGGAGAGCCTGGCCCCACTCCAGGAGAGGTGTGAAAGCCTGGTGGACATTTATTCCCAGCTACAGCAGGAGGTAGGGGCGGCTGGTGGGGAGCTTGAGCCCAAGACCCGGGCATCGCTGACTGGCCGGCTGGATGAAGTCCTGAGAACCCTCGTCACCAGTTGCTTCCTGGTGGAGAAGCAGCCCCCCCAGGTACTGAAGACTCAGACCAAGTTCCAGGCTGGAGTTCGATTCCTGTTGGGCTTGAGGTTCCTGGGGGCCCCAGCCAAGCCTCCGCTGGTCAGGGCCGACATGGTGACAGAGAAGCAGGCGCGGGAGCTGAGTGTGCCTCAGGGTCCTGGGGCTGGAGCAGAAAGCACTGGAGAAATCATCAACAACACTGTGCCCTTGGAGAACAGCATTCCTGGGAACTGCTGCTCTGCCCTGTTCAAGAACCTGCTTCTCAAGAAGATCAAGCGGTGTGAGCGGAAGGGCACTGAGTCTGTCACAGAGGAGAAGTGCGCTGTGCTCTTCTCTGCCAGCTTCACACTTGGCCCCGGCAAACTCCCCATCCAGCTCCAGGCCCTGTCTCTGCCCCTGGTGGTCATCGTCCATGGCAACCAAGACAACAATGCCAAAGCCACTATCCTGTGGGACAATGCCTTCTCTGAGATGGACCGCGTGCCCTTTGTGGTGGCTGAGCGGGTGCCCTGGGAGAAGATGTGTGAAACTCTGAACCTGAAGTTCATGGCTGAGGTGGGGACCAACCGGGGGCTGCTCCCAGAGCACTTCCTCTTCCTGGCCCAGAAGATCTTCAATGACAACAGCCTCAGTATGGAGGCCTTCCAGCACCGTTCTGTGTCCTGGTCGCAGTTCAACAAGGAGATCCTGCTGGGCCGTGGCTTCACCTTTTGGCAGTGGTTTGATGGTGTCCTGGACCTCACCAAACGCTGTCTCCGGAGCTACTGGTCTGACCGGCTGATCATTGGCTTCATCAGCAAACAGTACGTTACTAGCCTTCTTCTCAATGAGCCCGACGGAACCTTTCTCCTCCGCTTCAGCGACTCAGAGATTGGGGGCATCACCATTGCCCATGTCATCCGGGGCCAGGATGGCTCTCCACAGATAGAGAACATCCAGCCATTCTCTGCCAAAGACCTGTCCATTCGCTCACTGGGGGACCGAATCCGGGATCTTGCTCAGCTCAAAAATCTCTATCCCAAGAAGCCCAAGGATGAGGCTTTCCGGAGCCACTACAAGCCTGAACAGATGGGTAAGGATGGCAGGGGTTATGTCCCAGCTACCATCAAGATGACCGTGGAAAGGGACCAACCACTTCCTACCCCAGAGCTCCAGATGCCTACCATGGTGCCTTCTTATGACCTTGGAATGGCCCCTGATTCCTCCATGAGCATGCAGCTTGGCCCAGATATGGTGCCCCAGGTGTACCCACCACACTCTCACTCCATCCCCCCGTATCAAGGCCTCTCCCCAGAAGAATCAGTCAACGTGTTGTCAGCCTTCCAGGAGCCTCACCTGCAGATGCCCCCCAGCCTGGGCCAGATGAGCCTGCCCTTTGACCAGCCTCACCCCCAGGGCCTGCTGCCGTGCCAGCCTCAGGAGCATGCTGTGTCCAGCCCTGACCCCCTGCTCTGCTCAGATGTGACCATGGTGGAAGACAGCTGCCTGAGCCAGCCAGTGACAGCGTTTCCTCAGGGCACTTGGATTGGTGAAGACATATTCCCTCCTCTGCTGCCTCCCACTGAACAGGACCTCACTAAGCTTCTCCTGGAGGGGCAAGGGGAGTCGGGGGGAGGGTCCTTGGGGGCACAGCCCCTCCTGCAGCCCTCCCACTATGGGCAATCTGGGATCTCAATGTCCCACATGGACCTAAGGGCCAACCCCAGTTGGTGA\n",
      "Proteína:  MSLWGLVSKMPPEKVQRLYVDFPQHLRHLLGDWLESQPWEFLVGSDAFCCNLASALLSDTVQHLQASVGEQGEGSTILQHISTLESIYQRDPLKLVATFRQILQGEKKAVMEQFRHLPMPFHWKQEELKFKTGLRRLQHRVGEIHLLREALQKGAEAGQVSLHSLIETPANGTGPSEALAMLLQETTGELEAAKALVLKRIQIWKRQQQLAGNGAPFEESLAPLQERCESLVDIYSQLQQEVGAAGGELEPKTRASLTGRLDEVLRTLVTSCFLVEKQPPQVLKTQTKFQAGVRFLLGLRFLGAPAKPPLVRADMVTEKQARELSVPQGPGAGAESTGEIINNTVPLENSIPGNCCSALFKNLLLKKIKRCERKGTESVTEEKCAVLFSASFTLGPGKLPIQLQALSLPLVVIVHGNQDNNAKATILWDNAFSEMDRVPFVVAERVPWEKMCETLNLKFMAEVGTNRGLLPEHFLFLAQKIFNDNSLSMEAFQHRSVSWSQFNKEILLGRGFTFWQWFDGVLDLTKRCLRSYWSDRLIIGFISKQYVTSLLLNEPDGTFLLRFSDSEIGGITIAHVIRGQDGSPQIENIQPFSAKDLSIRSLGDRIRDLAQLKNLYPKKPKDEAFRSHYKPEQMGKDGRGYVPATIKMTVERDQPLPTPELQMPTMVPSYDLGMAPDSSMSMQLGPDMVPQVYPPHSHSIPPYQGLSPEESVNVLSAFQEPHLQMPPSLGQMSLPFDQPHPQGLLPCQPQEHAVSSPDPLLCSDVTMVEDSCLSQPVTAFPQGTWIGEDIFPPLLPPTEQDLTKLLLEGQGESGGGSLGAQPLLQPSHYGQSGISMSHMDLRANPSW*\n",
      "DNA:  ATGTCTCTGTGGGGTCTGGTCTCCAAGATGCCCCCAGAAAAAGTGCAGCGGCTCTATGTCGACTTTCCCCAACACCTGCGGCATCTTCTGGGTGACTGGCTGGAGAGCCAGCCCTGGGAGTTCCTGGTCGGCTCCGACGCCTTCTGCTGCAACTTGGCTAGTGCCCTACTTTCAGACACTGTCCAGCACCTTCAGGCCTCGGTGGGAGAGCAGGGGGAGGGGAGCACCATCTTGCAACACATCAGCACCCTTGAGAGCATATATCAGAGGGACCCCCTGAAGCTGGTGGCCACTTTCAGACAAATACTTCAAGGAGAGAAAAAAGCTGTTATGGAACAGTTCCGCCACTTGCCAATGCCTTTCCACTGGAAGCAGGAAGAACTCAAGTTTAAGACAGGCTTGCGGAGGCTGCAGCACCGAGTAGGGGAGATCCACCTTCTCCGAGAAGCCCTGCAGAAGGGGGCTGAGGCTGGCCAAGTGTCTCTGCACAGCTTGATAGAAACTCCTGCTAATGGGACTGGGCCAAGTGAGGCCCTGGCCATGCTACTGCAGGAGACCACTGGAGAGCTAGAGGCAGCCAAAGCCCTAGTGCTGAAGAGGATCCAGATTTGGAAACGGCAGCAGCAGCTGGCAGGGAATGGCGCACCGTTTGAGGAGAGCCTGGCCCCACTCCAGGAGAGGTGTGAAAGCCTGGTGGACATTTATTCCCAGCTACAGCAGGAGGTAGGGGCGGCTGGTGGGGAGCTTGAGCCCAAGACCCGGGCATCGCTGACTGGCCGGCTGGATGAAGTCCTGAGAACCCTCGTCACCAGTTGCTTCCTGGTGGAGAAGCAGCCCCCCCAGGTACTGAAGACTCAGACCAAGTTCCAGGCTGGAGTTCGATTCCTGTTGGGCTTGAGGTTCCTGGGGGCCCCAGCCAAGCCTCCGCTGGTCAGGGCCGACATGGTGACAGAGAAGCAGGCGCGGGAGCTGAGTGTGCCTCAGGGTCCTGGGGCTGGAGCAGAAAGCACTGGAGAAATCATCAACAACACTGTGCCCTTGGAGAACAGCATTCCTGGGAACTGCTGCTCTGCCCTGTTCAAGAACCTGCTTCTCAAGAAGATCAAGCGGTGTGAGCGGAAGGGCACTGAGTCTGTCACAGAGGAGAAGTGCGCTGTGCTCTTCTCTGCCAGCTTCACACTTGGCCCCGGCAAACTCCCCATCCAGCTCCAGGCCCTGTCTCTGCCCCTGGTGGTCATCGTCCATGGCAACCAAGACAACAATGCCAAAGCCACTATCCTGTGGGACAATGCCTTCTCTGAGATGGACCGCGTGCCCTTTGTGGTGGCTGAGCGGGTGCCCTGGGAGAAGATGTGTGAAACTCTGAACCTGAAGTTCATGGCTGAGGTGGGGACCAACCGGGGGCTGCTCCCAGAGCACTTCCTCTTCCTGGCCCAGAAGATCTTCAATGACAACAGCCTCAGTATGGAGGCCTTCCAGCACCGTTCTGTGTCCTGGTCGCAGTTCAACAAGGAGATCCTGCTGGGCCGTGGCTTCACCTTTTGGCAGTGGTTTGATGGTGTCCTGGACCTCACCAAACGCTGTCTCCGGAGCTACTGGTCTGACCGGCTGATCATTGGCTTCATCAGCAAACAGTACGTTACTAGCCTTCTTCTCAATGAGCCCGACGGAACCTTTCTCCTCCGCTTCAGCGACTCAGAGATTGGGGGCATCACCATTGCCCATGTCATCCGGGGCCAGGATGGCTCTCCACAGATAGAGAACATCCAGCCATTCTCTGCCAAAGACCTGTCCATTCGCTCACTGGGGGACCGAATCCGGGATCTTGCTCAGCTCAAAAATCTCTATCCCAAGAAGCCCAAGGATGAGGCTTTCCGGAGCCACTACAAGCCTGAACAGATGGGTAAGGATGGCAGGGGTTATGTCCCAGCTACCATCAAGATGACCGTGGAAAGGGACCAACCACTTCCTACCCCAGAGCTCCAGATGCCTACCATGGTGCCTTCTTATGACCTTGGAATGGCCCCTGATTCCTCCATGAGCATGCAGCTTGGCCCAGATATGGTGCCCCAGGTGTACCCACCACACTCTCACTCCATCCCCCCGTATCAAGGCCTCTCCCCAGAAGAATCAGTCAACGTGTTGTCAGCCTTCCAGGAGCCTCACCTGCAGATGCCCCCCAGCCTGGGCCAGATGAGCCTGCCCTTTGACCAGCCTCACCCCCAGGGCCTGCTGCCGTGCCAGCCTCAGGAGCATGCTGTGTCCAGCCCTGACCCCCTGCTCTGCTCAGATGTGACCATGGTGGAAGACAGCTGCCTGAGCCAGCCAGTGACAGCGTTTCCTCAGGGCACTTGGATTGGTGAAGACATATTCCCTCCTCTGCTGCCTCCCACTGAACAGGACCTCACTAAGCTTCTCCTGGAGGGGCAAGGGGAGTCGGGGGGAGGGTCCTTGGGGGCACAGCCCCTCCTGCAGCCCTCCCACTATGGGCAATCTGGGATCTCAATGTCCCACATGGACCTAAGGGCCAACCCCAGTTGGTGA\n",
      "Proteína:  MSLWGLVSKMPPEKVQRLYVDFPQHLRHLLGDWLESQPWEFLVGSDAFCCNLASALLSDTVQHLQASVGEQGEGSTILQHISTLESIYQRDPLKLVATFRQILQGEKKAVMEQFRHLPMPFHWKQEELKFKTGLRRLQHRVGEIHLLREALQKGAEAGQVSLHSLIETPANGTGPSEALAMLLQETTGELEAAKALVLKRIQIWKRQQQLAGNGAPFEESLAPLQERCESLVDIYSQLQQEVGAAGGELEPKTRASLTGRLDEVLRTLVTSCFLVEKQPPQVLKTQTKFQAGVRFLLGLRFLGAPAKPPLVRADMVTEKQARELSVPQGPGAGAESTGEIINNTVPLENSIPGNCCSALFKNLLLKKIKRCERKGTESVTEEKCAVLFSASFTLGPGKLPIQLQALSLPLVVIVHGNQDNNAKATILWDNAFSEMDRVPFVVAERVPWEKMCETLNLKFMAEVGTNRGLLPEHFLFLAQKIFNDNSLSMEAFQHRSVSWSQFNKEILLGRGFTFWQWFDGVLDLTKRCLRSYWSDRLIIGFISKQYVTSLLLNEPDGTFLLRFSDSEIGGITIAHVIRGQDGSPQIENIQPFSAKDLSIRSLGDRIRDLAQLKNLYPKKPKDEAFRSHYKPEQMGKDGRGYVPATIKMTVERDQPLPTPELQMPTMVPSYDLGMAPDSSMSMQLGPDMVPQVYPPHSHSIPPYQGLSPEESVNVLSAFQEPHLQMPPSLGQMSLPFDQPHPQGLLPCQPQEHAVSSPDPLLCSDVTMVEDSCLSQPVTAFPQGTWIGEDIFPPLLPPTEQDLTKLLLEGQGESGGGSLGAQPLLQPSHYGQSGISMSHMDLRANPSW*\n",
      "DNA:  ATGTCTCTGTGGGGTCTGGTCTCCAAGATGCCCCCAGAAAAAGTGCAGCGGCTCTATGTCGACTTTCCCCAACACCTGCGGCATCTTCTGGGTGACTGGCTGGAGAGCCAGCCCTGGGAGTTCCTGGTCGGCTCCGACGCCTTCTGCTGCAACTTGGCTAGTGCCCTACTTTCAGACACTGTCCAGCACCTTCAGGCCTCGGTGGGAGAGCAGGGGGAGGGGAGCACCATCTTGCAACACATCAGCACCCTTGAGAGCATATATCAGAGGGACCCCCTGAAGCTGGTGGCCACTTTCAGACAAATACTTCAAGGAGAGAAAAAAGCTGTTATGGAACAGTTCCGCCACTTGCCAATGCCTTTCCACTGGAAGCAGGAAGAACTCAAGTTTAAGACAGGCTTGCGGAGGCTGCAGCACCGAGTAGGGGAGATCCACCTTCTCCGAGAAGCCCTGCAGAAGGGGGCTGAGGCTGGCCAAGTGTCTCTGCACAGCTTGATAGAAACTCCTGCTAATGGGACTGGGCCAAGTGAGGCCCTGGCCATGCTACTGCAGGAGACCACTGGAGAGCTAGAGGCAGCCAAAGCCCTAGTGCTGAAGAGGATCCAGATTTGGAAACGGCAGCAGCAGCTGGCAGGGAATGGCGCACCGTTTGAGGAGAGCCTGGCCCCACTCCAGGAGAGGTGTGAAAGCCTGGTGGACATTTATTCCCAGCTACAGCAGGAGGTAGGGGCGGCTGGTGGGGAGCTTGAGCCCAAGACCCGGGCATCGCTGACTGGCCGGCTGGATGAAGTCCTGAGAACCCTCGTCACCAGTTGCTTCCTGGTGGAGAAGCAGCCCCCCCAGGTACTGAAGACTCAGACCAAGTTCCAGGCTGGAGTTCGATTCCTGTTGGGCTTGAGGTTCCTGGGGGCCCCAGCCAAGCCTCCGCTGGTCAGGGCCGACATGGTGACAGAGAAGCAGGCGCGGGAGCTGAGTGTGCCTCAGGGTCCTGGGGCTGGAGCAGAAAGCACTGGAGAAATCATCAACAACACTGTGCCCTTGGAGAACAGCATTCCTGGGAACTGCTGCTCTGCCCTGTTCAAGAACCTGCTTCTCAAGAAGATCAAGCGGTGTGAGCGGAAGGGCACTGAGTCTGTCACAGAGGAGAAGTGCGCTGTGCTCTTCTCTGCCAGCTTCACACTTGGCCCCGGCAAACTCCCCATCCAGCTCCAGGCCCTGTCTCTGCCCCTGGTGGTCATCGTCCATGGCAACCAAGACAACAATGCCAAAGCCACTATCCTGTGGGACAATGCCTTCTCTGAGATGGACCGCGTGCCCTTTGTGGTGGCTGAGCGGGTGCCCTGGGAGAAGATGTGTGAAACTCTGAACCTGAAGTTCATGGCTGAGGTGGGGACCAACCGGGGGCTGCTCCCAGAGCACTTCCTCTTCCTGGCCCAGAAGATCTTCAATGACAACAGCCTCAGTATGGAGGCCTTCCAGCACCGTTCTGTGTCCTGGTCGCAGTTCAACAAGGAGATCCTGCTGGGCCGTGGCTTCACCTTTTGGCAGTGGTTTGATGGTGTCCTGGACCTCACCAAACGCTGTCTCCGGAGCTACTGGTCTGACCGGCTGATCATTGGCTTCATCAGCAAACAGTACGTTACTAGCCTTCTTCTCAATGAGCCCGACGGAACCTTTCTCCTCCGCTTCAGCGACTCAGAGATTGGGGGCATCACCATTGCCCATGTCATCCGGGGCCAGGATGGCTCTCCACAGATAGAGAACATCCAGCCATTCTCTGCCAAAGACCTGTCCATTCGCTCACTGGGGGACCGAATCCGGGATCTTGCTCAGCTCAAAAATCTCTATCCCAAGAAGCCCAAGGATGAGGCTTTCCGGAGCCACTACAAGCCTGAACAGATGGGTAAGGATGGCAGGGGTTATGTCCCAGCTACCATCAAGATGACCGTGGAAAGGGACCAACCACTTCCTACCCCAGAGCTCCAGATGCCTACCATGGTGCCTTCTTATGACCTTGGAATGGCCCCTGATTCCTCCATGAGCATGCAGCTTGGCCCAGATATGGTGCCCCAGGTGTACCCACCACACTCTCACTCCATCCCCCCGTATCAAGGCCTCTCCCCAGAAGAATCAGTCAACGTGTTGTCAGCCTTCCAGGAGCCTCACCTGCAGATGCCCCCCAGCCTGGGCCAGATGAGCCTGCCCTTTGACCAGCCTCACCCCCAGGGCCTGCTGCCGTGCCAGCCTCAGGAGCATGCTGTGTCCAGCCCTGACCCCCTGCTCTGCTCAGATGTGACCATGGTGGAAGACAGCTGCCTGAGCCAGCCAGTGACAGCGTTTCCTCAGGGCACTTGGATTGGTGAAGACATATTCCCTCCTCTGCTGCCTCCCACTGAACAGGACCTCACTAAGCTTCTCCTGGAGGGGCAAGGGGAGTCGGGGGGAGGGTCCTTGGGGGCACAGCCCCTCCTGCAGCCCTCCCACTATGGGCAATCTGGGATCTCAATGTCCCACATGGACCTAAGGGCCAACCCCAGTTGGTGA\n",
      "Proteína:  MSLWGLVSKMPPEKVQRLYVDFPQHLRHLLGDWLESQPWEFLVGSDAFCCNLASALLSDTVQHLQASVGEQGEGSTILQHISTLESIYQRDPLKLVATFRQILQGEKKAVMEQFRHLPMPFHWKQEELKFKTGLRRLQHRVGEIHLLREALQKGAEAGQVSLHSLIETPANGTGPSEALAMLLQETTGELEAAKALVLKRIQIWKRQQQLAGNGAPFEESLAPLQERCESLVDIYSQLQQEVGAAGGELEPKTRASLTGRLDEVLRTLVTSCFLVEKQPPQVLKTQTKFQAGVRFLLGLRFLGAPAKPPLVRADMVTEKQARELSVPQGPGAGAESTGEIINNTVPLENSIPGNCCSALFKNLLLKKIKRCERKGTESVTEEKCAVLFSASFTLGPGKLPIQLQALSLPLVVIVHGNQDNNAKATILWDNAFSEMDRVPFVVAERVPWEKMCETLNLKFMAEVGTNRGLLPEHFLFLAQKIFNDNSLSMEAFQHRSVSWSQFNKEILLGRGFTFWQWFDGVLDLTKRCLRSYWSDRLIIGFISKQYVTSLLLNEPDGTFLLRFSDSEIGGITIAHVIRGQDGSPQIENIQPFSAKDLSIRSLGDRIRDLAQLKNLYPKKPKDEAFRSHYKPEQMGKDGRGYVPATIKMTVERDQPLPTPELQMPTMVPSYDLGMAPDSSMSMQLGPDMVPQVYPPHSHSIPPYQGLSPEESVNVLSAFQEPHLQMPPSLGQMSLPFDQPHPQGLLPCQPQEHAVSSPDPLLCSDVTMVEDSCLSQPVTAFPQGTWIGEDIFPPLLPPTEQDLTKLLLEGQGESGGGSLGAQPLLQPSHYGQSGISMSHMDLRANPSW*\n",
      "DNA:  ATGTCTCTGTGGGGTCTGGTCTCCAAGATGCCCCCAGAAAAAGTGCAGCGGCTCTATGTCGACTTTCCCCAACACCTGCGGCATCTTCTGGGTGACTGGCTGGAGAGCCAGCCCTGGGAGTTCCTGGTCGGCTCCGACGCCTTCTGCTGCAACTTGGCTAGTGCCCTACTTTCAGACACTGTCCAGCACCTTCAGGCCTCGGTGGGAGAGCAGGGGGAGGGGAGCACCATCTTGCAACACATCAGCACCCTTGAGAGCATATATCAGAGGGACCCCCTGAAGCTGGTGGCCACTTTCAGACAAATACTTCAAGGAGAGAAAAAAGCTGTTATGGAACAGTTCCGCCACTTGCCAATGCCTTTCCACTGGAAGCAGGAAGAACTCAAGTTTAAGACAGGCTTGCGGAGGCTGCAGCACCGAGTAGGGGAGATCCACCTTCTCCGAGAAGCCCTGCAGAAGGGGGCTGAGGCTGGCCAAGTGTCTCTGCACAGCTTGATAGAAACTCCTGCTAATGGGACTGGGCCAAGTGAGGCCCTGGCCATGCTACTGCAGGAGACCACTGGAGAGCTAGAGGCAGCCAAAGCCCTAGTGCTGAAGAGGATCCAGATTTGGAAACGGCAGCAGCAGCTGGCAGGGAATGGCGCACCGTTTGAGGAGAGCCTGGCCCCACTCCAGGAGAGGTGTGAAAGCCTGGTGGACATTTATTCCCAGCTACAGCAGGAGGTAGGGGCGGCTGGTGGGGAGCTTGAGCCCAAGACCCGGGCATCGCTGACTGGCCGGCTGGATGAAGTCCTGAGAACCCTCGTCACCAGTTGCTTCCTGGTGGAGAAGCAGCCCCCCCAGGTACTGAAGACTCAGACCAAGTTCCAGGCTGGAGTTCGATTCCTGTTGGGCTTGAGGTTCCTGGGGGCCCCAGCCAAGCCTCCGCTGGTCAGGGCCGACATGGTGACAGAGAAGCAGGCGCGGGAGCTGAGTGTGCCTCAGGGTCCTGGGGCTGGAGCAGAAAGCACTGGAGAAATCATCAACAACACTGTGCCCTTGGAGAACAGCATTCCTGGGAACTGCTGCTCTGCCCTGTTCAAGAACCTGCTTCTCAAGAAGATCAAGCGGTGTGAGCGGAAGGGCACTGAGTCTGTCACAGAGGAGAAGTGCGCTGTGCTCTTCTCTGCCAGCTTCACACTTGGCCCCGGCAAACTCCCCATCCAGCTCCAGGCCCTGTCTCTGCCCCTGGTGGTCATCGTCCATGGCAACCAAGACAACAATGCCAAAGCCACTATCCTGTGGGACAATGCCTTCTCTGAGATGGACCGCGTGCCCTTTGTGGTGGCTGAGCGGGTGCCCTGGGAGAAGATGTGTGAAACTCTGAACCTGAAGTTCATGGCTGAGGTGGGGACCAACCGGGGGCTGCTCCCAGAGCACTTCCTCTTCCTGGCCCAGAAGATCTTCAATGACAACAGCCTCAGTATGGAGGCCTTCCAGCACCGTTCTGTGTCCTGGTCGCAGTTCAACAAGATGAGGAATCTGATGCTCAGAGGGTTATGTAGTTTGTTCAAGTTCCCAAAGCAGGTGAGTGCCATGGCTAGGAGAGAACCACATATTTCTGACTCTTGCTCTTTTATTTTATGTTATATTATGTTATTTTATGTTTTGGTTTTTTTTTCTTTTCTTTCTTTCTTTCTTTCTTTCTTTCTTTCTTTCTTTCTTTCTTTCTCTTTCTTTCTTTCTTTCTTTCTTTCTTTCTTTCTTTCTTTCTTTCTTTCTTTCTTTCTTTCTCTTTCTCTTTCTCTCTTTTTCTTTCTTTTGTGTGAGACAGAATCTTTAAAGAGAAGAAAGAAATGCTCATGTGACCAGAGGGTGTGTTAG\n",
      "Proteína:  MSLWGLVSKMPPEKVQRLYVDFPQHLRHLLGDWLESQPWEFLVGSDAFCCNLASALLSDTVQHLQASVGEQGEGSTILQHISTLESIYQRDPLKLVATFRQILQGEKKAVMEQFRHLPMPFHWKQEELKFKTGLRRLQHRVGEIHLLREALQKGAEAGQVSLHSLIETPANGTGPSEALAMLLQETTGELEAAKALVLKRIQIWKRQQQLAGNGAPFEESLAPLQERCESLVDIYSQLQQEVGAAGGELEPKTRASLTGRLDEVLRTLVTSCFLVEKQPPQVLKTQTKFQAGVRFLLGLRFLGAPAKPPLVRADMVTEKQARELSVPQGPGAGAESTGEIINNTVPLENSIPGNCCSALFKNLLLKKIKRCERKGTESVTEEKCAVLFSASFTLGPGKLPIQLQALSLPLVVIVHGNQDNNAKATILWDNAFSEMDRVPFVVAERVPWEKMCETLNLKFMAEVGTNRGLLPEHFLFLAQKIFNDNSLSMEAFQHRSVSWSQFNKMRNLMLRGLCSLFKFPKQVSAMARREPHISDSCSFILCYIMLFYVLVFFSFLSFFLSFFLSFFLSFSFFLSFFLSFFLSFFLSFFLSLSLSLFFFLLCETESLKRRKKCSCDQRVC*\n",
      "DNA:  ATGGAACAGTTCCGCCACTTGCCAATGCCTTTCCACTGGAAGCAGGAAGAACTCAAGTTTAAGACAGGCTTGCGGAGGCTGCAGCACCGAGTAGGGGAGATCCACCTTCTCCGAGAAGCCCTGCAGAAGGGGGCTGAGGCTGGCCAAGTGTCTCTGCACAGCTTGATAGAAACTCCTGCTAATGGGACTGGGCCAAGTGAGGCCCTGGCCATGCTACTGCAGGAGACCACTGGAGAGCTAGAGGCAGCCAAAGCCCTAGTGCTGAAGAGGATCCAGATTTGGAAACGGCAGCAGCAGCTGGCAGGGAATGGCGCACCGTTTGAGGAGAGCCTGGCCCCACTCCAGGAGAGGTGTGAAAGCCTGGTGGACATTTATTCCCAGCTACAGCAGGAGGTAGGGGCGGCTGGTGGGGAGCTTGAGCCCAAGACCCGGGCATCGCTGACTGGCCGGCTGGATGAAGTCCTGAGAACCCTCGTCACCAGTTGCTTCCTGGTGGAGAAGCAGCCCCCCCAGGTACTGAAGACTCAGACCAAGTTCCAGGCTGGAGTTCGATTCCTGTTGGGCTTGAGGTTCCTGGGGGCCCCAGCCAAGCCTCCGCTGGTCAGGGCCGACATGGTGACAGAGAAGCAGGCGCGGGAGCTGAGTGTGCCTCAGGGTCCTGGGGCTGGAGCAGAAAGCACTGGAGAAATCATCAACAACACTGTGCCCTTGGAGAACAGCATTCCTGGGAACTGCTGCTCTGCCCTGTTCAAGAACCTGCTTCTCAAGAAGATCAAGCGGTGTGAGCGGAAGGGCACTGAGTCTGTCACAGAGGAGAAGTGCGCTGTGCTCTTCTCTGCCAGCTTCACACTTGGCCCCGGCAAACTCCCCATCCAGCTCCAGGCCCTGTCTCTGCCCCTGGTGGTCATCGTCCATGGCAACCAAGACAACAATGCCAAAGCCACTATCCTGTGGGACAATGCCTTCTCTGAGATGGACCGCGTGCCCTTTGTGGTGGCTGAGCGGGTGCCCTGGGAGAAGATGTGTGAAACTCTGAACCTGAAGTTCATGGCTGAGGTGGGGACCAACCGGGGGCTGCTCCCAGAGCACTTCCTCTTCCTGGCCCAGAAGATCTTCAATGACAACAGCCTCAGTATGGAGGCCTTCCAGCACCGTTCTGTGTCCTGGTCGCAGTTCAACAAGGAGATCCTGCTGGGCCGTGGCTTCACCTTTTGGCAGTGGTTTGATGGTGTCCTGGACCTCACCAAACGCTGTCTCCGGAGCTACTGGTCTGACCGGCTGATCATTGGCTTCATCAGCAAACAGTACGTTACTAGCCTTCTTCTCAATGAGCCCGACGGAACCTTTCTCCTCCGCTTCAGCGACTCAGAGATTGGGGGCATCACCATTGCCCATGTCATCCGGGGCCAGGATGGCTCTCCACAGATAGAGAACATCCAGCCATTCTCTGCCAAAGACCTGTCCATTCGCTCACTGGGGGACCGAATCCGGGATCTTGCTCAGCTCAAAAATCTCTATCCCAAGAAGCCCAAGGATGAGGCTTTCCGGAGCCACTACAAGCCTGAACAGATGGGTAAGGATGGCAGGGGTTATGTCCCAGCTACCATCAAGATGACCGTGGAAAGGGACCAACCACTTCCTACCCCAGAGCTCCAGATGCCTACCATGGTGCCTTCTTATGACCTTGGAATGGCCCCTGATTCCTCCATGAGCATGCAGCTTGGCCCAGATATGGTGCCCCAGGTGTACCCACCACACTCTCACTCCATCCCCCCGTATCAAGGCCTCTCCCCAGAAGAATCAGTCAACGTGTTGTCAGCCTTCCAGGAGCCTCACCTGCAGATGCCCCCCAGCCTGGGCCAGATGAGCCTGCCCTTTGACCAGCCTCACCCCCAGGGCCTGCTGCCGTGCCAGCCTCAGGAGCATGCTGTGTCCAGCCCTGACCCCCTGCTCTGCTCAGATGTGACCATGGTGGAAGACAGCTGCCTGAGCCAGCCAGTGACAGCGTTTCCTCAGGGCACTTGGATTGGTGAAGACATATTCCCTCCTCTGCTGCCTCCCACTGAACAGGACCTCACTAAGCTTCTCCTGGAGGGGCAAGGGGAGTCGGGGGGAGGGTCCTTGGGGGCACAGCCCCTCCTGCAGCCCTCCCACTATGGGCAATCTGGGATCTCAATGTCCCACATGGACCTAAGGGCCAACCCCAGTTGGTGA\n",
      "Proteína:  MEQFRHLPMPFHWKQEELKFKTGLRRLQHRVGEIHLLREALQKGAEAGQVSLHSLIETPANGTGPSEALAMLLQETTGELEAAKALVLKRIQIWKRQQQLAGNGAPFEESLAPLQERCESLVDIYSQLQQEVGAAGGELEPKTRASLTGRLDEVLRTLVTSCFLVEKQPPQVLKTQTKFQAGVRFLLGLRFLGAPAKPPLVRADMVTEKQARELSVPQGPGAGAESTGEIINNTVPLENSIPGNCCSALFKNLLLKKIKRCERKGTESVTEEKCAVLFSASFTLGPGKLPIQLQALSLPLVVIVHGNQDNNAKATILWDNAFSEMDRVPFVVAERVPWEKMCETLNLKFMAEVGTNRGLLPEHFLFLAQKIFNDNSLSMEAFQHRSVSWSQFNKEILLGRGFTFWQWFDGVLDLTKRCLRSYWSDRLIIGFISKQYVTSLLLNEPDGTFLLRFSDSEIGGITIAHVIRGQDGSPQIENIQPFSAKDLSIRSLGDRIRDLAQLKNLYPKKPKDEAFRSHYKPEQMGKDGRGYVPATIKMTVERDQPLPTPELQMPTMVPSYDLGMAPDSSMSMQLGPDMVPQVYPPHSHSIPPYQGLSPEESVNVLSAFQEPHLQMPPSLGQMSLPFDQPHPQGLLPCQPQEHAVSSPDPLLCSDVTMVEDSCLSQPVTAFPQGTWIGEDIFPPLLPPTEQDLTKLLLEGQGESGGGSLGAQPLLQPSHYGQSGISMSHMDLRANPSW*\n",
      "DNA:  ATGGAACAGTTCCGCCACTTGCCAATGCCTTTCCACTGGAAGCAGGAAGAACTCAAGTTTAAGACAGGCTTGCGGAGGCTGCAGCACCGAGTAGGGGAGATCCACCTTCTCCGAGAAGCCCTGCAGAAGGGGGCTGAGGCTGGCCAAGTGTCTCTGCACAGCTTGATAGAAACTCCTGCTAATGGGACTGGGCCAAGTGAGGCCCTGGCCATGCTACTGCAGGAGACCACTGGAGAGCTAGAGGCAGCCAAAGCCCTAGTGCTGAAGAGGATCCAGATTTGGAAACGGCAGCAGCAGCTGGCAGGGAATGGCGCACCGTTTGAGGAGAGCCTGGCCCCACTCCAGGAGAGGTGTGAAAGCCTGGTGGACATTTATTCCCAGCTACAGCAGGAGGTAGGGGCGGCTGGTGGGGAGCTTGAGCCCAAGACCCGGGCATCGCTGACTGGCCGGCTGGATGAAGTCCTGAGAACCCTCGTCACCAGTTGCTTCCTGGTGGAGAAGCAGCCCCCCCAGGTACTGAAGACTCAGACCAAGTTCCAGGCTGGAGTTCGATTCCTGTTGGGCTTGAGGTTCCTGGGGGCCCCAGCCAAGCCTCCGCTGGTCAGGGCCGACATGGTGACAGAGAAGCAGGCGCGGGAGCTGAGTGTGCCTCAGGGTCCTGGGGCTGGAGCAGAAAGCACTGGAGAAATCATCAACAACACTGTGCCCTTGGAGAACAGCATTCCTGGGAACTGCTGCTCTGCCCTGTTCAAGAACCTGCTTCTCAAGAAGATCAAGCGGTGTGAGCGGAAGGGCACTGAGTCTGTCACAGAGGAGAAGTGCGCTGTGCTCTTCTCTGCCAGCTTCACACTTGGCCCCGGCAAACTCCCCATCCAGCTCCAGGCCCTGTCTCTGCCCCTGGTGGTCATCGTCCATGGCAACCAAGACAACAATGCCAAAGCCACTATCCTGTGGGACAATGCCTTCTCTGAGATGGACCGCGTGCCCTTTGTGGTGGCTGAGCGGGTGCCCTGGGAGAAGATGTGTGAAACTCTGAACCTGAAGTTCATGGCTGAGGTGGGGACCAACCGGGGGCTGCTCCCAGAGCACTTCCTCTTCCTGGCCCAGAAGATCTTCAATGACAACAGCCTCAGTATGGAGGCCTTCCAGCACCGTTCTGTGTCCTGGTCGCAGTTCAACAAGGAGATCCTGCTGGGCCGTGGCTTCACCTTTTGGCAGTGGTTTGATGGTGTCCTGGACCTCACCAAACGCTGTCTCCGGAGCTACTGGTCTGACCGGCTGATCATTGGCTTCATCAGCAAACAGTACGTTACTAGCCTTCTTCTCAATGAGCCCGACGGAACCTTTCTCCTCCGCTTCAGCGACTCAGAGATTGGGGGCATCACCATTGCCCATGTCATCCGGGGCCAGGATGGCTCTCCACAGATAGAGAACATCCAGCCATTCTCTGCCAAAGACCTGTCCATTCGCTCACTGGGGGACCGAATCCGGGATCTTGCTCAGCTCAAAAATCTCTATCCCAAGAAGCCCAAGGATGAGGCTTTCCGGAGCCACTACAAGCCTGAACAGATGGGTAAGGATGGCAGGGGTTATGTCCCAGCTACCATCAAGATGACCGTGGAAAGGGACCAACCACTTCCTACCCCAGAGCTCCAGATGCCTACCATGGTGCCTTCTTATGACCTTGGAATGGCCCCTGATTCCTCCATGAGCATGCAGCTTGGCCCAGATATGGTGCCCCAGGTGTACCCACCACACTCTCACTCCATCCCCCCGTATCAAGGCCTCTCCCCAGAAGAATCAGTCAACGTGTTGTCAGCCTTCCAGGAGCCTCACCTGCAGATGCCCCCCAGCCTGGGCCAGATGAGCCTGCCCTTTGACCAGCCTCACCCCCAGGGCCTGCTGCCGTGCCAGCCTCAGGAGCATGCTGTGTCCAGCCCTGACCCCCTGCTCTGCTCAGATGTGACCATGGTGGAAGACAGCTGCCTGAGCCAGCCAGTGACAGCGTTTCCTCAGGGCACTTGGATTGGTGAAGACATATTCCCTCCTCTGCTGCCTCCCACTGAACAGGACCTCACTAAGCTTCTCCTGGAGGGGCAAGGGGAGTCGGGGGGAGGGTCCTTGGGGGCACAGCCCCTCCTGCAGCCCTCCCACTATGGGCAATCTGGGATCTCAATGTCCCACATGGACCTAAGGGCCAACCCCAGTTGGTGA\n",
      "Proteína:  MEQFRHLPMPFHWKQEELKFKTGLRRLQHRVGEIHLLREALQKGAEAGQVSLHSLIETPANGTGPSEALAMLLQETTGELEAAKALVLKRIQIWKRQQQLAGNGAPFEESLAPLQERCESLVDIYSQLQQEVGAAGGELEPKTRASLTGRLDEVLRTLVTSCFLVEKQPPQVLKTQTKFQAGVRFLLGLRFLGAPAKPPLVRADMVTEKQARELSVPQGPGAGAESTGEIINNTVPLENSIPGNCCSALFKNLLLKKIKRCERKGTESVTEEKCAVLFSASFTLGPGKLPIQLQALSLPLVVIVHGNQDNNAKATILWDNAFSEMDRVPFVVAERVPWEKMCETLNLKFMAEVGTNRGLLPEHFLFLAQKIFNDNSLSMEAFQHRSVSWSQFNKEILLGRGFTFWQWFDGVLDLTKRCLRSYWSDRLIIGFISKQYVTSLLLNEPDGTFLLRFSDSEIGGITIAHVIRGQDGSPQIENIQPFSAKDLSIRSLGDRIRDLAQLKNLYPKKPKDEAFRSHYKPEQMGKDGRGYVPATIKMTVERDQPLPTPELQMPTMVPSYDLGMAPDSSMSMQLGPDMVPQVYPPHSHSIPPYQGLSPEESVNVLSAFQEPHLQMPPSLGQMSLPFDQPHPQGLLPCQPQEHAVSSPDPLLCSDVTMVEDSCLSQPVTAFPQGTWIGEDIFPPLLPPTEQDLTKLLLEGQGESGGGSLGAQPLLQPSHYGQSGISMSHMDLRANPSW*\n",
      "DNA:  ATGTGTCTGGGATTCATGCACACTGGGGCCCGGGCCCTGTCTCTGCCCCTGGTGGTCATCGTCCATGGCAACCAAGACAACAATGCCAAAGCCACTATCCTGTGGGACAATGCCTTCTCTGAGATGGACCGCGTGCCCTTTGTGGTGGCTGAGCGGGTGCCCTGGGAGAAGATGTGTGAAACTCTGAACCTGAAGTTCATGGCTGAGGTGGGGACCAACCGGGGGCTGCTCCCAGAGCACTTCCTCTTCCTGGCCCAGAAGATCTTCAATGACAACAGCCTCAGTATGGAGGCCTTCCAGCACCGTTCTGTGTCCTGGTCGCAGTTCAACAAGGAGATCCTGCTGGGCCGTGGCTTCACCTTTTGGCAGTGGTTTGATGGTGTCCTGGACCTCACCAAACGCTGTCTCCGGAGCTACTGGTCTGACCGGCTGATCATTGGCTTCATCAGCAAACAGTACGTTACTAGCCTTCTTCTCAATGAGCCCGACGGAACCTTTCTCCTCCGCTTCAGCGACTCAGAGATTGGGGGCATCACCATTGCCCATGTCATCCGGGGCCAGGATGGCTCTCCACAGATAGAGAACATCCAGCCATTCTCTGCCAAAGACCTGTCCATTCGCTCACTGGGGGACCGAATCCGGGATCTTGCTCAGCTCAAAAATCTCTATCCCAAGAAGCCCAAGGATGAGGCTTTCCGGAGCCACTACAAGCCTGAACAGATGGGTAAGGATGGCAGGGGTTATGTCCCAGCTACCATCAAGATGACCGTGGAAAGGGACCAACCACTTCCTACCCCAGAGCTCCAGATGCCTACCATGGTGCCTTCTTATGACCTTGGAATGGCCCCTGATTCCTCCATGAGCATGCAGCTTGGCCCAGATATGGTGCCCCAGGTGTACCCACCACACTCTCACTCCATCCCCCCGTATCAAGGCCTCTCCCCAGAAGAATCAGTCAACGTGTTGTCAGCCTTCCAGGAGCCTCACCTGCAGATGCCCCCCAGCCTGGGCCAGATGAGCCTGCCCTTTGACCAGCCTCACCCCCAGGGCCTGCTGCCGTGCCAGCCTCAGGAGCATGCTGTGTCCAGCCCTGACCCCCTGCTCTGCTCAGATGTGACCATGGTGGAAGACAGCTGCCTGAGCCAGCCAGTGACAGCGTTTCCTCAGGGCACTTGGATTGGTGAAGACATATTCCCTCCTCTGCTGCCTCCCACTGAACAGGACCTCACTAAGCTTCTCCTGGAGGGGCAAGGGGAGTCGGGGGGAGGGTCCTTGGGGGCACAGCCCCTCCTGCAGCCCTCCCACTATGGGCAATCTGGGATCTCAATGTCCCACATGGACCTAAGGGCCAACCCCAGTTGGTGA\n",
      "Proteína:  MCLGFMHTGARALSLPLVVIVHGNQDNNAKATILWDNAFSEMDRVPFVVAERVPWEKMCETLNLKFMAEVGTNRGLLPEHFLFLAQKIFNDNSLSMEAFQHRSVSWSQFNKEILLGRGFTFWQWFDGVLDLTKRCLRSYWSDRLIIGFISKQYVTSLLLNEPDGTFLLRFSDSEIGGITIAHVIRGQDGSPQIENIQPFSAKDLSIRSLGDRIRDLAQLKNLYPKKPKDEAFRSHYKPEQMGKDGRGYVPATIKMTVERDQPLPTPELQMPTMVPSYDLGMAPDSSMSMQLGPDMVPQVYPPHSHSIPPYQGLSPEESVNVLSAFQEPHLQMPPSLGQMSLPFDQPHPQGLLPCQPQEHAVSSPDPLLCSDVTMVEDSCLSQPVTAFPQGTWIGEDIFPPLLPPTEQDLTKLLLEGQGESGGGSLGAQPLLQPSHYGQSGISMSHMDLRANPSW*\n"
     ]
    }
   ],
   "source": [
    "for i in feat_cds:\n",
    "    coding_dna = record4.features[i].extract(record4.seq)\n",
    "    print(\"DNA: \", coding_dna)\n",
    "    print(\"Proteína: \", coding_dna.translate())"
   ]
  },
  {
   "cell_type": "code",
   "execution_count": 58,
   "id": "79f63913",
   "metadata": {},
   "outputs": [
    {
     "name": "stdout",
     "output_type": "stream",
     "text": [
      "Número de features tipo gene:  3\n"
     ]
    }
   ],
   "source": [
    "feat_gene = []\n",
    "for j in range(len(record4.features)):\n",
    "    if record4.features[j].type == 'gene':\n",
    "        feat_gene.append(j)\n",
    "print('Número de features tipo gene: ', len(feat_gene))"
   ]
  }
 ],
 "metadata": {
  "kernelspec": {
   "display_name": "Python 3 (ipykernel)",
   "language": "python",
   "name": "python3"
  },
  "language_info": {
   "codemirror_mode": {
    "name": "ipython",
    "version": 3
   },
   "file_extension": ".py",
   "mimetype": "text/x-python",
   "name": "python",
   "nbconvert_exporter": "python",
   "pygments_lexer": "ipython3",
   "version": "3.11.4"
  }
 },
 "nbformat": 4,
 "nbformat_minor": 5
}
