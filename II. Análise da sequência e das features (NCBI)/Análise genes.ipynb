{
 "cells": [
  {
   "cell_type": "markdown",
   "id": "4b605a6e-8300-4ce5-a694-a4648fc0fbe3",
   "metadata": {},
   "source": [
    "## Análise dos genes"
   ]
  },
  {
   "cell_type": "code",
   "execution_count": 2,
   "id": "74c8af55-d2e4-4834-87b7-1f8e680f8b78",
   "metadata": {},
   "outputs": [],
   "source": [
    "# Importação dos módulos utilizados\n",
    "from Bio import SeqIO\n",
    "from Bio.Seq import Seq\n",
    "from Bio.SeqRecord import SeqRecord\n",
    "from Bio import SeqFeature"
   ]
  },
  {
   "cell_type": "markdown",
   "id": "39a93835",
   "metadata": {},
   "source": [
    "### 01: Gene TGF-β1 (transforming growth factor beta 1 )"
   ]
  },
  {
   "cell_type": "code",
   "execution_count": 2,
   "id": "e3c62d62",
   "metadata": {},
   "outputs": [
    {
     "data": {
      "text/plain": [
       "SeqRecord(seq=Seq('ATGATCCACCCCCCCCTAAGCCTCCTAAAGTGCTGGGATTAGAGGTGTGAGCCA...CTC'), id='NG_013364.1', name='NG_013364', description='Homo sapiens transforming growth factor beta 1 (TGFB1), RefSeqGene on chromosome 19', dbxrefs=[])"
      ]
     },
     "execution_count": 2,
     "metadata": {},
     "output_type": "execute_result"
    }
   ],
   "source": [
    "# Leitura do documento em formato genbank:\n",
    "record = SeqIO.read(\"TGFB1.gb\", \"genbank\") \n",
    "record"
   ]
  },
  {
   "cell_type": "code",
   "execution_count": 7,
   "id": "c4426eee",
   "metadata": {},
   "outputs": [
    {
     "name": "stdout",
     "output_type": "stream",
     "text": [
      "30020\n",
      "NG_013364.1\n",
      "Homo sapiens transforming growth factor beta 1 (TGFB1), RefSeqGene on chromosome 19\n",
      "NG_013364\n"
     ]
    }
   ],
   "source": [
    "# Visualização de características das sequências\n",
    "print(len(record.seq))\n",
    "print(record.id)\n",
    "print(record.description)\n",
    "print(record.name)"
   ]
  },
  {
   "cell_type": "code",
   "execution_count": 8,
   "id": "0367cd76",
   "metadata": {},
   "outputs": [
    {
     "name": "stdout",
     "output_type": "stream",
     "text": [
      "{'molecule_type': 'DNA', 'topology': 'linear', 'data_file_division': 'PRI', 'date': '19-JAN-2024', 'accessions': ['NG_013364'], 'sequence_version': 1, 'keywords': ['RefSeq', 'RefSeqGene'], 'source': 'Homo sapiens (human)', 'organism': 'Homo sapiens', 'taxonomy': ['Eukaryota', 'Metazoa', 'Chordata', 'Craniata', 'Vertebrata', 'Euteleostomi', 'Mammalia', 'Eutheria', 'Euarchontoglires', 'Primates', 'Haplorrhini', 'Catarrhini', 'Hominidae', 'Homo'], 'references': [Reference(title='Processing of transforming growth factor beta 1 precursor by human furin convertase', ...), Reference(title='Camurati-Engelmann Disease', ...), Reference(title='Characterization of the promoter region of the human transforming growth factor-beta 1 gene', ...), Reference(title='Latent high molecular weight complex of transforming growth factor beta 1. Purification from human platelets and structural characterization', ...), Reference(title='Intron-exon structure of the human transforming growth factor-beta precursor gene', ...), Reference(title='Human transforming growth factor-beta complementary DNA sequence and expression in normal and transformed cells', ...)], 'comment': 'REVIEWED REFSEQ: This record has been curated by NCBI staff. The\\nreference sequence was derived from AC011462.4.\\nThis sequence is a reference standard in the RefSeqGene project.\\nSummary: This gene encodes a secreted ligand of the TGF-beta\\n(transforming growth factor-beta) superfamily of proteins. Ligands\\nof this family bind various TGF-beta receptors leading to\\nrecruitment and activation of SMAD family transcription factors\\nthat regulate gene expression. The encoded preproprotein is\\nproteolytically processed to generate a latency-associated peptide\\n(LAP) and a mature peptide, and is found in either a latent form\\ncomposed of a mature peptide homodimer, a LAP homodimer, and a\\nlatent TGF-beta binding protein, or in an active form consisting\\nsolely of the mature peptide homodimer. The mature peptide may also\\nform heterodimers with other TGFB family members. This encoded\\nprotein regulates cell proliferation, differentiation and growth,\\nand can modulate expression and activation of other growth factors\\nincluding interferon gamma and tumor necrosis factor alpha. This\\ngene is frequently upregulated in tumor cells, and mutations in\\nthis gene result in Camurati-Engelmann disease. [provided by\\nRefSeq, Aug 2016].'}\n"
     ]
    }
   ],
   "source": [
    "# Visualização das anotações do ficheiro\n",
    "print(record.annotations)"
   ]
  },
  {
   "cell_type": "code",
   "execution_count": 9,
   "id": "fa3ad5b7",
   "metadata": {},
   "outputs": [
    {
     "name": "stdout",
     "output_type": "stream",
     "text": [
      "[]\n",
      "Homo sapiens (human)\n",
      "['Eukaryota', 'Metazoa', 'Chordata', 'Craniata', 'Vertebrata', 'Euteleostomi', 'Mammalia', 'Eutheria', 'Euarchontoglires', 'Primates', 'Haplorrhini', 'Catarrhini', 'Hominidae', 'Homo']\n"
     ]
    }
   ],
   "source": [
    "# Visualização da txonomia do organismos da sequência anlisada e a base de dados\n",
    "print(record.dbxrefs)\n",
    "print(record.annotations[\"source\"] )\n",
    "print(record.annotations[\"taxonomy\"])"
   ]
  },
  {
   "cell_type": "code",
   "execution_count": 10,
   "id": "e2545624",
   "metadata": {},
   "outputs": [
    {
     "name": "stdout",
     "output_type": "stream",
     "text": [
      "Temos 25 features\n"
     ]
    },
    {
     "data": {
      "text/plain": [
       "[SeqFeature(SimpleLocation(ExactPosition(0), ExactPosition(30020), strand=1), type='source', qualifiers=...),\n",
       " SeqFeature(SimpleLocation(BeforePosition(0), ExactPosition(4510), strand=1), type='gene', qualifiers=...),\n",
       " SeqFeature(CompoundLocation([SimpleLocation(BeforePosition(904), ExactPosition(1030), strand=1), SimpleLocation(ExactPosition(3913), ExactPosition(4510), strand=1)], 'join'), type='mRNA', location_operator='join', qualifiers=...),\n",
       " SeqFeature(CompoundLocation([SimpleLocation(BeforePosition(904), ExactPosition(1030), strand=1), SimpleLocation(ExactPosition(3913), ExactPosition(4227), strand=1)], 'join'), type='CDS', location_operator='join', qualifiers=...),\n",
       " SeqFeature(SimpleLocation(ExactPosition(5004), ExactPosition(28604), strand=1), type='gene', qualifiers=...),\n",
       " SeqFeature(CompoundLocation([SimpleLocation(ExactPosition(5004), ExactPosition(6237), strand=1), SimpleLocation(ExactPosition(10471), ExactPosition(10632), strand=1), SimpleLocation(ExactPosition(14062), ExactPosition(14180), strand=1), SimpleLocation(ExactPosition(16679), ExactPosition(16757), strand=1), SimpleLocation(ExactPosition(16896), ExactPosition(17044), strand=1), SimpleLocation(ExactPosition(26645), ExactPosition(26799), strand=1), SimpleLocation(ExactPosition(27716), ExactPosition(28604), strand=1)], 'join'), type='mRNA', location_operator='join', qualifiers=...),\n",
       " SeqFeature(SimpleLocation(ExactPosition(5004), ExactPosition(6237), strand=1), type='exon', qualifiers=...),\n",
       " SeqFeature(CompoundLocation([SimpleLocation(ExactPosition(5882), ExactPosition(6237), strand=1), SimpleLocation(ExactPosition(10471), ExactPosition(10632), strand=1), SimpleLocation(ExactPosition(14062), ExactPosition(14180), strand=1), SimpleLocation(ExactPosition(16679), ExactPosition(16757), strand=1), SimpleLocation(ExactPosition(16896), ExactPosition(17044), strand=1), SimpleLocation(ExactPosition(26645), ExactPosition(26799), strand=1), SimpleLocation(ExactPosition(27716), ExactPosition(27875), strand=1)], 'join'), type='CDS', location_operator='join', qualifiers=...),\n",
       " SeqFeature(SimpleLocation(ExactPosition(5882), ExactPosition(5969), strand=1), type='sig_peptide', qualifiers=...),\n",
       " SeqFeature(CompoundLocation([SimpleLocation(ExactPosition(5969), ExactPosition(6237), strand=1), SimpleLocation(ExactPosition(10471), ExactPosition(10632), strand=1), SimpleLocation(ExactPosition(14062), ExactPosition(14180), strand=1), SimpleLocation(ExactPosition(16679), ExactPosition(16757), strand=1), SimpleLocation(ExactPosition(16896), ExactPosition(17018), strand=1)], 'join'), type='mat_peptide', location_operator='join', qualifiers=...),\n",
       " SeqFeature(SimpleLocation(ExactPosition(5969), ExactPosition(6104), strand=1), type='misc_feature', qualifiers=...),\n",
       " SeqFeature(CompoundLocation([SimpleLocation(ExactPosition(6104), ExactPosition(6237), strand=1), SimpleLocation(ExactPosition(10471), ExactPosition(10632), strand=1), SimpleLocation(ExactPosition(14062), ExactPosition(14180), strand=1), SimpleLocation(ExactPosition(16679), ExactPosition(16757), strand=1), SimpleLocation(ExactPosition(16896), ExactPosition(16997), strand=1)], 'join'), type='misc_feature', location_operator='join', qualifiers=...),\n",
       " SeqFeature(SimpleLocation(ExactPosition(6125), ExactPosition(6128), strand=1), type='misc_feature', qualifiers=...),\n",
       " SeqFeature(SimpleLocation(ExactPosition(10521), ExactPosition(10524), strand=1), type='misc_feature', qualifiers=...),\n",
       " SeqFeature(SimpleLocation(ExactPosition(14071), ExactPosition(14074), strand=1), type='misc_feature', qualifiers=...),\n",
       " SeqFeature(CompoundLocation([SimpleLocation(ExactPosition(16720), ExactPosition(16757), strand=1), SimpleLocation(ExactPosition(16896), ExactPosition(16940), strand=1)], 'join'), type='misc_feature', location_operator='join', qualifiers=...),\n",
       " SeqFeature(SimpleLocation(ExactPosition(16913), ExactPosition(16922), strand=1), type='misc_feature', qualifiers=...),\n",
       " SeqFeature(SimpleLocation(ExactPosition(17015), ExactPosition(17021), strand=1), type='misc_feature', qualifiers=...),\n",
       " SeqFeature(CompoundLocation([SimpleLocation(ExactPosition(17018), ExactPosition(17044), strand=1), SimpleLocation(ExactPosition(26645), ExactPosition(26799), strand=1), SimpleLocation(ExactPosition(27716), ExactPosition(27872), strand=1)], 'join'), type='mat_peptide', location_operator='join', qualifiers=...),\n",
       " SeqFeature(SimpleLocation(ExactPosition(10471), ExactPosition(10632), strand=1), type='exon', qualifiers=...),\n",
       " SeqFeature(SimpleLocation(ExactPosition(14062), ExactPosition(14180), strand=1), type='exon', qualifiers=...),\n",
       " SeqFeature(SimpleLocation(ExactPosition(16679), ExactPosition(16757), strand=1), type='exon', qualifiers=...),\n",
       " SeqFeature(SimpleLocation(ExactPosition(16896), ExactPosition(17044), strand=1), type='exon', qualifiers=...),\n",
       " SeqFeature(SimpleLocation(ExactPosition(26645), ExactPosition(26799), strand=1), type='exon', qualifiers=...),\n",
       " SeqFeature(SimpleLocation(ExactPosition(27716), ExactPosition(28604), strand=1), type='exon', qualifiers=...)]"
      ]
     },
     "execution_count": 10,
     "metadata": {},
     "output_type": "execute_result"
    }
   ],
   "source": [
    "# Visualização das features e sua quantidade\n",
    "print(\"Temos\", len(record.features), \"features\")\n",
    "record.features"
   ]
  },
  {
   "cell_type": "code",
   "execution_count": 11,
   "id": "ca03389d",
   "metadata": {},
   "outputs": [
    {
     "name": "stdout",
     "output_type": "stream",
     "text": [
      "source [0:30020](+)\n",
      "gene [<0:4510](+)\n",
      "mRNA join{[<904:1030](+), [3913:4510](+)}\n",
      "CDS join{[<904:1030](+), [3913:4227](+)}\n",
      "gene [5004:28604](+)\n",
      "mRNA join{[5004:6237](+), [10471:10632](+), [14062:14180](+), [16679:16757](+), [16896:17044](+), [26645:26799](+), [27716:28604](+)}\n",
      "exon [5004:6237](+)\n",
      "CDS join{[5882:6237](+), [10471:10632](+), [14062:14180](+), [16679:16757](+), [16896:17044](+), [26645:26799](+), [27716:27875](+)}\n",
      "sig_peptide [5882:5969](+)\n",
      "mat_peptide join{[5969:6237](+), [10471:10632](+), [14062:14180](+), [16679:16757](+), [16896:17018](+)}\n",
      "misc_feature [5969:6104](+)\n",
      "misc_feature join{[6104:6237](+), [10471:10632](+), [14062:14180](+), [16679:16757](+), [16896:16997](+)}\n",
      "misc_feature [6125:6128](+)\n",
      "misc_feature [10521:10524](+)\n",
      "misc_feature [14071:14074](+)\n",
      "misc_feature join{[16720:16757](+), [16896:16940](+)}\n",
      "misc_feature [16913:16922](+)\n",
      "misc_feature [17015:17021](+)\n",
      "mat_peptide join{[17018:17044](+), [26645:26799](+), [27716:27872](+)}\n",
      "exon [10471:10632](+)\n",
      "exon [14062:14180](+)\n",
      "exon [16679:16757](+)\n",
      "exon [16896:17044](+)\n",
      "exon [26645:26799](+)\n",
      "exon [27716:28604](+)\n"
     ]
    }
   ],
   "source": [
    "# Determinação dos tipos de feature e suas localizações\n",
    "for t in record.features:\n",
    "    print(t.type, t.location)"
   ]
  },
  {
   "cell_type": "code",
   "execution_count": 12,
   "id": "5979187b",
   "metadata": {},
   "outputs": [
    {
     "name": "stdout",
     "output_type": "stream",
     "text": [
      "type: CDS\n",
      "location: join{[<904:1030](+), [3913:4227](+)}\n",
      "qualifiers:\n",
      "    Key: codon_start, Value: ['3']\n",
      "    Key: db_xref, Value: ['CCDS:CCDS12579.1', 'GeneID:80776', 'HGNC:HGNC:28636', 'MIM:611951']\n",
      "    Key: exception, Value: ['annotated by transcript or proteomic data']\n",
      "    Key: gene, Value: ['B9D2']\n",
      "    Key: gene_synonym, Value: ['ICIS-1; JBTS34; MKS10; MKSR-2; MKSR2']\n",
      "    Key: inference, Value: ['similar to AA sequence (same species):RefSeq:NP_085055.2']\n",
      "    Key: note, Value: ['MKS1-related protein 2; involved in cIlia stability-1; B9 protein domain 2']\n",
      "    Key: product, Value: ['B9 domain-containing protein 2']\n",
      "    Key: protein_id, Value: ['NP_085055.2']\n",
      "    Key: translation, Value: ['MAEVHVIGQIIGASGFSESSLFCKWGIHTGAAWKLLSGVREGQTQVDTPQIGDMAYWSHPIDLHFATKGLQGWPRLHFQVWSQDSFGRCQLAGYGFCHVPSSPGTHQLACPTWRPLGSWREQLARAFVGGGPQLLHGDTIYSGADRYRLHTAAGGTVHLEIGLLLRNFDRYGVEC']\n",
      "\n",
      "type: CDS\n",
      "location: join{[5882:6237](+), [10471:10632](+), [14062:14180](+), [16679:16757](+), [16896:17044](+), [26645:26799](+), [27716:27875](+)}\n",
      "qualifiers:\n",
      "    Key: codon_start, Value: ['1']\n",
      "    Key: db_xref, Value: ['CCDS:CCDS33031.1', 'GeneID:7040', 'HGNC:HGNC:11766', 'MIM:190180']\n",
      "    Key: gene, Value: ['TGFB1']\n",
      "    Key: gene_synonym, Value: ['CED; DPD1; IBDIMDE; LAP; TGF-beta1; TGFB; TGFbeta']\n",
      "    Key: note, Value: ['prepro-transforming growth factor beta-1; latency-associated peptide; TGF-beta-1; transforming growth factor beta-1 proprotein; transforming growth factor beta1']\n",
      "    Key: product, Value: ['transforming growth factor beta-1 proprotein preproprotein']\n",
      "    Key: protein_id, Value: ['NP_000651.3']\n",
      "    Key: translation, Value: ['MPPSGLRLLPLLLPLLWLLVLTPGRPAAGLSTCKTIDMELVKRKRIEAIRGQILSKLRLASPPSQGEVPPGPLPEAVLALYNSTRDRVAGESAEPEPEPEADYYAKEVTRVLMVETHNEIYDKFKQSTHSIYMFFNTSELREAVPEPVLLSRAELRLLRLKLKVEQHVELYQKYSNNSWRYLSNRLLAPSDSPEWLSFDVTGVVRQWLSRGGEIEGFRLSAHCSCDSRDNTLQVDINGFTTGRRGDLATIHGMNRPFLLLMATPLERAQHLQSSRHRRALDTNYCFSSTEKNCCVRQLYIDFRKDLGWKWIHEPKGYHANFCLGPCPYIWSLDTQYSKVLALYNQHNPGASAAPCCVPQALEPLPIVYYVGRKPKVEQLSNMIVRSCKCS']\n",
      "\n"
     ]
    },
    {
     "data": {
      "text/plain": [
       "[3, 7]"
      ]
     },
     "execution_count": 12,
     "metadata": {},
     "output_type": "execute_result"
    }
   ],
   "source": [
    "# Saber quais features que são do tipo \"CDS\"\n",
    "feat_cds= []\n",
    "for i in range(len(record.features)):\n",
    "    if record.features[i].type == \"CDS\":\n",
    "        feat_cds.append(i)\n",
    "        print(record.features[i])\n",
    "feat_cds"
   ]
  },
  {
   "cell_type": "code",
   "execution_count": 16,
   "id": "b2909ca8",
   "metadata": {},
   "outputs": [
    {
     "name": "stdout",
     "output_type": "stream",
     "text": [
      "{'gene': ['TGFB1'], 'gene_synonym': ['CED; DPD1; IBDIMDE; LAP; TGF-beta1; TGFB; TGFbeta'], 'note': ['Derived by automated computational analysis using gene prediction method: BestRefSeq.'], 'codon_start': ['1'], 'product': ['transforming growth factor beta-1 proprotein preproprotein'], 'protein_id': ['NP_000651.3'], 'db_xref': ['CCDS:CCDS33031.1', 'Ensembl:ENSP00000221930.4', 'GeneID:7040', 'HGNC:HGNC:11766', 'MIM:190180'], 'translation': ['MPPSGLRLLPLLLPLLWLLVLTPGRPAAGLSTCKTIDMELVKRKRIEAIRGQILSKLRLASPPSQGEVPPGPLPEAVLALYNSTRDRVAGESAEPEPEPEADYYAKEVTRVLMVETHNEIYDKFKQSTHSIYMFFNTSELREAVPEPVLLSRAELRLLRLKLKVEQHVELYQKYSNNSWRYLSNRLLAPSDSPEWLSFDVTGVVRQWLSRGGEIEGFRLSAHCSCDSRDNTLQVDINGFTTGRRGDLATIHGMNRPFLLLMATPLERAQHLQSSRHRRALDTNYCFSSTEKNCCVRQLYIDFRKDLGWKWIHEPKGYHANFCLGPCPYIWSLDTQYSKVLALYNQHNPGASAAPCCVPQALEPLPIVYYVGRKPKVEQLSNMIVRSCKCS']}\n",
      "{'gene': ['TGFB1'], 'gene_synonym': ['CED; DPD1; IBDIMDE; LAP; TGF-beta1; TGFB; TGFbeta'], 'note': ['Derived by automated computational analysis using gene prediction method: Gnomon.'], 'codon_start': ['1'], 'product': ['transforming growth factor beta-1 proprotein isoform X1'], 'protein_id': ['XP_011525544.1'], 'db_xref': ['GeneID:7040', 'HGNC:HGNC:11766', 'MIM:190180'], 'translation': ['MPPSGLRLLPLLLPLLWLLVLTPGRPAAGLSTCKTIDMELVKRKRIEAIRGQILSKLRLASPPSQGEVPPGPLPEAVLALYNSTRDRVAGESAEPEPEPEADYYAKEVTRVLMVETHNEIYDKFKQSTHSIYMFFNTSELREAVPEPVLLSRAELRLLRLKLKVEQHVELYQKYSNNSWRYLSNRLLAPSDSPEWLSFDVTGVVRQWLSRGGEIEGFRLSAHCSCDSRDNTLQVDINAGFTTGRRGDLATIHGMNRPFLLLMATPLERAQHLQSSRHRRALDTNYCFSSTEKNCCVRQLYIDFRKDLGWKWIHEPKGYHANFCLGPCPYIWSLDTQYSKVLALYNQHNPGASAAPCCVPQALEPLPIVYYVGRKPKVEQLSNMIVRSCKCS']}\n"
     ]
    }
   ],
   "source": [
    "print(record.features[4].qualifiers)\n",
    "print(record.features[5].qualifiers)"
   ]
  },
  {
   "cell_type": "code",
   "execution_count": 13,
   "id": "e9d89798",
   "metadata": {},
   "outputs": [
    {
     "name": "stdout",
     "output_type": "stream",
     "text": [
      "DNA:  GGGCGGCATGGAAGCTCCTGTCAGGCGTGCGGGAGGGCCAAACGCAAGTGGACACCCCGCAGATAGGGGACATGGCTTACTGGTCCCACCCCATCGACCTGCACTTCGCCACCAAAGGTCTTCAAGGCTGGCCCCGGCTCCATTTCCAGGTGTGGTCCCAGGACAGCTTTGGCCGCTGCCAGCTTGCAGGCTATGGATTTTGCCATGTGCCCAGTAGCCCGGGCACCCACCAGCTGGCCTGCCCCACGTGGCGGCCCCTGGGCAGTTGGCGAGAACAGTTGGCACGGGCTTTCGTGGGTGGTGGGCCGCAGCTGCTGCATGGGGACACCATCTACAGTGGGGCCGACCGCTATCGCCTGCACACAGCTGCTGGTGGCACCGTGCACCTGGAGATCGGCCTGCTGCTCCGCAACTTCGACCGCTACGGCGTGGAGTGCTGA\n",
      "Proteína:  GRHGSSCQACGRAKRKWTPRR*GTWLTGPTPSTCTSPPKVFKAGPGSISRCGPRTALAAASLQAMDFAMCPVARAPTSWPAPRGGPWAVGENSWHGLSWVVGRSCCMGTPSTVGPTAIACTQLLVAPCTWRSACCSATSTATAWSA\n",
      "DNA:  ATGCCGCCCTCCGGGCTGCGGCTGCTGCCGCTGCTGCTACCGCTGCTGTGGCTACTGGTGCTGACGCCTGGCCGGCCGGCCGCGGGACTATCCACCTGCAAGACTATCGACATGGAGCTGGTGAAGCGGAAGCGCATCGAGGCCATCCGCGGCCAGATCCTGTCCAAGCTGCGGCTCGCCAGCCCCCCGAGCCAGGGGGAGGTGCCGCCCGGCCCGCTGCCCGAGGCCGTGCTCGCCCTGTACAACAGCACCCGCGACCGGGTGGCCGGGGAGAGTGCAGAACCGGAGCCCGAGCCTGAGGCCGACTACTACGCCAAGGAGGTCACCCGCGTGCTAATGGTGGAAACCCACAACGAAATCTATGACAAGTTCAAGCAGAGTACACACAGCATATATATGTTCTTCAACACATCAGAGCTCCGAGAAGCGGTACCTGAACCCGTGTTGCTCTCCCGGGCAGAGCTGCGTCTGCTGAGGCTCAAGTTAAAAGTGGAGCAGCACGTGGAGCTGTACCAGAAATACAGCAACAATTCCTGGCGATACCTCAGCAACCGGCTGCTGGCACCCAGCGACTCGCCAGAGTGGTTATCTTTTGATGTCACCGGAGTTGTGCGGCAGTGGTTGAGCCGTGGAGGGGAAATTGAGGGCTTTCGCCTTAGCGCCCACTGCTCCTGTGACAGCAGGGATAACACACTGCAAGTGGACATCAACGGGTTCACTACCGGCCGCCGAGGTGACCTGGCCACCATTCATGGCATGAACCGGCCTTTCCTGCTTCTCATGGCCACCCCGCTGGAGAGGGCCCAGCATCTGCAAAGCTCCCGGCACCGCCGAGCCCTGGACACCAACTATTGCTTCAGCTCCACGGAGAAGAACTGCTGCGTGCGGCAGCTGTACATTGACTTCCGCAAGGACCTCGGCTGGAAGTGGATCCACGAGCCCAAGGGCTACCATGCCAACTTCTGCCTCGGGCCCTGCCCCTACATTTGGAGCCTGGACACGCAGTACAGCAAGGTCCTGGCCCTGTACAACCAGCATAACCCGGGCGCCTCGGCGGCGCCGTGCTGCGTGCCGCAGGCGCTGGAGCCGCTGCCCATCGTGTACTACGTGGGCCGCAAGCCCAAGGTGGAGCAGCTGTCCAACATGATCGTGCGCTCCTGCAAGTGCAGCTGA\n",
      "Proteína:  MPPSGLRLLPLLLPLLWLLVLTPGRPAAGLSTCKTIDMELVKRKRIEAIRGQILSKLRLASPPSQGEVPPGPLPEAVLALYNSTRDRVAGESAEPEPEPEADYYAKEVTRVLMVETHNEIYDKFKQSTHSIYMFFNTSELREAVPEPVLLSRAELRLLRLKLKVEQHVELYQKYSNNSWRYLSNRLLAPSDSPEWLSFDVTGVVRQWLSRGGEIEGFRLSAHCSCDSRDNTLQVDINGFTTGRRGDLATIHGMNRPFLLLMATPLERAQHLQSSRHRRALDTNYCFSSTEKNCCVRQLYIDFRKDLGWKWIHEPKGYHANFCLGPCPYIWSLDTQYSKVLALYNQHNPGASAAPCCVPQALEPLPIVYYVGRKPKVEQLSNMIVRSCKCS*\n"
     ]
    },
    {
     "name": "stderr",
     "output_type": "stream",
     "text": [
      "C:\\Users\\Bárbara\\AppData\\Local\\Programs\\Python\\Python311\\Lib\\site-packages\\Bio\\Seq.py:2804: BiopythonWarning: Partial codon, len(sequence) not a multiple of three. Explicitly trim the sequence or add trailing N before translation. This may become an error in future.\n",
      "  warnings.warn(\n"
     ]
    }
   ],
   "source": [
    "# Saber a proteína codificada nos \"CDS\"\n",
    "for i in feat_cds:\n",
    "    coding_dna = record.features[i].extract(record.seq)\n",
    "    print(\"DNA: \", coding_dna)\n",
    "    print(\"Proteína: \", coding_dna.translate())"
   ]
  },
  {
   "cell_type": "code",
   "execution_count": 15,
   "id": "d2f4445d",
   "metadata": {},
   "outputs": [
    {
     "name": "stdout",
     "output_type": "stream",
     "text": [
      "Número de features tipo gene:  2\n"
     ]
    }
   ],
   "source": [
    "# Saber o número de features do tipo \"gene\"\n",
    "feat_gene = []\n",
    "for j in range(len(record.features)):\n",
    "    if record.features[j].type == 'gene':\n",
    "        feat_gene.append(j)\n",
    "print('Número de features tipo gene: ', len(feat_gene))"
   ]
  },
  {
   "cell_type": "markdown",
   "id": "53d923d9-ce29-48ae-aa58-a5c598804c02",
   "metadata": {},
   "source": [
    "<span style='color: red;'>O código se repete para os demais genes, seguindo a mesma sequência e ideologia dos códigos descritos para o gene: TGFB1.</span>"
   ]
  },
  {
   "cell_type": "markdown",
   "id": "71d88d03",
   "metadata": {},
   "source": [
    "### 02: Gene IL-10 (Interleukin 10)"
   ]
  },
  {
   "cell_type": "code",
   "execution_count": 3,
   "id": "ab32a928",
   "metadata": {},
   "outputs": [
    {
     "data": {
      "text/plain": [
       "SeqRecord(seq=Seq('AGGCATGGGGTAACTACACCAAGAAGGCTGCCATTTTGCTTAGCATGAGAGTAG...TTA'), id='NG_012088.1', name='NG_012088', description='Homo sapiens interleukin 10 (IL10), RefSeqGene (LRG_1230) on chromosome 1', dbxrefs=[])"
      ]
     },
     "execution_count": 3,
     "metadata": {},
     "output_type": "execute_result"
    }
   ],
   "source": [
    "record2 = SeqIO.read(\"IL10.gb\", \"genbank\") \n",
    "record2"
   ]
  },
  {
   "cell_type": "code",
   "execution_count": 4,
   "id": "9589b950",
   "metadata": {},
   "outputs": [
    {
     "name": "stdout",
     "output_type": "stream",
     "text": [
      "11892\n",
      "NG_012088.1\n",
      "Homo sapiens interleukin 10 (IL10), RefSeqGene (LRG_1230) on chromosome 1\n",
      "NG_012088\n"
     ]
    }
   ],
   "source": [
    "print(len(record2.seq))\n",
    "print(record2.id)\n",
    "print(record2.description)\n",
    "print(record2.name)"
   ]
  },
  {
   "cell_type": "code",
   "execution_count": 5,
   "id": "5493568a",
   "metadata": {},
   "outputs": [
    {
     "name": "stdout",
     "output_type": "stream",
     "text": [
      "{'molecule_type': 'DNA', 'topology': 'linear', 'data_file_division': 'PRI', 'date': '05-OCT-2020', 'accessions': ['NG_012088'], 'sequence_version': 1, 'keywords': ['RefSeq', 'RefSeqGene'], 'source': 'Homo sapiens (human)', 'organism': 'Homo sapiens', 'taxonomy': ['Eukaryota', 'Metazoa', 'Chordata', 'Craniata', 'Vertebrata', 'Euteleostomi', 'Mammalia', 'Eutheria', 'Euarchontoglires', 'Primates', 'Haplorrhini', 'Catarrhini', 'Hominidae', 'Homo'], 'references': [Reference(title='Identification of functional domains on human interleukin 10', ...), Reference(title=\"Mapping of the human IL10 gene and further characterization of the 5' flanking sequence\", ...), Reference(title='Isolation and expression of human cytokine synthesis inhibitory factor cDNA clones: homology to Epstein-Barr virus open reading frame BCRFI', ...)], 'comment': 'REVIEWED REFSEQ: This record has been curated by NCBI staff in\\ncollaboration with Karyn Megy. The reference sequence was derived\\nfrom AL513315.15 and AL591846.15.\\nThis sequence is a reference standard in the RefSeqGene project.\\nSummary: The protein encoded by this gene is a cytokine produced\\nprimarily by monocytes and to a lesser extent by lymphocytes. This\\ncytokine has pleiotropic effects in immunoregulation and\\ninflammation. It down-regulates the expression of Th1 cytokines,\\nMHC class II Ags, and costimulatory molecules on macrophages. It\\nalso enhances B cell survival, proliferation, and antibody\\nproduction. This cytokine can block NF-kappa B activity, and is\\ninvolved in the regulation of the JAK-STAT signaling pathway.\\nKnockout studies in mice suggested the function of this cytokine as\\nan essential immunoregulator in the intestinal tract. Mutations in\\nthis gene are associated with an increased susceptibility to HIV-1\\ninfection and rheumatoid arthritis. [provided by RefSeq, May 2020].'}\n"
     ]
    }
   ],
   "source": [
    "print(record2.annotations)"
   ]
  },
  {
   "cell_type": "code",
   "execution_count": 6,
   "id": "cc86823a",
   "metadata": {},
   "outputs": [
    {
     "name": "stdout",
     "output_type": "stream",
     "text": [
      "[]\n",
      "Homo sapiens (human)\n",
      "['Eukaryota', 'Metazoa', 'Chordata', 'Craniata', 'Vertebrata', 'Euteleostomi', 'Mammalia', 'Eutheria', 'Euarchontoglires', 'Primates', 'Haplorrhini', 'Catarrhini', 'Hominidae', 'Homo']\n"
     ]
    }
   ],
   "source": [
    "print(record2.dbxrefs)\n",
    "print(record2.annotations[\"source\"] )\n",
    "print(record2.annotations[\"taxonomy\"])"
   ]
  },
  {
   "cell_type": "code",
   "execution_count": 7,
   "id": "c0164328",
   "metadata": {},
   "outputs": [
    {
     "name": "stdout",
     "output_type": "stream",
     "text": [
      "Temos 13 features\n"
     ]
    },
    {
     "data": {
      "text/plain": [
       "[SeqFeature(SimpleLocation(ExactPosition(0), ExactPosition(11892), strand=1), type='source', qualifiers=...),\n",
       " SeqFeature(SimpleLocation(BeforePosition(0), ExactPosition(6722), strand=-1), type='gene', qualifiers=...),\n",
       " SeqFeature(SimpleLocation(ExactPosition(5000), ExactPosition(9893), strand=1), type='gene', qualifiers=...),\n",
       " SeqFeature(CompoundLocation([SimpleLocation(ExactPosition(5000), ExactPosition(5224), strand=1), SimpleLocation(ExactPosition(6079), ExactPosition(6139), strand=1), SimpleLocation(ExactPosition(6435), ExactPosition(6588), strand=1), SimpleLocation(ExactPosition(7600), ExactPosition(7666), strand=1), SimpleLocation(ExactPosition(8766), ExactPosition(9893), strand=1)], 'join'), type='mRNA', location_operator='join', qualifiers=...),\n",
       " SeqFeature(SimpleLocation(ExactPosition(5000), ExactPosition(5224), strand=1), type='exon', qualifiers=...),\n",
       " SeqFeature(CompoundLocation([SimpleLocation(ExactPosition(5059), ExactPosition(5224), strand=1), SimpleLocation(ExactPosition(6079), ExactPosition(6139), strand=1), SimpleLocation(ExactPosition(6435), ExactPosition(6588), strand=1), SimpleLocation(ExactPosition(7600), ExactPosition(7666), strand=1), SimpleLocation(ExactPosition(8766), ExactPosition(8859), strand=1)], 'join'), type='CDS', location_operator='join', qualifiers=...),\n",
       " SeqFeature(SimpleLocation(ExactPosition(5059), ExactPosition(5113), strand=1), type='sig_peptide', qualifiers=...),\n",
       " SeqFeature(CompoundLocation([SimpleLocation(ExactPosition(5113), ExactPosition(5224), strand=1), SimpleLocation(ExactPosition(6079), ExactPosition(6139), strand=1), SimpleLocation(ExactPosition(6435), ExactPosition(6588), strand=1), SimpleLocation(ExactPosition(7600), ExactPosition(7666), strand=1), SimpleLocation(ExactPosition(8766), ExactPosition(8856), strand=1)], 'join'), type='mat_peptide', location_operator='join', qualifiers=...),\n",
       " SeqFeature(SimpleLocation(ExactPosition(7621), ExactPosition(7624), strand=1), type='misc_feature', qualifiers=...),\n",
       " SeqFeature(SimpleLocation(ExactPosition(6079), ExactPosition(6139), strand=1), type='exon', qualifiers=...),\n",
       " SeqFeature(SimpleLocation(ExactPosition(6435), ExactPosition(6588), strand=1), type='exon', qualifiers=...),\n",
       " SeqFeature(SimpleLocation(ExactPosition(7600), ExactPosition(7666), strand=1), type='exon', qualifiers=...),\n",
       " SeqFeature(SimpleLocation(ExactPosition(8766), ExactPosition(9893), strand=1), type='exon', qualifiers=...)]"
      ]
     },
     "execution_count": 7,
     "metadata": {},
     "output_type": "execute_result"
    }
   ],
   "source": [
    "print(\"Temos\", len(record2.features), \"features\")\n",
    "record2.features"
   ]
  },
  {
   "cell_type": "code",
   "execution_count": 8,
   "id": "da7ea0e3",
   "metadata": {},
   "outputs": [
    {
     "name": "stdout",
     "output_type": "stream",
     "text": [
      "source [0:11892](+)\n",
      "gene [<0:6722](-)\n",
      "gene [5000:9893](+)\n",
      "mRNA join{[5000:5224](+), [6079:6139](+), [6435:6588](+), [7600:7666](+), [8766:9893](+)}\n",
      "exon [5000:5224](+)\n",
      "CDS join{[5059:5224](+), [6079:6139](+), [6435:6588](+), [7600:7666](+), [8766:8859](+)}\n",
      "sig_peptide [5059:5113](+)\n",
      "mat_peptide join{[5113:5224](+), [6079:6139](+), [6435:6588](+), [7600:7666](+), [8766:8856](+)}\n",
      "misc_feature [7621:7624](+)\n",
      "exon [6079:6139](+)\n",
      "exon [6435:6588](+)\n",
      "exon [7600:7666](+)\n",
      "exon [8766:9893](+)\n"
     ]
    }
   ],
   "source": [
    "for t in record2.features:\n",
    "    print(t.type, t.location)"
   ]
  },
  {
   "cell_type": "code",
   "execution_count": 22,
   "id": "0aea26b7",
   "metadata": {},
   "outputs": [
    {
     "name": "stdout",
     "output_type": "stream",
     "text": [
      "type: CDS\n",
      "location: join{[5059:5224](+), [6079:6139](+), [6435:6588](+), [7600:7666](+), [8766:8859](+)}\n",
      "qualifiers:\n",
      "    Key: codon_start, Value: ['1']\n",
      "    Key: db_xref, Value: ['CCDS:CCDS1467.1', 'GeneID:3586', 'LRG:p1', 'HGNC:HGNC:5962', 'MIM:124092']\n",
      "    Key: gene, Value: ['IL10']\n",
      "    Key: gene_synonym, Value: ['CSIF; GVHDS; IL-10; IL10A; TGIF']\n",
      "    Key: note, Value: ['T-cell growth inhibitory factor; cytokine synthesis inhibitory factor']\n",
      "    Key: product, Value: ['interleukin-10 isoform 1 precursor']\n",
      "    Key: protein_id, Value: ['NP_000563.1']\n",
      "    Key: translation, Value: ['MHSSALLCCLVLLTGVRASPGQGTQSENSCTHFPGNLPNMLRDLRDAFSRVKTFFQMKDQLDNLLLKESLLEDFKGYLGCQALSEMIQFYLEEVMPQAENQDPDIKAHVNSLGENLKTLRLRLRRCHRFLPCENKSKAVEQVKNAFNKLQEKGIYKAMSEFDIFINYIEAYMTMKIRN']\n",
      "\n"
     ]
    },
    {
     "data": {
      "text/plain": [
       "[5]"
      ]
     },
     "execution_count": 22,
     "metadata": {},
     "output_type": "execute_result"
    }
   ],
   "source": [
    "feat_cds= []\n",
    "for i in range(len(record2.features)):\n",
    "    if record2.features[i].type == \"CDS\":\n",
    "        feat_cds.append(i)\n",
    "        print(record2.features[i])\n",
    "feat_cds"
   ]
  },
  {
   "cell_type": "code",
   "execution_count": 24,
   "id": "69b05c3c",
   "metadata": {},
   "outputs": [
    {
     "name": "stdout",
     "output_type": "stream",
     "text": [
      "DNA:  ATGCACAGCTCAGCACTGCTCTGTTGCCTGGTCCTCCTGACTGGGGTGAGGGCCAGCCCAGGCCAGGGCACCCAGTCTGAGAACAGCTGCACCCACTTCCCAGGCAACCTGCCTAACATGCTTCGAGATCTCCGAGATGCCTTCAGCAGAGTGAAGACTTTCTTTCAAATGAAGGATCAGCTGGACAACTTGTTGTTAAAGGAGTCCTTGCTGGAGGACTTTAAGGGTTACCTGGGTTGCCAAGCCTTGTCTGAGATGATCCAGTTTTACCTGGAGGAGGTGATGCCCCAAGCTGAGAACCAAGACCCAGACATCAAGGCGCATGTGAACTCCCTGGGGGAGAACCTGAAGACCCTCAGGCTGAGGCTACGGCGCTGTCATCGATTTCTTCCCTGTGAAAACAAGAGCAAGGCCGTGGAGCAGGTGAAGAATGCCTTTAATAAGCTCCAAGAGAAAGGCATCTACAAAGCCATGAGTGAGTTTGACATCTTCATCAACTACATAGAAGCCTACATGACAATGAAGATACGAAACTGA\n",
      "Proteína:  MHSSALLCCLVLLTGVRASPGQGTQSENSCTHFPGNLPNMLRDLRDAFSRVKTFFQMKDQLDNLLLKESLLEDFKGYLGCQALSEMIQFYLEEVMPQAENQDPDIKAHVNSLGENLKTLRLRLRRCHRFLPCENKSKAVEQVKNAFNKLQEKGIYKAMSEFDIFINYIEAYMTMKIRN*\n"
     ]
    }
   ],
   "source": [
    "for i in feat_cds:\n",
    "    coding_dna = record2.features[i].extract(record2.seq)\n",
    "    print(\"DNA: \", coding_dna)\n",
    "    print(\"Proteína: \", coding_dna.translate())"
   ]
  },
  {
   "cell_type": "code",
   "execution_count": 25,
   "id": "aae892e5",
   "metadata": {},
   "outputs": [
    {
     "name": "stdout",
     "output_type": "stream",
     "text": [
      "Número de features tipo gene:  2 [1, 2]\n"
     ]
    }
   ],
   "source": [
    "feat_gene = []\n",
    "for j in range(len(record2.features)):\n",
    "    if record2.features[j].type == 'gene':\n",
    "        feat_gene.append(j)\n",
    "print('Número de features tipo gene: ', len(feat_gene), feat_gene)"
   ]
  },
  {
   "cell_type": "code",
   "execution_count": 26,
   "id": "1792b430-ebe8-45f5-bdc1-1c6a02756fb8",
   "metadata": {},
   "outputs": [
    {
     "name": "stdout",
     "output_type": "stream",
     "text": [
      "{'gene': ['IL19'], 'gene_synonym': ['IL-10C; MDA1; NG.1; ZMDA1'], 'note': ['interleukin 19'], 'db_xref': ['GeneID:29949', 'HGNC:HGNC:5990', 'MIM:605687']}\n",
      "{'gene': ['IL10'], 'gene_synonym': ['CSIF; GVHDS; IL-10; IL10A; TGIF'], 'note': ['interleukin 10'], 'db_xref': ['GeneID:3586', 'HGNC:HGNC:5962', 'MIM:124092']}\n"
     ]
    }
   ],
   "source": [
    "print(record2.features[1].qualifiers)\n",
    "print(record2.features[2].qualifiers)"
   ]
  },
  {
   "cell_type": "markdown",
   "id": "aba970c8",
   "metadata": {},
   "source": [
    "### 03: Gene IL-13 (Interleukin 13)"
   ]
  },
  {
   "cell_type": "code",
   "execution_count": 28,
   "id": "b158305d",
   "metadata": {},
   "outputs": [
    {
     "data": {
      "text/plain": [
       "SeqRecord(seq=Seq('TTTTGCATATCTGTACTTTACACAATAACATTTTGTGTAATCTTTTTTTAAATG...CAC'), id='NG_012090.1', name='NG_012090', description='Homo sapiens interleukin 13 (IL13), RefSeqGene on chromosome 5', dbxrefs=[])"
      ]
     },
     "execution_count": 28,
     "metadata": {},
     "output_type": "execute_result"
    }
   ],
   "source": [
    "record3 = SeqIO.read(\"IL13.gb\", \"genbank\") \n",
    "record3"
   ]
  },
  {
   "cell_type": "code",
   "execution_count": 29,
   "id": "ea6be691",
   "metadata": {},
   "outputs": [
    {
     "name": "stdout",
     "output_type": "stream",
     "text": [
      "9937\n",
      "NG_012090.1\n",
      "Homo sapiens interleukin 13 (IL13), RefSeqGene on chromosome 5\n",
      "NG_012090\n"
     ]
    }
   ],
   "source": [
    "print(len(record3.seq))\n",
    "print(record3.id)\n",
    "print(record3.description)\n",
    "print(record3.name)"
   ]
  },
  {
   "cell_type": "code",
   "execution_count": 30,
   "id": "b537c75e",
   "metadata": {},
   "outputs": [
    {
     "name": "stdout",
     "output_type": "stream",
     "text": [
      "{'molecule_type': 'DNA', 'topology': 'linear', 'data_file_division': 'PRI', 'date': '26-DEC-2023', 'accessions': ['NG_012090'], 'sequence_version': 1, 'keywords': ['RefSeq', 'RefSeqGene'], 'source': 'Homo sapiens (human)', 'organism': 'Homo sapiens', 'taxonomy': ['Eukaryota', 'Metazoa', 'Chordata', 'Craniata', 'Vertebrata', 'Euteleostomi', 'Mammalia', 'Eutheria', 'Euarchontoglires', 'Primates', 'Haplorrhini', 'Catarrhini', 'Hominidae', 'Homo'], 'references': [Reference(title='Interleukin-13 is a new human lymphokine regulating inflammatory and immune responses', ...)], 'comment': 'REVIEWED REFSEQ: This record has been curated by NCBI staff. The\\nreference sequence was derived from AC004041.1 and AC004039.1.\\nThis sequence is a reference standard in the RefSeqGene project.\\nSummary: This gene encodes an immunoregulatory cytokine produced\\nprimarily by activated Th2 cells. This cytokine is involved in\\nseveral stages of B-cell maturation and differentiation. It\\nup-regulates CD23 and MHC class II expression, and promotes IgE\\nisotype switching of B cells. This cytokine down-regulates\\nmacrophage activity, thereby inhibits the production of\\npro-inflammatory cytokines and chemokines. This cytokine is found\\nto be critical to the pathogenesis of allergen-induced asthma but\\noperates through mechanisms independent of IgE and eosinophils.\\nThis gene, IL3, IL5, IL4, and CSF2 form a cytokine gene cluster on\\nchromosome 5q, with this gene particularly close to IL4. [provided\\nby RefSeq, Jul 2008].'}\n"
     ]
    }
   ],
   "source": [
    "print(record3.annotations)"
   ]
  },
  {
   "cell_type": "code",
   "execution_count": 31,
   "id": "95323363",
   "metadata": {},
   "outputs": [
    {
     "name": "stdout",
     "output_type": "stream",
     "text": [
      "[]\n",
      "Homo sapiens (human)\n",
      "['Eukaryota', 'Metazoa', 'Chordata', 'Craniata', 'Vertebrata', 'Euteleostomi', 'Mammalia', 'Eutheria', 'Euarchontoglires', 'Primates', 'Haplorrhini', 'Catarrhini', 'Hominidae', 'Homo']\n"
     ]
    }
   ],
   "source": [
    "print(record3.dbxrefs)\n",
    "print(record3.annotations[\"source\"] )\n",
    "print(record3.annotations[\"taxonomy\"])"
   ]
  },
  {
   "cell_type": "code",
   "execution_count": 32,
   "id": "aef2ba1e",
   "metadata": {},
   "outputs": [
    {
     "name": "stdout",
     "output_type": "stream",
     "text": [
      "Temos 13 features\n"
     ]
    },
    {
     "data": {
      "text/plain": [
       "[SeqFeature(SimpleLocation(ExactPosition(0), ExactPosition(9937), strand=1), type='source', qualifiers=...),\n",
       " SeqFeature(SimpleLocation(BeforePosition(0), ExactPosition(2982), strand=-1), type='gene', qualifiers=...),\n",
       " SeqFeature(SimpleLocation(BeforePosition(2546), ExactPosition(2720), strand=-1), type='ncRNA', qualifiers=...),\n",
       " SeqFeature(SimpleLocation(BeforePosition(2878), ExactPosition(2982), strand=-1), type='ncRNA', qualifiers=...),\n",
       " SeqFeature(SimpleLocation(ExactPosition(5000), ExactPosition(7938), strand=1), type='gene', qualifiers=...),\n",
       " SeqFeature(CompoundLocation([SimpleLocation(ExactPosition(5000), ExactPosition(5188), strand=1), SimpleLocation(ExactPosition(6245), ExactPosition(6299), strand=1), SimpleLocation(ExactPosition(6551), ExactPosition(6656), strand=1), SimpleLocation(ExactPosition(7002), ExactPosition(7938), strand=1)], 'join'), type='mRNA', location_operator='join', qualifiers=...),\n",
       " SeqFeature(SimpleLocation(ExactPosition(5000), ExactPosition(5188), strand=1), type='exon', qualifiers=...),\n",
       " SeqFeature(CompoundLocation([SimpleLocation(ExactPosition(5014), ExactPosition(5188), strand=1), SimpleLocation(ExactPosition(6245), ExactPosition(6299), strand=1), SimpleLocation(ExactPosition(6551), ExactPosition(6656), strand=1), SimpleLocation(ExactPosition(7002), ExactPosition(7110), strand=1)], 'join'), type='CDS', location_operator='join', qualifiers=...),\n",
       " SeqFeature(SimpleLocation(ExactPosition(5014), ExactPosition(5074), strand=1), type='sig_peptide', qualifiers=...),\n",
       " SeqFeature(CompoundLocation([SimpleLocation(ExactPosition(5074), ExactPosition(5188), strand=1), SimpleLocation(ExactPosition(6245), ExactPosition(6299), strand=1), SimpleLocation(ExactPosition(6551), ExactPosition(6656), strand=1), SimpleLocation(ExactPosition(7002), ExactPosition(7065), strand=1)], 'join'), type='mat_peptide', location_operator='join', qualifiers=...),\n",
       " SeqFeature(SimpleLocation(ExactPosition(6245), ExactPosition(6299), strand=1), type='exon', qualifiers=...),\n",
       " SeqFeature(SimpleLocation(ExactPosition(6551), ExactPosition(6656), strand=1), type='exon', qualifiers=...),\n",
       " SeqFeature(SimpleLocation(ExactPosition(7002), ExactPosition(7938), strand=1), type='exon', qualifiers=...)]"
      ]
     },
     "execution_count": 32,
     "metadata": {},
     "output_type": "execute_result"
    }
   ],
   "source": [
    "print(\"Temos\", len(record3.features), \"features\")\n",
    "record3.features"
   ]
  },
  {
   "cell_type": "code",
   "execution_count": 33,
   "id": "c19540f7",
   "metadata": {},
   "outputs": [
    {
     "name": "stdout",
     "output_type": "stream",
     "text": [
      "source [0:9937](+)\n",
      "gene [<0:2982](-)\n",
      "ncRNA [<2546:2720](-)\n",
      "ncRNA [<2878:2982](-)\n",
      "gene [5000:7938](+)\n",
      "mRNA join{[5000:5188](+), [6245:6299](+), [6551:6656](+), [7002:7938](+)}\n",
      "exon [5000:5188](+)\n",
      "CDS join{[5014:5188](+), [6245:6299](+), [6551:6656](+), [7002:7110](+)}\n",
      "sig_peptide [5014:5074](+)\n",
      "mat_peptide join{[5074:5188](+), [6245:6299](+), [6551:6656](+), [7002:7065](+)}\n",
      "exon [6245:6299](+)\n",
      "exon [6551:6656](+)\n",
      "exon [7002:7938](+)\n"
     ]
    }
   ],
   "source": [
    "for t in record3.features:\n",
    "    print(t.type, t.location)"
   ]
  },
  {
   "cell_type": "code",
   "execution_count": 34,
   "id": "ab11ae66",
   "metadata": {},
   "outputs": [
    {
     "data": {
      "text/plain": [
       "[7]"
      ]
     },
     "execution_count": 34,
     "metadata": {},
     "output_type": "execute_result"
    }
   ],
   "source": [
    "feat_cds= []\n",
    "for i in range(len(record3.features)):\n",
    "    if record3.features[i].type == \"CDS\":\n",
    "        feat_cds.append(i)\n",
    "feat_cds"
   ]
  },
  {
   "cell_type": "code",
   "execution_count": 38,
   "id": "68d4274e",
   "metadata": {},
   "outputs": [
    {
     "name": "stdout",
     "output_type": "stream",
     "text": [
      "DNA:  ATGCATCCGCTCCTCAATCCTCTCCTGTTGGCACTGGGCCTCATGGCGCTTTTGTTGACCACGGTCATTGCTCTCACTTGCCTTGGCGGCTTTGCCTCCCCAGGCCCTGTGCCTCCCTCTACAGCCCTCAGGGAGCTCATTGAGGAGCTGGTCAACATCACCCAGAACCAGAAGGCTCCGCTCTGCAATGGCAGCATGGTATGGAGCATCAACCTGACAGCTGGCATGTACTGTGCAGCCCTGGAATCCCTGATCAACGTGTCAGGCTGCAGTGCCATCGAGAAGACCCAGAGGATGCTGAGCGGATTCTGCCCGCACAAGGTCTCAGCTGGGCAGTTTTCCAGCTTGCATGTCCGAGACACCAAAATCGAGGTGGCCCAGTTTGTAAAGGACCTGCTCTTACATTTAAAGAAACTTTTTCGCGAGGGACAGTTCAACTGA\n",
      "Proteína:  MHPLLNPLLLALGLMALLLTTVIALTCLGGFASPGPVPPSTALRELIEELVNITQNQKAPLCNGSMVWSINLTAGMYCAALESLINVSGCSAIEKTQRMLSGFCPHKVSAGQFSSLHVRDTKIEVAQFVKDLLLHLKKLFREGQFN* 7\n"
     ]
    }
   ],
   "source": [
    "for i in feat_cds:\n",
    "    coding_dna = record3.features[i].extract(record3.seq)\n",
    "    print(\"DNA: \", coding_dna)\n",
    "    print(\"Proteína: \", coding_dna.translate(), i)"
   ]
  },
  {
   "cell_type": "code",
   "execution_count": 36,
   "id": "d5c9bfb7",
   "metadata": {},
   "outputs": [
    {
     "name": "stdout",
     "output_type": "stream",
     "text": [
      "Número de features tipo gene:  2 [1, 4]\n"
     ]
    }
   ],
   "source": [
    "feat_gene = []\n",
    "for j in range(len(record3.features)):\n",
    "    if record3.features[j].type == 'gene':\n",
    "        feat_gene.append(j)\n",
    "print('Número de features tipo gene: ', len(feat_gene), feat_gene)"
   ]
  },
  {
   "cell_type": "code",
   "execution_count": 39,
   "id": "a0654f14-1387-498d-b7fb-70443846e509",
   "metadata": {},
   "outputs": [
    {
     "name": "stdout",
     "output_type": "stream",
     "text": [
      "{'gene': ['TH2LCRR'], 'gene_synonym': ['TH2-LCR'], 'note': ['T helper type 2 locus control region associated RNA'], 'db_xref': ['GeneID:101927761', 'HGNC:HGNC:40495']}\n",
      "{'gene': ['IL13'], 'gene_synonym': ['IL-13; P600'], 'note': ['interleukin 13'], 'db_xref': ['GeneID:3596', 'HGNC:HGNC:5973', 'MIM:147683']}\n",
      "{'gene': ['IL13'], 'gene_synonym': ['IL-13; P600'], 'note': ['isoform 1 precursor is encoded by transcript variant 1'], 'codon_start': ['1'], 'product': ['interleukin-13 isoform 1 precursor'], 'protein_id': ['NP_002179.2'], 'db_xref': ['CCDS:CCDS4157.1', 'GeneID:3596', 'HGNC:HGNC:5973', 'MIM:147683'], 'translation': ['MHPLLNPLLLALGLMALLLTTVIALTCLGGFASPGPVPPSTALRELIEELVNITQNQKAPLCNGSMVWSINLTAGMYCAALESLINVSGCSAIEKTQRMLSGFCPHKVSAGQFSSLHVRDTKIEVAQFVKDLLLHLKKLFREGQFN']}\n"
     ]
    }
   ],
   "source": [
    "print(record3.features[1].qualifiers)\n",
    "print(record3.features[4].qualifiers)\n",
    "print(record3.features[7].qualifiers)"
   ]
  },
  {
   "cell_type": "markdown",
   "id": "6fcbd9fd",
   "metadata": {},
   "source": [
    "### 04: Gene STAT6 (Signal transducer and activator of transcription 6)"
   ]
  },
  {
   "cell_type": "code",
   "execution_count": 40,
   "id": "862325b2",
   "metadata": {},
   "outputs": [
    {
     "data": {
      "text/plain": [
       "SeqRecord(seq=Seq('CCTCCAGAGTAGCTGGGATTACAGGCATGCGCCACCACGCATGGCTAATTTTGT...CTG'), id='NG_021272.2', name='NG_021272', description='Homo sapiens signal transducer and activator of transcription 6 (STAT6), RefSeqGene (LRG_1369) on chromosome 12', dbxrefs=[])"
      ]
     },
     "execution_count": 40,
     "metadata": {},
     "output_type": "execute_result"
    }
   ],
   "source": [
    "record4 = SeqIO.read(\"STAT6.gb\", \"genbank\") \n",
    "record4"
   ]
  },
  {
   "cell_type": "code",
   "execution_count": 41,
   "id": "88d61752",
   "metadata": {},
   "outputs": [
    {
     "name": "stdout",
     "output_type": "stream",
     "text": [
      "43736\n",
      "NG_021272.2\n",
      "Homo sapiens signal transducer and activator of transcription 6 (STAT6), RefSeqGene (LRG_1369) on chromosome 12\n",
      "NG_021272\n"
     ]
    }
   ],
   "source": [
    "print(len(record4.seq))\n",
    "print(record4.id)\n",
    "print(record4.description)\n",
    "print(record4.name)"
   ]
  },
  {
   "cell_type": "code",
   "execution_count": 39,
   "id": "ee353d00",
   "metadata": {},
   "outputs": [
    {
     "name": "stdout",
     "output_type": "stream",
     "text": [
      "{'molecule_type': 'DNA', 'topology': 'linear', 'data_file_division': 'PRI', 'date': '09-OCT-2023', 'accessions': ['NG_021272'], 'sequence_version': 2, 'keywords': ['RefSeq', 'RefSeqGene'], 'source': 'Homo sapiens (human)', 'organism': 'Homo sapiens', 'taxonomy': ['Eukaryota', 'Metazoa', 'Chordata', 'Craniata', 'Vertebrata', 'Euteleostomi', 'Mammalia', 'Eutheria', 'Euarchontoglires', 'Primates', 'Haplorrhini', 'Catarrhini', 'Hominidae', 'Homo'], 'comment': 'REVIEWED REFSEQ: This record has been curated by NCBI staff in\\ncollaboration with Shruti Srivastava, Liz Starks. The reference\\nsequence was derived from AC023237.34.\\nThis sequence is a reference standard in the RefSeqGene project.\\nOn Feb 27, 2019 this sequence version replaced NG_021272.1.\\nSummary: The protein encoded by this gene is a member of the STAT\\nfamily of transcription factors. In response to cytokines and\\ngrowth factors, STAT family members are phosphorylated by the\\nreceptor associated kinases, and then form homo- or heterodimers\\nthat translocate to the cell nucleus where they act as\\ntranscription activators. This protein plays a central role in\\nexerting IL4 mediated biological responses. It is found to induce\\nthe expression of BCL2L1/BCL-X(L), which is responsible for the\\nanti-apoptotic activity of IL4. Knockout studies in mice suggested\\nthe roles of this gene in differentiation of T helper 2 (Th2)\\ncells, expression of cell surface markers, and class switch of\\nimmunoglobulins. Alternative splicing results in multiple\\ntranscript variants.[provided by RefSeq, May 2010].'}\n"
     ]
    }
   ],
   "source": [
    "print(record4.annotations)"
   ]
  },
  {
   "cell_type": "code",
   "execution_count": 42,
   "id": "c390d32f",
   "metadata": {},
   "outputs": [
    {
     "name": "stdout",
     "output_type": "stream",
     "text": [
      "[]\n",
      "Homo sapiens (human)\n",
      "['Eukaryota', 'Metazoa', 'Chordata', 'Craniata', 'Vertebrata', 'Euteleostomi', 'Mammalia', 'Eutheria', 'Euarchontoglires', 'Primates', 'Haplorrhini', 'Catarrhini', 'Hominidae', 'Homo']\n"
     ]
    }
   ],
   "source": [
    "print(record4.dbxrefs)\n",
    "print(record4.annotations[\"source\"] )\n",
    "print(record4.annotations[\"taxonomy\"])"
   ]
  },
  {
   "cell_type": "code",
   "execution_count": 43,
   "id": "daf9da61",
   "metadata": {},
   "outputs": [
    {
     "name": "stdout",
     "output_type": "stream",
     "text": [
      "Temos 43 features\n"
     ]
    },
    {
     "data": {
      "text/plain": [
       "[SeqFeature(SimpleLocation(ExactPosition(0), ExactPosition(43736), strand=1), type='source', qualifiers=...),\n",
       " SeqFeature(SimpleLocation(BeforePosition(0), ExactPosition(8657), strand=-1), type='gene', qualifiers=...),\n",
       " SeqFeature(SimpleLocation(BeforePosition(8108), ExactPosition(8657), strand=-1), type='mRNA', qualifiers=...),\n",
       " SeqFeature(SimpleLocation(BeforePosition(8108), ExactPosition(8175), strand=-1), type='CDS', qualifiers=...),\n",
       " SeqFeature(SimpleLocation(ExactPosition(8118), ExactPosition(8175), strand=-1), type='sig_peptide', qualifiers=...),\n",
       " SeqFeature(SimpleLocation(ExactPosition(8108), ExactPosition(8118), strand=-1), type='mat_peptide', qualifiers=...),\n",
       " SeqFeature(SimpleLocation(ExactPosition(25777), ExactPosition(41732), strand=1), type='gene', qualifiers=...),\n",
       " SeqFeature(CompoundLocation([SimpleLocation(ExactPosition(25777), ExactPosition(26011), strand=1), SimpleLocation(ExactPosition(28840), ExactPosition(28977), strand=1), SimpleLocation(ExactPosition(29396), ExactPosition(29535), strand=1), SimpleLocation(ExactPosition(29825), ExactPosition(29909), strand=1), SimpleLocation(ExactPosition(30308), ExactPosition(30447), strand=1), SimpleLocation(ExactPosition(30559), ExactPosition(30612), strand=1), SimpleLocation(ExactPosition(30800), ExactPosition(30949), strand=1), SimpleLocation(ExactPosition(31540), ExactPosition(31672), strand=1), SimpleLocation(ExactPosition(31800), ExactPosition(31989), strand=1), SimpleLocation(ExactPosition(32326), ExactPosition(32414), strand=1), SimpleLocation(ExactPosition(32553), ExactPosition(32676), strand=1), SimpleLocation(ExactPosition(34218), ExactPosition(34311), strand=1), SimpleLocation(ExactPosition(34643), ExactPosition(34850), strand=1), SimpleLocation(ExactPosition(37049), ExactPosition(37144), strand=1), SimpleLocation(ExactPosition(37236), ExactPosition(37373), strand=1), SimpleLocation(ExactPosition(37699), ExactPosition(37846), strand=1), SimpleLocation(ExactPosition(38061), ExactPosition(38125), strand=1), SimpleLocation(ExactPosition(38237), ExactPosition(38348), strand=1), SimpleLocation(ExactPosition(38542), ExactPosition(38635), strand=1), SimpleLocation(ExactPosition(40006), ExactPosition(40072), strand=1), SimpleLocation(ExactPosition(40161), ExactPosition(40290), strand=1), SimpleLocation(ExactPosition(40378), ExactPosition(41732), strand=1)], 'join'), type='mRNA', location_operator='join', qualifiers=...),\n",
       " SeqFeature(SimpleLocation(ExactPosition(25777), ExactPosition(26011), strand=1), type='exon', qualifiers=...),\n",
       " SeqFeature(SimpleLocation(ExactPosition(28840), ExactPosition(28977), strand=1), type='exon', qualifiers=...),\n",
       " SeqFeature(CompoundLocation([SimpleLocation(ExactPosition(28861), ExactPosition(28977), strand=1), SimpleLocation(ExactPosition(29396), ExactPosition(29535), strand=1), SimpleLocation(ExactPosition(29825), ExactPosition(29909), strand=1), SimpleLocation(ExactPosition(30308), ExactPosition(30447), strand=1), SimpleLocation(ExactPosition(30559), ExactPosition(30612), strand=1), SimpleLocation(ExactPosition(30800), ExactPosition(30949), strand=1), SimpleLocation(ExactPosition(31540), ExactPosition(31672), strand=1), SimpleLocation(ExactPosition(31800), ExactPosition(31989), strand=1), SimpleLocation(ExactPosition(32326), ExactPosition(32414), strand=1), SimpleLocation(ExactPosition(32553), ExactPosition(32676), strand=1), SimpleLocation(ExactPosition(34218), ExactPosition(34311), strand=1), SimpleLocation(ExactPosition(34643), ExactPosition(34850), strand=1), SimpleLocation(ExactPosition(37049), ExactPosition(37144), strand=1), SimpleLocation(ExactPosition(37236), ExactPosition(37373), strand=1), SimpleLocation(ExactPosition(37699), ExactPosition(37846), strand=1), SimpleLocation(ExactPosition(38061), ExactPosition(38125), strand=1), SimpleLocation(ExactPosition(38237), ExactPosition(38348), strand=1), SimpleLocation(ExactPosition(38542), ExactPosition(38635), strand=1), SimpleLocation(ExactPosition(40006), ExactPosition(40072), strand=1), SimpleLocation(ExactPosition(40161), ExactPosition(40290), strand=1), SimpleLocation(ExactPosition(40378), ExactPosition(40568), strand=1)], 'join'), type='CDS', location_operator='join', qualifiers=...),\n",
       " SeqFeature(SimpleLocation(ExactPosition(28864), ExactPosition(28867), strand=1), type='misc_feature', qualifiers=...),\n",
       " SeqFeature(SimpleLocation(ExactPosition(38090), ExactPosition(38093), strand=1), type='misc_feature', qualifiers=...),\n",
       " SeqFeature(SimpleLocation(ExactPosition(40427), ExactPosition(40442), strand=1), type='misc_feature', qualifiers=...),\n",
       " SeqFeature(SimpleLocation(ExactPosition(40448), ExactPosition(40565), strand=1), type='misc_feature', qualifiers=...),\n",
       " SeqFeature(SimpleLocation(ExactPosition(29396), ExactPosition(29535), strand=1), type='exon', qualifiers=...),\n",
       " SeqFeature(SimpleLocation(ExactPosition(29825), ExactPosition(29909), strand=1), type='exon', qualifiers=...),\n",
       " SeqFeature(SimpleLocation(ExactPosition(30308), ExactPosition(30447), strand=1), type='exon', qualifiers=...),\n",
       " SeqFeature(SimpleLocation(ExactPosition(30559), ExactPosition(30612), strand=1), type='exon', qualifiers=...),\n",
       " SeqFeature(SimpleLocation(ExactPosition(30800), ExactPosition(30949), strand=1), type='exon', qualifiers=...),\n",
       " SeqFeature(SimpleLocation(ExactPosition(31540), ExactPosition(31672), strand=1), type='exon', qualifiers=...),\n",
       " SeqFeature(SimpleLocation(ExactPosition(31800), ExactPosition(31989), strand=1), type='exon', qualifiers=...),\n",
       " SeqFeature(SimpleLocation(ExactPosition(32326), ExactPosition(32414), strand=1), type='exon', qualifiers=...),\n",
       " SeqFeature(SimpleLocation(ExactPosition(32553), ExactPosition(32676), strand=1), type='exon', qualifiers=...),\n",
       " SeqFeature(SimpleLocation(ExactPosition(34218), ExactPosition(34311), strand=1), type='exon', qualifiers=...),\n",
       " SeqFeature(SimpleLocation(ExactPosition(34643), ExactPosition(34850), strand=1), type='exon', qualifiers=...),\n",
       " SeqFeature(SimpleLocation(ExactPosition(37049), ExactPosition(37144), strand=1), type='exon', qualifiers=...),\n",
       " SeqFeature(SimpleLocation(ExactPosition(37236), ExactPosition(37373), strand=1), type='exon', qualifiers=...),\n",
       " SeqFeature(SimpleLocation(ExactPosition(37699), ExactPosition(37846), strand=1), type='exon', qualifiers=...),\n",
       " SeqFeature(SimpleLocation(ExactPosition(38061), ExactPosition(38125), strand=1), type='exon', qualifiers=...),\n",
       " SeqFeature(SimpleLocation(ExactPosition(38237), ExactPosition(38348), strand=1), type='exon', qualifiers=...),\n",
       " SeqFeature(SimpleLocation(ExactPosition(38542), ExactPosition(38635), strand=1), type='exon', qualifiers=...),\n",
       " SeqFeature(SimpleLocation(ExactPosition(40006), ExactPosition(40072), strand=1), type='exon', qualifiers=...),\n",
       " SeqFeature(SimpleLocation(ExactPosition(40161), ExactPosition(40290), strand=1), type='exon', qualifiers=...),\n",
       " SeqFeature(SimpleLocation(ExactPosition(40378), ExactPosition(41732), strand=1), type='exon', qualifiers=...),\n",
       " SeqFeature(SimpleLocation(ExactPosition(41663), AfterPosition(43736), strand=-1), type='gene', qualifiers=...),\n",
       " SeqFeature(CompoundLocation([SimpleLocation(ExactPosition(43541), AfterPosition(43733), strand=-1), SimpleLocation(ExactPosition(41663), ExactPosition(42528), strand=-1)], 'join'), type='mRNA', location_operator='join', qualifiers=...),\n",
       " SeqFeature(SimpleLocation(ExactPosition(41663), AfterPosition(42528), strand=-1), type='mRNA', qualifiers=...),\n",
       " SeqFeature(CompoundLocation([SimpleLocation(ExactPosition(43541), AfterPosition(43733), strand=-1), SimpleLocation(ExactPosition(42418), ExactPosition(42528), strand=-1)], 'join'), type='CDS', location_operator='join', qualifiers=...),\n",
       " SeqFeature(SimpleLocation(ExactPosition(43665), ExactPosition(43731), strand=-1), type='misc_feature', qualifiers=...),\n",
       " SeqFeature(SimpleLocation(ExactPosition(43713), ExactPosition(43716), strand=-1), type='misc_feature', qualifiers=...),\n",
       " SeqFeature(CompoundLocation([SimpleLocation(ExactPosition(43541), ExactPosition(43629), strand=-1), SimpleLocation(ExactPosition(42418), ExactPosition(42528), strand=-1)], 'join'), type='misc_feature', location_operator='join', qualifiers=...),\n",
       " SeqFeature(SimpleLocation(ExactPosition(42418), AfterPosition(42528), strand=-1), type='CDS', qualifiers=...)]"
      ]
     },
     "execution_count": 43,
     "metadata": {},
     "output_type": "execute_result"
    }
   ],
   "source": [
    "print(\"Temos\", len(record4.features), \"features\")\n",
    "record4.features"
   ]
  },
  {
   "cell_type": "code",
   "execution_count": 44,
   "id": "e26f9c4a",
   "metadata": {},
   "outputs": [
    {
     "name": "stdout",
     "output_type": "stream",
     "text": [
      "source [0:43736](+)\n",
      "gene [<0:8657](-)\n",
      "mRNA [<8108:8657](-)\n",
      "CDS [<8108:8175](-)\n",
      "sig_peptide [8118:8175](-)\n",
      "mat_peptide [8108:8118](-)\n",
      "gene [25777:41732](+)\n",
      "mRNA join{[25777:26011](+), [28840:28977](+), [29396:29535](+), [29825:29909](+), [30308:30447](+), [30559:30612](+), [30800:30949](+), [31540:31672](+), [31800:31989](+), [32326:32414](+), [32553:32676](+), [34218:34311](+), [34643:34850](+), [37049:37144](+), [37236:37373](+), [37699:37846](+), [38061:38125](+), [38237:38348](+), [38542:38635](+), [40006:40072](+), [40161:40290](+), [40378:41732](+)}\n",
      "exon [25777:26011](+)\n",
      "exon [28840:28977](+)\n",
      "CDS join{[28861:28977](+), [29396:29535](+), [29825:29909](+), [30308:30447](+), [30559:30612](+), [30800:30949](+), [31540:31672](+), [31800:31989](+), [32326:32414](+), [32553:32676](+), [34218:34311](+), [34643:34850](+), [37049:37144](+), [37236:37373](+), [37699:37846](+), [38061:38125](+), [38237:38348](+), [38542:38635](+), [40006:40072](+), [40161:40290](+), [40378:40568](+)}\n",
      "misc_feature [28864:28867](+)\n",
      "misc_feature [38090:38093](+)\n",
      "misc_feature [40427:40442](+)\n",
      "misc_feature [40448:40565](+)\n",
      "exon [29396:29535](+)\n",
      "exon [29825:29909](+)\n",
      "exon [30308:30447](+)\n",
      "exon [30559:30612](+)\n",
      "exon [30800:30949](+)\n",
      "exon [31540:31672](+)\n",
      "exon [31800:31989](+)\n",
      "exon [32326:32414](+)\n",
      "exon [32553:32676](+)\n",
      "exon [34218:34311](+)\n",
      "exon [34643:34850](+)\n",
      "exon [37049:37144](+)\n",
      "exon [37236:37373](+)\n",
      "exon [37699:37846](+)\n",
      "exon [38061:38125](+)\n",
      "exon [38237:38348](+)\n",
      "exon [38542:38635](+)\n",
      "exon [40006:40072](+)\n",
      "exon [40161:40290](+)\n",
      "exon [40378:41732](+)\n",
      "gene [41663:>43736](-)\n",
      "mRNA join{[43541:>43733](-), [41663:42528](-)}\n",
      "mRNA [41663:>42528](-)\n",
      "CDS join{[43541:>43733](-), [42418:42528](-)}\n",
      "misc_feature [43665:43731](-)\n",
      "misc_feature [43713:43716](-)\n",
      "misc_feature join{[43541:43629](-), [42418:42528](-)}\n",
      "CDS [42418:>42528](-)\n"
     ]
    }
   ],
   "source": [
    "for t in record4.features:\n",
    "    print(t.type, t.location)"
   ]
  },
  {
   "cell_type": "code",
   "execution_count": 45,
   "id": "35408e87",
   "metadata": {},
   "outputs": [
    {
     "data": {
      "text/plain": [
       "[3, 10, 38, 42]"
      ]
     },
     "execution_count": 45,
     "metadata": {},
     "output_type": "execute_result"
    }
   ],
   "source": [
    "feat_cds= []\n",
    "for i in range(len(record4.features)):\n",
    "    if record4.features[i].type == \"CDS\":\n",
    "        feat_cds.append(i)\n",
    "feat_cds"
   ]
  },
  {
   "cell_type": "code",
   "execution_count": 46,
   "id": "df3fb1bf",
   "metadata": {},
   "outputs": [
    {
     "name": "stdout",
     "output_type": "stream",
     "text": [
      "{'gene': ['STAT6'], 'gene_synonym': ['D12S1644; HIES6; IL-4-STAT; STAT6B; STAT6C'], 'note': ['propagated from UniProtKB/Swiss-Prot (P42226.1); Region: Disordered. /evidence=ECO:0000256|SAM:MobiDB-lite']}\n",
      "{'gene': ['STAT6'], 'gene_synonym': ['D12S1644; HIES6; IL-4-STAT; STAT6B; STAT6C'], 'inference': ['alignment:Splign:2.1.0'], 'number': ['3']}\n",
      "{'gene': ['STAT6'], 'gene_synonym': ['D12S1644; HIES6; IL-4-STAT; STAT6B; STAT6C'], 'inference': ['alignment:Splign:2.1.0'], 'number': ['4']}\n",
      "{'gene': ['STAT6'], 'gene_synonym': ['D12S1644; HIES6; IL-4-STAT; STAT6B; STAT6C'], 'inference': ['alignment:Splign:2.1.0'], 'number': ['5']}\n",
      "{'gene': ['STAT6'], 'gene_synonym': ['D12S1644; HIES6; IL-4-STAT; STAT6B; STAT6C'], 'inference': ['alignment:Splign:2.1.0'], 'number': ['6']}\n",
      "{'gene': ['STAT6'], 'gene_synonym': ['D12S1644; HIES6; IL-4-STAT; STAT6B; STAT6C'], 'inference': ['alignment:Splign:2.1.0'], 'number': ['7']}\n",
      "{'gene': ['STAT6'], 'gene_synonym': ['D12S1644; HIES6; IL-4-STAT; STAT6B; STAT6C'], 'inference': ['alignment:Splign:2.1.0'], 'number': ['8']}\n",
      "{'gene': ['STAT6'], 'gene_synonym': ['D12S1644; HIES6; IL-4-STAT; STAT6B; STAT6C'], 'inference': ['alignment:Splign:2.1.0'], 'number': ['9']}\n",
      "{'gene': ['STAT6'], 'gene_synonym': ['D12S1644; HIES6; IL-4-STAT; STAT6B; STAT6C'], 'inference': ['alignment:Splign:2.1.0'], 'number': ['10']}\n",
      "{'gene': ['STAT6'], 'gene_synonym': ['D12S1644; HIES6; IL-4-STAT; STAT6B; STAT6C'], 'inference': ['alignment:Splign:2.1.0'], 'number': ['12']}\n"
     ]
    }
   ],
   "source": [
    "print(record4.features[14].qualifiers)\n",
    "print(record4.features[15].qualifiers)\n",
    "print(record4.features[16].qualifiers)\n",
    "print(record4.features[17].qualifiers)\n",
    "print(record4.features[18].qualifiers)\n",
    "print(record4.features[19].qualifiers)\n",
    "print(record4.features[20].qualifiers)\n",
    "print(record4.features[21].qualifiers)\n",
    "print(record4.features[22].qualifiers)\n",
    "print(record4.features[24].qualifiers)"
   ]
  },
  {
   "cell_type": "code",
   "execution_count": 47,
   "id": "699299b1",
   "metadata": {},
   "outputs": [
    {
     "name": "stdout",
     "output_type": "stream",
     "text": [
      "DNA:  ATGCTGACCCCGCCGTTGCTCCTGCTGCTGCCCCTGCTCTCAGCTCTGGTCGCGGCGGCTATCGACG\n",
      "Proteína:  MLTPPLLLLLPLLSALVAAAID\n",
      "DNA:  ATGTCTCTGTGGGGTCTGGTCTCCAAGATGCCCCCAGAAAAAGTGCAGCGGCTCTATGTCGACTTTCCCCAACACCTGCGGCATCTTCTGGGTGACTGGCTGGAGAGCCAGCCCTGGGAGTTCCTGGTCGGCTCCGACGCCTTCTGCTGCAACTTGGCTAGTGCCCTACTTTCAGACACTGTCCAGCACCTTCAGGCCTCGGTGGGAGAGCAGGGGGAGGGGAGCACCATCTTGCAACACATCAGCACCCTTGAGAGCATATATCAGAGGGACCCCCTGAAGCTGGTGGCCACTTTCAGACAAATACTTCAAGGAGAGAAAAAAGCTGTTATGGAACAGTTCCGCCACTTGCCAATGCCTTTCCACTGGAAGCAGGAAGAACTCAAGTTTAAGACAGGCTTGCGGAGGCTGCAGCACCGAGTAGGGGAGATCCACCTTCTCCGAGAAGCCCTGCAGAAGGGGGCTGAGGCTGGCCAAGTGTCTCTGCACAGCTTGATAGAAACTCCTGCTAATGGGACTGGGCCAAGTGAGGCCCTGGCCATGCTACTGCAGGAGACCACTGGAGAGCTAGAGGCAGCCAAAGCCCTAGTGCTGAAGAGGATCCAGATTTGGAAACGGCAGCAGCAGCTGGCAGGGAATGGCGCACCGTTTGAGGAGAGCCTGGCCCCACTCCAGGAGAGGTGTGAAAGCCTGGTGGACATTTATTCCCAGCTACAGCAGGAGGTAGGGGCGGCTGGTGGGGAGCTTGAGCCCAAGACCCGGGCATCGCTGACTGGCCGGCTGGATGAAGTCCTGAGAACCCTCGTCACCAGTTGCTTCCTGGTGGAGAAGCAGCCCCCCCAGGTACTGAAGACTCAGACCAAGTTCCAGGCTGGAGTTCGATTCCTGTTGGGCTTGAGGTTCCTGGGGGCCCCAGCCAAGCCTCCGCTGGTCAGGGCCGACATGGTGACAGAGAAGCAGGCGCGGGAGCTGAGTGTGCCTCAGGGTCCTGGGGCTGGAGCAGAAAGCACTGGAGAAATCATCAACAACACTGTGCCCTTGGAGAACAGCATTCCTGGGAACTGCTGCTCTGCCCTGTTCAAGAACCTGCTTCTCAAGAAGATCAAGCGGTGTGAGCGGAAGGGCACTGAGTCTGTCACAGAGGAGAAGTGCGCTGTGCTCTTCTCTGCCAGCTTCACACTTGGCCCCGGCAAACTCCCCATCCAGCTCCAGGCCCTGTCTCTGCCCCTGGTGGTCATCGTCCATGGCAACCAAGACAACAATGCCAAAGCCACTATCCTGTGGGACAATGCCTTCTCTGAGATGGACCGCGTGCCCTTTGTGGTGGCTGAGCGGGTGCCCTGGGAGAAGATGTGTGAAACTCTGAACCTGAAGTTCATGGCTGAGGTGGGGACCAACCGGGGGCTGCTCCCAGAGCACTTCCTCTTCCTGGCCCAGAAGATCTTCAATGACAACAGCCTCAGTATGGAGGCCTTCCAGCACCGTTCTGTGTCCTGGTCGCAGTTCAACAAGGAGATCCTGCTGGGCCGTGGCTTCACCTTTTGGCAGTGGTTTGATGGTGTCCTGGACCTCACCAAACGCTGTCTCCGGAGCTACTGGTCTGACCGGCTGATCATTGGCTTCATCAGCAAACAGTACGTTACTAGCCTTCTTCTCAATGAGCCCGACGGAACCTTTCTCCTCCGCTTCAGCGACTCAGAGATTGGGGGCATCACCATTGCCCATGTCATCCGGGGCCAGGATGGCTCTCCACAGATAGAGAACATCCAGCCATTCTCTGCCAAAGACCTGTCCATTCGCTCACTGGGGGACCGAATCCGGGATCTTGCTCAGCTCAAAAATCTCTATCCCAAGAAGCCCAAGGATGAGGCTTTCCGGAGCCACTACAAGCCTGAACAGATGGGTAAGGATGGCAGGGGTTATGTCCCAGCTACCATCAAGATGACCGTGGAAAGGGACCAACCACTTCCTACCCCAGAGCTCCAGATGCCTACCATGGTGCCTTCTTATGACCTTGGAATGGCCCCTGATTCCTCCATGAGCATGCAGCTTGGCCCAGATATGGTGCCCCAGGTGTACCCACCACACTCTCACTCCATCCCCCCGTATCAAGGCCTCTCCCCAGAAGAATCAGTCAACGTGTTGTCAGCCTTCCAGGAGCCTCACCTGCAGATGCCCCCCAGCCTGGGCCAGATGAGCCTGCCCTTTGACCAGCCTCACCCCCAGGGCCTGCTGCCGTGCCAGCCTCAGGAGCATGCTGTGTCCAGCCCTGACCCCCTGCTCTGCTCAGATGTGACCATGGTGGAAGACAGCTGCCTGAGCCAGCCAGTGACAGCGTTTCCTCAGGGCACTTGGATTGGTGAAGACATATTCCCTCCTCTGCTGCCTCCCACTGAACAGGACCTCACTAAGCTTCTCCTGGAGGGGCAAGGGGAGTCGGGGGGAGGGTCCTTGGGGGCACAGCCCCTCCTGCAGCCCTCCCACTATGGGCAATCTGGGATCTCAATGTCCCACATGGACCTAAGGGCCAACCCCAGTTGGTGA\n",
      "Proteína:  MSLWGLVSKMPPEKVQRLYVDFPQHLRHLLGDWLESQPWEFLVGSDAFCCNLASALLSDTVQHLQASVGEQGEGSTILQHISTLESIYQRDPLKLVATFRQILQGEKKAVMEQFRHLPMPFHWKQEELKFKTGLRRLQHRVGEIHLLREALQKGAEAGQVSLHSLIETPANGTGPSEALAMLLQETTGELEAAKALVLKRIQIWKRQQQLAGNGAPFEESLAPLQERCESLVDIYSQLQQEVGAAGGELEPKTRASLTGRLDEVLRTLVTSCFLVEKQPPQVLKTQTKFQAGVRFLLGLRFLGAPAKPPLVRADMVTEKQARELSVPQGPGAGAESTGEIINNTVPLENSIPGNCCSALFKNLLLKKIKRCERKGTESVTEEKCAVLFSASFTLGPGKLPIQLQALSLPLVVIVHGNQDNNAKATILWDNAFSEMDRVPFVVAERVPWEKMCETLNLKFMAEVGTNRGLLPEHFLFLAQKIFNDNSLSMEAFQHRSVSWSQFNKEILLGRGFTFWQWFDGVLDLTKRCLRSYWSDRLIIGFISKQYVTSLLLNEPDGTFLLRFSDSEIGGITIAHVIRGQDGSPQIENIQPFSAKDLSIRSLGDRIRDLAQLKNLYPKKPKDEAFRSHYKPEQMGKDGRGYVPATIKMTVERDQPLPTPELQMPTMVPSYDLGMAPDSSMSMQLGPDMVPQVYPPHSHSIPPYQGLSPEESVNVLSAFQEPHLQMPPSLGQMSLPFDQPHPQGLLPCQPQEHAVSSPDPLLCSDVTMVEDSCLSQPVTAFPQGTWIGEDIFPPLLPPTEQDLTKLLLEGQGESGGGSLGAQPLLQPSHYGQSGISMSHMDLRANPSW*\n",
      "DNA:  CTGTGGGGTCATGTCCAAGGCTGACGCCGCCCCCTGCTGACCTGCCTCTGGCATTGCCAGCCCATGGGCTATGGAGCCGACACATCCTGCAGCAGACACTGATGGACGAGGGGCTGCGGCTCGCCCGCCTCGTCTCCCACGACCGCGTGGGCCGCCTCAGCCCCTGTGTGCCTGCGAAGCCACCTCTCGCAGAGTTCGAGGAAGGGCTGCTGGACAGATGTCCTGCCCCAGGACCCCATCCCGCGCTGGTGGAGGGTCGCAGGAGCAGCGTGAAAGTGGAGGCTGAGGCCAGCCGGCAGTGA\n",
      "Proteína:  LWGHVQG*RRPLLTCLWHCQPMGYGADTSCSRH*WTRGCGSPASSPTTAWAASAPVCLRSHLSQSSRKGCWTDVLPQDPIPRWWRVAGAA*KWRLRPAGS\n",
      "DNA:  AGTTCGAGGAAGGGCTGCTGGACAGATGTCCTGCCCCAGGACCCCATCCCGCGCTGGTGGAGGGTCGCAGGAGCAGCGTGAAAGTGGAGGCTGAGGCCAGCCGGCAGTGA\n",
      "Proteína:  SSRKGCWTDVLPQDPIPRWWRVAGAA*KWRLRPAGS\n"
     ]
    }
   ],
   "source": [
    "for i in feat_cds:\n",
    "    coding_dna = record4.features[i].extract(record4.seq)\n",
    "    print(\"DNA: \", coding_dna)\n",
    "    print(\"Proteína: \", coding_dna.translate())"
   ]
  },
  {
   "cell_type": "code",
   "execution_count": 49,
   "id": "79f63913",
   "metadata": {},
   "outputs": [
    {
     "name": "stdout",
     "output_type": "stream",
     "text": [
      "Número de features tipo gene:  3 [1, 6, 35]\n"
     ]
    }
   ],
   "source": [
    "feat_gene = []\n",
    "for j in range(len(record4.features)):\n",
    "    if record4.features[j].type == 'gene':\n",
    "        feat_gene.append(j)\n",
    "print('Número de features tipo gene: ', len(feat_gene), feat_gene)"
   ]
  },
  {
   "cell_type": "code",
   "execution_count": 51,
   "id": "d1cdf8b5-1683-4c49-93fd-fbdfd4b45d2d",
   "metadata": {},
   "outputs": [
    {
     "name": "stdout",
     "output_type": "stream",
     "text": [
      "{'gene': ['LRP1'], 'gene_synonym': ['A2MR; APOER; APR; CD91; IGFBP-3R; IGFBP3R; IGFBP3R1; KPA; LRP; LRP1A; TGFBR5'], 'note': ['LDL receptor related protein 1'], 'db_xref': ['GeneID:4035', 'HGNC:HGNC:6692', 'MIM:107770']}\n",
      "{'gene': ['STAT6'], 'gene_synonym': ['D12S1644; HIES6; IL-4-STAT; STAT6B; STAT6C'], 'note': ['signal transducer and activator of transcription 6'], 'db_xref': ['GeneID:6778', 'HGNC:HGNC:11368', 'MIM:601512']}\n",
      "{'gene': ['NAB2'], 'gene_synonym': ['MADER'], 'note': ['NGFI-A binding protein 2'], 'db_xref': ['GeneID:4665', 'HGNC:HGNC:7627', 'MIM:602381']}\n"
     ]
    }
   ],
   "source": [
    "print(record4.features[1].qualifiers)\n",
    "print(record4.features[6].qualifiers)\n",
    "print(record4.features[35].qualifiers)"
   ]
  },
  {
   "cell_type": "code",
   "execution_count": 53,
   "id": "d6b2f3db-de84-4463-88f8-b2d43e7db881",
   "metadata": {},
   "outputs": [
    {
     "name": "stdout",
     "output_type": "stream",
     "text": [
      "{'gene': ['LRP1'], 'gene_synonym': ['A2MR; APOER; APR; CD91; IGFBP-3R; IGFBP3R; IGFBP3R1; KPA; LRP; LRP1A; TGFBR5'], 'inference': ['similar to AA sequence (same species):RefSeq:NP_002323.2'], 'exception': ['annotated by transcript or proteomic data'], 'note': ['type V tgf-beta receptor; prolow-density lipoprotein receptor-related protein 1; TbetaR-V/LRP-1/IGFBP-3 receptor; alpha-2-macroglobulin receptor; apolipoprotein E receptor; low density lipoprotein receptor-related protein 1'], 'codon_start': ['1'], 'product': ['prolow-density lipoprotein receptor-related protein 1 preproprotein'], 'protein_id': ['NP_002323.2'], 'db_xref': ['CCDS:CCDS8932.1', 'GeneID:4035', 'HGNC:HGNC:6692', 'MIM:107770'], 'translation': ['MLTPPLLLLLPLLSALVAAAIDAPKTCSPKQFACRDQITCISKGWRCDGERDCPDGSDEAPEICPQSKAQRCQPNEHNCLGTELCVPMSRLCNGVQDCMDGSDEGPHCRELQGNCSRLGCQHHCVPTLDGPTCYCNSSFQLQADGKTCKDFDECSVYGTCSQLCTNTDGSFICGCVEGYLLQPDNRSCKAKNEPVDRPPVLLIANSQNILATYLSGAQVSTITPTSTRQTTAMDFSYANETVCWVHVGDSAAQTQLKCARMPGLKGFVDEHTINISLSLHHVEQMAIDWLTGNFYFVDDIDDRIFVCNRNGDTCVTLLDLELYNPKGIALDPAMGKVFFTDYGQIPKVERCDMDGQNRTKLVDSKIVFPHGITLDLVSRLVYWADAYLDYIEVVDYEGKGRQTIIQGILIEHLYGLTVFENYLYATNSDNANAQQKTSVIRVNRFNSTEYQVVTRVDKGGALHIYHQRRQPRVRSHACENDQYGKPGGCSDICLLANSHKARTCRCRSGFSLGSDGKSCKKPEHELFLVYGKGRPGIIRGMDMGAKVPDEHMIPIENLMNPRALDFHAETGFIYFADTTSYLIGRQKIDGTERETILKDGIHNVEGVAVDWMGDNLYWTDDGPKKTISVARLEKAAQTRKTLIEGKMTHPRAIVVDPLNGWMYWTDWEEDPKDSRRGRLERAWMDGSHRDIFVTSKTVLWPNGLSLDIPAGRLYWVDAFYDRIETILLNGTDRKIVYEGPELNHAFGLCHHGNYLFWTEYRSGSVYRLERGVGGAPPTVTLLRSERPPIFEIRMYDAQQQQVGTNKCRVNNGGCSSLCLATPGSRQCACAEDQVLDADGVTCLANPSYVPPPQCQPGEFACANSRCIQERWKCDGDNDCLDNSDEAPALCHQHTCPSDRFKCENNRCIPNRWLCDGDNDCGNSEDESNATCSARTCPPNQFSCASGRCIPISWTCDLDDDCGDRSDESASCAYPTCFPLTQFTCNNGRCININWRCDNDNDCGDNSDEAGCSHSCSSTQFKCNSGRCIPEHWTCDGDNDCGDYSDETHANCTNQATRPPGGCHTDEFQCRLDGLCIPLRWRCDGDTDCMDSSDEKSCEGVTHVCDPSVKFGCKDSARCISKAWVCDGDNDCEDNSDEENCESLACRPPSHPCANNTSVCLPPDKLCDGNDDCGDGSDEGELCDQCSLNNGGCSHNCSVAPGEGIVCSCPLGMELGPDNHTCQIQSYCAKHLKCSQKCDQNKFSVKCSCYEGWVLEPDGESCRSLDPFKPFIIFSNRHEIRRIDLHKGDYSVLVPGLRNTIALDFHLSQSALYWTDVVEDKIYRGKLLDNGALTSFEVVIQYGLATPEGLAVDWIAGNIYWVESNLDQIEVAKLDGTLRTTLLAGDIEHPRAIALDPRDGILFWTDWDASLPRIEAASMSGAGRRTVHRETGSGGWPNGLTVDYLEKRILWIDARSDAIYSARYDGSGHMEVLRGHEFLSHPFAVTLYGGEVYWTDWRTNTLAKANKWTGHNVTVVQRTNTQPFDLQVYHPSRQPMAPNPCEANGGQGPCSHLCLINYNRTVSCACPHLMKLHKDNTTCYEFKKFLLYARQMEIRGVDLDAPYYNYIISFTVPDIDNVTVLDYDAREQRVYWSDVRTQAIKRAFINGTGVETVVSADLPNAHGLAVDWVSRNLFWTSYDTNKKQINVARLDGSFKNAVVQGLEQPHGLVVHPLRGKLYWTDGDNISMANMDGSNRTLLFSGQKGPVGLAIDFPESKLYWISSGNHTINRCNLDGSGLEVIDAMRSQLGKATALAIMGDKLWWADQVSEKMGTCSKADGSGSVVLRNSTTLVMHMKVYDESIQLDHKGTNPCSVNNGDCSQLCLPTSETTRSCMCTAGYSLRSGQQACEGVGSFLLYSVHEGIRGIPLDPNDKSDALVPVSGTSLAVGIDFHAENDTIYWVDMGLSTISRAKRDQTWREDVVTNGIGRVEGIAVDWIAGNIYWTDQGFDVIEVARLNGSFRYVVISQGLDKPRAITVHPEKGYLFWTEWGQYPRIERSRLDGTERVVLVNVSISWPNGISVDYQDGKLYWCDARTDKIERIDLETGENREVVLSSNNMDMFSVSVFEDFIYWSDRTHANGSIKRGSKDNATDSVPLRTGIGVQLKDIKVFNRDRQKGTNVCAVANGGCQQLCLYRGRGQRACACAHGMLAEDGASCREYAGYLLYSERTILKSIHLSDERNLNAPVQPFEDPEHMKNVIALAFDYRAGTSPGTPNRIFFSDIHFGNIQQINDDGSRRITIVENVGSVEGLAYHRGWDTLYWTSYTTSTITRHTVDQTRPGAFERETVITMSGDDHPRAFVLDECQNLMFWTNWNEQHPSIMRAALSGANVLTLIEKDIRTPNGLAIDHRAEKLYFSDATLDKIERCEYDGSHRYVILKSEPVHPFGLAVYGEHIFWTDWVRRAVQRANKHVGSNMKLLRVDIPQQPMGIIAVANDTNSCELSPCRINNGGCQDLCLLTHQGHVNCSCRGGRILQDDLTCRAVNSSCRAQDEFECANGECINFSLTCDGVPHCKDKSDEKPSYCNSRRCKKTFRQCSNGRCVSNMLWCNGADDCGDGSDEIPCNKTACGVGEFRCRDGTCIGNSSRCNQFVDCEDASDEMNCSATDCSSYFRLGVKGVLFQPCERTSLCYAPSWVCDGANDCGDYSDERDCPGVKRPRCPLNYFACPSGRCIPMSWTCDKEDDCEHGEDETHCNKFCSEAQFECQNHRCISKQWLCDGSDDCGDGSDEAAHCEGKTCGPSSFSCPGTHVCVPERWLCDGDKDCADGADESIAAGCLYNSTCDDREFMCQNRQCIPKHFVCDHDRDCADGSDESPECEYPTCGPSEFRCANGRCLSSRQWECDGENDCHDQSDEAPKNPHCTSQEHKCNASSQFLCSSGRCVAEALLCNGQDDCGDSSDERGCHINECLSRKLSGCSQDCEDLKIGFKCRCRPGFRLKDDGRTCADVDECSTTFPCSQRCINTHGSYKCLCVEGYAPRGGDPHSCKAVTDEEPFLIFANRYYLRKLNLDGSNYTLLKQGLNNAVALDFDYREQMIYWTDVTTQGSMIRRMHLNGSNVQVLHRTGLSNPDGLAVDWVGGNLYWCDKGRDTIEVSKLNGAYRTVLVSSGLREPRALVVDVQNGYLYWTDWGDHSLIGRIGMDGSSRSVIVDTKITWPNGLTLDYVTERIYWADAREDYIEFASLDGSNRHVVLSQDIPHIFALTLFEDYVYWTDWETKSINRAHKTTGTNKTLLISTLHRPMDLHVFHALRQPDVPNHPCKVNNGGCSNLCLLSPGGGHKCACPTNFYLGSDGRTCVSNCTASQFVCKNDKCIPFWWKCDTEDDCGDHSDEPPDCPEFKCRPGQFQCSTGICTNPAFICDGDNDCQDNSDEANCDIHVCLPSQFKCTNTNRCIPGIFRCNGQDNCGDGEDERDCPEVTCAPNQFQCSITKRCIPRVWVCDRDNDCVDGSDEPANCTQMTCGVDEFRCKDSGRCIPARWKCDGEDDCGDGSDEPKEECDERTCEPYQFRCKNNRCVPGRWQCDYDNDCGDNSDEESCTPRPCSESEFSCANGRCIAGRWKCDGDHDCADGSDEKDCTPRCDMDQFQCKSGHCIPLRWRCDADADCMDGSDEEACGTGVRTCPLDEFQCNNTLCKPLAWKCDGEDDCGDNSDENPEECARFVCPPNRPFRCKNDRVCLWIGRQCDGTDNCGDGTDEEDCEPPTAHTTHCKDKKEFLCRNQRCLSSSLRCNMFDDCGDGSDEEDCSIDPKLTSCATNASICGDEARCVRTEKAAYCACRSGFHTVPGQPGCQDINECLRFGTCSQLCNNTKGGHLCSCARNFMKTHNTCKAEGSEYQVLYIADDNEIRSLFPGHPHSAYEQAFQGDESVRIDAMDVHVKAGRVYWTNWHTGTISYRSLPPAAPPTTSNRHRRQIDRGVTHLNISGLKMPRGIAIDWVAGNVYWTDSGRDVIEVAQMKGENRKTLISGMIDEPHAIVVDPLRGTMYWSDWGNHPKIETAAMDGTLRETLVQDNIQWPTGLAVDYHNERLYWADAKLSVIGSIRLNGTDPIVAADSKRGLSHPFSIDVFEDYIYGVTYINNRVFKIHKFGHSPLVNLTGGLSHASDVVLYHQHKQPEVTNPCDRKKCEWLCLLSPSGPVCTCPNGKRLDNGTCVPVPSPTPPPDAPRPGTCNLQCFNGGSCFLNARRQPKCRCQPRYTGDKCELDQCWEHCRNGGTCAASPSGMPTCRCPTGFTGPKCTQQVCAGYCANNSTCTVNQGNQPQCRCLPGFLGDRCQYRQCSGYCENFGTCQMAADGSRQCRCTAYFEGSRCEVNKCSRCLEGACVVNKQSGDVTCNCTDGRVAPSCLTCVGHCSNGGSCTMNSKMMPECQCPPHMTGPRCEEHVFSQQQPGHIASILIPLLLLLLLVLVAGVVFWYKRRVQGAKGFQHQRMTNGAMNVEIGNPTYKMYEGGEPDDVGGLLDADFALDPDKPTNFTNPVYATLYMGGHGSRHSLASTDEKRELLGRGPEDEIGDPLA']}\n",
      "{'gene': ['STAT6'], 'gene_synonym': ['D12S1644; HIES6; IL-4-STAT; STAT6B; STAT6C'], 'note': ['isoform 1 is encoded by transcript variant 2; STAT, interleukin4-induced; transcription factor IL-4 STAT; signal transducer and activator of transcription 6, interleukin-4 induced'], 'codon_start': ['1'], 'product': ['signal transducer and activator of transcription 6 isoform 1'], 'protein_id': ['NP_003144.3'], 'db_xref': ['CCDS:CCDS8931.1', 'GeneID:6778', 'LRG:p1', 'HGNC:HGNC:11368', 'MIM:601512'], 'translation': ['MSLWGLVSKMPPEKVQRLYVDFPQHLRHLLGDWLESQPWEFLVGSDAFCCNLASALLSDTVQHLQASVGEQGEGSTILQHISTLESIYQRDPLKLVATFRQILQGEKKAVMEQFRHLPMPFHWKQEELKFKTGLRRLQHRVGEIHLLREALQKGAEAGQVSLHSLIETPANGTGPSEALAMLLQETTGELEAAKALVLKRIQIWKRQQQLAGNGAPFEESLAPLQERCESLVDIYSQLQQEVGAAGGELEPKTRASLTGRLDEVLRTLVTSCFLVEKQPPQVLKTQTKFQAGVRFLLGLRFLGAPAKPPLVRADMVTEKQARELSVPQGPGAGAESTGEIINNTVPLENSIPGNCCSALFKNLLLKKIKRCERKGTESVTEEKCAVLFSASFTLGPGKLPIQLQALSLPLVVIVHGNQDNNAKATILWDNAFSEMDRVPFVVAERVPWEKMCETLNLKFMAEVGTNRGLLPEHFLFLAQKIFNDNSLSMEAFQHRSVSWSQFNKEILLGRGFTFWQWFDGVLDLTKRCLRSYWSDRLIIGFISKQYVTSLLLNEPDGTFLLRFSDSEIGGITIAHVIRGQDGSPQIENIQPFSAKDLSIRSLGDRIRDLAQLKNLYPKKPKDEAFRSHYKPEQMGKDGRGYVPATIKMTVERDQPLPTPELQMPTMVPSYDLGMAPDSSMSMQLGPDMVPQVYPPHSHSIPPYQGLSPEESVNVLSAFQEPHLQMPPSLGQMSLPFDQPHPQGLLPCQPQEHAVSSPDPLLCSDVTMVEDSCLSQPVTAFPQGTWIGEDIFPPLLPPTEQDLTKLLLEGQGESGGGSLGAQPLLQPSHYGQSGISMSHMDLRANPSW']}\n",
      "{'gene': ['NAB2'], 'gene_synonym': ['MADER'], 'inference': ['similar to AA sequence (same species):RefSeq:NP_005958.1'], 'exception': ['annotated by transcript or proteomic data'], 'note': ['isoform 1 is encoded by transcript variant 1; melanoma-associated delayed early response protein; EGR1 binding protein 2'], 'codon_start': ['3'], 'product': ['NGFI-A-binding protein 2 isoform 1'], 'protein_id': ['NP_005958.1'], 'db_xref': ['CCDS:CCDS8930.1', 'GeneID:4665', 'HGNC:HGNC:7627', 'MIM:602381'], 'translation': ['MHRAPSPTAEQPPGGGDSARRTLQPRLKPSARAMALPRTLGELQLYRVLQRANLLSYYETFIQQGGDDVQQLCEAGEEEFLEIMALVGMATKPLHVRRLQKALREWATNPGLFSQPVPAVPVSSIPLFKISETAGTRKGSMSNGHGSPGEKAGSARSFSPKSPLELGEKLSPLPGGPGAGDPRIWPGRSTPESDVGAGGEEEAGSPPFSPPAGGGVPEGTGAGGLAAGGTGGGPDRLEPEMVRMVVESVERIFRSFPRGDAGEVTSLLKLNKKLARSVGHIFEMDDNDSQKEEEIRKYSIIYGRFDSKRREGKQLSLHELTINEAAAQFCMRDNTLLLRRVELFSLSRQVARESTYLSSLKGSRLHPEELGGPPLKKLKQEVGEQSHPEIQQPPPGPESYVPPYRPSLEEDSASLSGESLDGHLQAVGSCPRLTPPPADLPLALPAHGLWSRHILQQTLMDEGLRLARLVSHDRVGRLSPCVPAKPPLAEFEEGLLDRCPAPGPHPALVEGRRSSVKVEAEASRQ']}\n",
      "{'gene': ['NAB2'], 'gene_synonym': ['MADER'], 'inference': ['similar to AA sequence (same species):RefSeq:NP_001317234.1'], 'exception': ['annotated by transcript or proteomic data'], 'note': ['isoform 2 is encoded by transcript variant 2; melanoma-associated delayed early response protein; EGR1 binding protein 2'], 'codon_start': ['3'], 'product': ['NGFI-A-binding protein 2 isoform 2'], 'protein_id': ['NP_001317234.1'], 'db_xref': ['CCDS:CCDS81701.1', 'GeneID:4665', 'HGNC:HGNC:7627', 'MIM:602381'], 'translation': ['MHRAPSPTAEQPPGGGDSARRTLQPRLKPSARAMALPRTLGELQLYRVLQRANLLSYYETFIQQGGDDVQQLCEAGEEEFLEIMALVGMATKPLHVRRLQKALREWATNPGLFSQPVPAVPVSSIPLFKISETAGTRKGSMSNGHGSPGEKAGSARSFSPKSPLELGEKLSPLPGGPGAGDPRIWPGRSTPESDVGAGGEEEAGSPPFSPPAGGGVPEGTGAGGLAAGGTGGGPDRLEPEMVRMVVESVERIFRSFPRGDAGEVTSLLKLNKKLARSVGHIFEMDDNDSQKEEEIRKYSIIYGRFDSKRREGKQLSLHELTINEAAAQFCMRDNTLLLRRVELFSLSRQVARESTYLSSLKGSRLHPEELGGPPLKKLKQEVGEQSHPEIQQPPPGPESYVPPYRPSLEEDSASLSGESLDGHLQEFEEGLLDRCPAPGPHPALVEGRRSSVKVEAEASRQ']}\n"
     ]
    }
   ],
   "source": [
    "print(record4.features[3].qualifiers)\n",
    "print(record4.features[10].qualifiers)\n",
    "print(record4.features[38].qualifiers)\n",
    "print(record4.features[42].qualifiers)"
   ]
  },
  {
   "cell_type": "code",
   "execution_count": null,
   "id": "a67e6b3c-5b8d-4e9a-8a15-f5521055b100",
   "metadata": {},
   "outputs": [],
   "source": []
  }
 ],
 "metadata": {
  "kernelspec": {
   "display_name": "Python 3 (ipykernel)",
   "language": "python",
   "name": "python3"
  },
  "language_info": {
   "codemirror_mode": {
    "name": "ipython",
    "version": 3
   },
   "file_extension": ".py",
   "mimetype": "text/x-python",
   "name": "python",
   "nbconvert_exporter": "python",
   "pygments_lexer": "ipython3",
   "version": "3.11.2"
  }
 },
 "nbformat": 4,
 "nbformat_minor": 5
}
