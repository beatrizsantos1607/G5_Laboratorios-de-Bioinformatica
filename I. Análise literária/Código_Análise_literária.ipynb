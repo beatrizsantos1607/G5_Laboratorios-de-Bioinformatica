{
 "cells": [
  {
   "cell_type": "markdown",
   "metadata": {},
   "source": [
    "## 01) Análise literária: \n",
    "- Definição dos códigos para as pesquisas literárias, uso dos módulos: Bio e habanero."
   ]
  },
  {
   "cell_type": "code",
   "execution_count": 1,
   "metadata": {},
   "outputs": [
    {
     "name": "stdout",
     "output_type": "stream",
     "text": [
      "Requirement already satisfied: Bio in c:\\users\\35191\\anaconda3\\lib\\site-packages (1.6.0)\n",
      "Requirement already satisfied: biopython>=1.80 in c:\\users\\35191\\anaconda3\\lib\\site-packages (from Bio) (1.81)\n",
      "Requirement already satisfied: requests in c:\\users\\35191\\anaconda3\\lib\\site-packages (from Bio) (2.31.0)\n",
      "Requirement already satisfied: tqdm in c:\\users\\35191\\anaconda3\\lib\\site-packages (from Bio) (4.65.0)\n",
      "Requirement already satisfied: mygene in c:\\users\\35191\\anaconda3\\lib\\site-packages (from Bio) (3.2.2)\n",
      "Requirement already satisfied: pandas in c:\\users\\35191\\anaconda3\\lib\\site-packages (from Bio) (1.5.3)\n",
      "Requirement already satisfied: pooch in c:\\users\\35191\\anaconda3\\lib\\site-packages (from Bio) (1.4.0)\n",
      "Requirement already satisfied: gprofiler-official in c:\\users\\35191\\anaconda3\\lib\\site-packages (from Bio) (1.0.0)\n",
      "Requirement already satisfied: numpy in c:\\users\\35191\\anaconda3\\lib\\site-packages (from biopython>=1.80->Bio) (1.24.3)\n",
      "Requirement already satisfied: biothings-client>=0.2.6 in c:\\users\\35191\\anaconda3\\lib\\site-packages (from mygene->Bio) (0.3.1)\n",
      "Requirement already satisfied: python-dateutil>=2.8.1 in c:\\users\\35191\\anaconda3\\lib\\site-packages (from pandas->Bio) (2.8.2)\n",
      "Requirement already satisfied: pytz>=2020.1 in c:\\users\\35191\\anaconda3\\lib\\site-packages (from pandas->Bio) (2022.7)\n",
      "Requirement already satisfied: packaging in c:\\users\\35191\\anaconda3\\lib\\site-packages (from pooch->Bio) (23.0)\n",
      "Requirement already satisfied: appdirs in c:\\users\\35191\\anaconda3\\lib\\site-packages (from pooch->Bio) (1.4.4)\n",
      "Requirement already satisfied: charset-normalizer<4,>=2 in c:\\users\\35191\\anaconda3\\lib\\site-packages (from requests->Bio) (2.0.4)\n",
      "Requirement already satisfied: idna<4,>=2.5 in c:\\users\\35191\\anaconda3\\lib\\site-packages (from requests->Bio) (3.4)\n",
      "Requirement already satisfied: urllib3<3,>=1.21.1 in c:\\users\\35191\\anaconda3\\lib\\site-packages (from requests->Bio) (1.26.16)\n",
      "Requirement already satisfied: certifi>=2017.4.17 in c:\\users\\35191\\anaconda3\\lib\\site-packages (from requests->Bio) (2023.7.22)\n",
      "Requirement already satisfied: colorama in c:\\users\\35191\\anaconda3\\lib\\site-packages (from tqdm->Bio) (0.4.6)\n",
      "Requirement already satisfied: six>=1.5 in c:\\users\\35191\\anaconda3\\lib\\site-packages (from python-dateutil>=2.8.1->pandas->Bio) (1.16.0)\n",
      "Note: you may need to restart the kernel to use updated packages.\n"
     ]
    }
   ],
   "source": [
    "pip install Bio"
   ]
  },
  {
   "cell_type": "code",
   "execution_count": 1,
   "metadata": {},
   "outputs": [],
   "source": [
    "# Função que procura o termo de interesse na database de interesse:\n",
    "from Bio import Entrez\n",
    "Entrez.email = 'A.N.Other@example.com'\n",
    "def buscar_artigos(term, max_artigos):\n",
    "    \"\"\"\n",
    "    Esta função tem como input o termo de busca e como output devolve uma lista de IDs dos artigos encontrados e o nº de artigos encontrados\n",
    "    \"\"\"\n",
    "    links = Entrez.esearch(db=\"pubmed\", retmax = max_artigos, term=term)\t\n",
    "    l = Entrez.read(links)\n",
    "    ids = l.get(\"IdList\")\n",
    "    return {\"Nº de artigos encontrados\": l.get(\"Count\"), \"ID dos artigos\": ids}\n"
   ]
  },
  {
   "cell_type": "code",
   "execution_count": 3,
   "metadata": {},
   "outputs": [
    {
     "name": "stdout",
     "output_type": "stream",
     "text": [
      "Requirement already satisfied: habanero in c:\\users\\35191\\anaconda3\\lib\\site-packages (1.2.3)\n",
      "Requirement already satisfied: requests>=2.7.0 in c:\\users\\35191\\anaconda3\\lib\\site-packages (from habanero) (2.31.0)\n",
      "Requirement already satisfied: tqdm in c:\\users\\35191\\anaconda3\\lib\\site-packages (from habanero) (4.65.0)\n",
      "Requirement already satisfied: charset-normalizer<4,>=2 in c:\\users\\35191\\anaconda3\\lib\\site-packages (from requests>=2.7.0->habanero) (2.0.4)\n",
      "Requirement already satisfied: idna<4,>=2.5 in c:\\users\\35191\\anaconda3\\lib\\site-packages (from requests>=2.7.0->habanero) (3.4)\n",
      "Requirement already satisfied: urllib3<3,>=1.21.1 in c:\\users\\35191\\anaconda3\\lib\\site-packages (from requests>=2.7.0->habanero) (1.26.16)\n",
      "Requirement already satisfied: certifi>=2017.4.17 in c:\\users\\35191\\anaconda3\\lib\\site-packages (from requests>=2.7.0->habanero) (2023.7.22)\n",
      "Requirement already satisfied: colorama in c:\\users\\35191\\anaconda3\\lib\\site-packages (from tqdm->habanero) (0.4.6)\n",
      "Note: you may need to restart the kernel to use updated packages.\n"
     ]
    }
   ],
   "source": [
    "pip install habanero"
   ]
  },
  {
   "cell_type": "code",
   "execution_count": 7,
   "metadata": {},
   "outputs": [],
   "source": [
    "# Função auxiliar para determinar o URL do artigo:\n",
    "from habanero import Crossref \n",
    "def determinar_url(doi):\n",
    "  cr = Crossref()\n",
    "  article = cr.works(ids=\"10.1101/2023.11.20.567899\").get(\"message\")\n",
    "  return article['URL']"
   ]
  },
  {
   "cell_type": "code",
   "execution_count": 9,
   "metadata": {},
   "outputs": [],
   "source": [
    "# Função que retorna o título do artigo, data de publicação, nome dos autores e o URL do documento\n",
    "from Bio import Medline\n",
    "def dados_artigos(ids_art):\n",
    "    \"\"\"\n",
    "    O input é o ID do artigo de interesse e retorna o título do artigo, data de publicação, nome dos autores e o URL do documento\n",
    "    \"\"\"\n",
    "    handle = Entrez.efetch(db=\"pubmed\", id=ids_art, rettype=\"medline\", retmode=\"text\")\n",
    "    lista = Medline.parse(handle)\n",
    "\n",
    "    for r in lista:\n",
    "        print(\"------------------\")\n",
    "        print(\"Título do Artigo:\", r.get(\"TI\"))\n",
    "        print(\"Data de publicação:\", r.get(\"DP\"))\n",
    "        print(\"Autores:\", r.get(\"AU\"))\n",
    "        doi = r.get(\"LID\")\n",
    "\n",
    "        for x,y in enumerate(doi.split()):\n",
    "           if y == \"[doi]\":\n",
    "            print(\"URL:\", determinar_url(doi.split()[x-1]))\n",
    "        print(\"------------------\")\n",
    "    handle.close()"
   ]
  },
  {
   "cell_type": "markdown",
   "metadata": {},
   "source": [
    "#### *Resultados da busca literária para os genes de interesse:*\n",
    "- Genes de busca: IL13, STAT6, IL10 e TGFB1.\n",
    "- A busca foi realizada para 20 artigos para cada gene de interesse.\n",
    "\n",
    "<span style='color: red;'>Os resultados alteram a partir da data de pesquisa.</span>"
   ]
  },
  {
   "cell_type": "code",
   "execution_count": 4,
   "metadata": {},
   "outputs": [],
   "source": [
    "#Termos de pesquisa:\n",
    "terms = [\"IL13\", \"STAT6\", \"IL10\", \"TGFB1\"]"
   ]
  },
  {
   "cell_type": "code",
   "execution_count": 10,
   "metadata": {},
   "outputs": [
    {
     "name": "stdout",
     "output_type": "stream",
     "text": [
      "Pesquisa para o gene IL13 \n",
      " {'Nº de artigos encontrados': '17278', 'ID dos artigos': ['38154627', '38152869', '38150981', '38148813', '38147892', '38145912', '38145351', '38143940', '38142785', '38142780', '38141862', '38141197', '38140869', '38140264', '38137445', '38135676', '38130766', '38127798', '38125743', '38124753']} \n",
      " Pesquisa para o gene STAT6 \n",
      " {'Nº de artigos encontrados': '4311', 'ID dos artigos': ['38144091', '38136901', '38136399', '38134634', '38133747', '38114221', '38112587', '38104875', '38098120', '38095318', '38087324', '38082280', '38079450', '38070062', '38069015', '38062486', '38054829', '38044939', '38026128', '38019126']} \n",
      " Pesquisa para o gene IL10 \n",
      " {'Nº de artigos encontrados': '82674', 'ID dos artigos': ['38156574', '38156384', '38155972', '38155134', '38154763', '38154762', '38154490', '38154347', '38153856', '38153510', '38153396', '38153198', '38152404', '38152266', '38151179', '38150908', '38150744', '38149388', '38149385', '38149209']} \n",
      " Pesquisa para o gene TGFB1 \n",
      " {'Nº de artigos encontrados': '9559', 'ID dos artigos': ['38149583', '38144939', '38134933', '38132522', '38111465', '38107385', '38094507', '38092632', '38074633', '38070752', '38070245', '38068980', '38065378', '38059389', '38054018', '38051951', '38050412', '38048967', '38044379', '38032025']}\n"
     ]
    }
   ],
   "source": [
    "# Resultados das pesquisa de no máximo 20 artigos para cada termo:\n",
    "term1 = buscar_artigos(terms[0], 20)\n",
    "term2 = buscar_artigos(terms[1], 20)\n",
    "term3 = buscar_artigos(terms[2], 20)\n",
    "term4 = buscar_artigos(terms[3], 20)\n",
    "\n",
    "print(\"Pesquisa para o gene {} \\n\".format(terms[0]), term1, \"\\n\",\"Pesquisa para o gene {} \\n\".format(terms[1]),term2, \"\\n\",\"Pesquisa para o gene {} \\n\".format(terms[2]),term3, \"\\n\",\"Pesquisa para o gene {} \\n\".format(terms[3]),term4)"
   ]
  },
  {
   "cell_type": "code",
   "execution_count": 11,
   "metadata": {},
   "outputs": [
    {
     "ename": "HTTPError",
     "evalue": "HTTP Error 400: Bad Request",
     "output_type": "error",
     "traceback": [
      "\u001b[1;31m---------------------------------------------------------------------------\u001b[0m",
      "\u001b[1;31mHTTPError\u001b[0m                                 Traceback (most recent call last)",
      "Cell \u001b[1;32mIn[11], line 2\u001b[0m\n\u001b[0;32m      1\u001b[0m \u001b[38;5;66;03m# Artigos para o gene: IL13\u001b[39;00m\n\u001b[1;32m----> 2\u001b[0m dados_artigos(term1\u001b[38;5;241m.\u001b[39mget(\u001b[38;5;124m\"\u001b[39m\u001b[38;5;124mIds dos artigos definidos\u001b[39m\u001b[38;5;124m\"\u001b[39m))\n",
      "Cell \u001b[1;32mIn[9], line 7\u001b[0m, in \u001b[0;36mdados_artigos\u001b[1;34m(ids_art)\u001b[0m\n\u001b[0;32m      3\u001b[0m \u001b[38;5;28;01mdef\u001b[39;00m \u001b[38;5;21mdados_artigos\u001b[39m(ids_art):\n\u001b[0;32m      4\u001b[0m \u001b[38;5;250m    \u001b[39m\u001b[38;5;124;03m\"\"\"\u001b[39;00m\n\u001b[0;32m      5\u001b[0m \u001b[38;5;124;03m    O input é o ID do artigo de interesse e retorna o título do artigo, data de publicação, nome dos autores e o URL do documento\u001b[39;00m\n\u001b[0;32m      6\u001b[0m \u001b[38;5;124;03m    \"\"\"\u001b[39;00m\n\u001b[1;32m----> 7\u001b[0m     handle \u001b[38;5;241m=\u001b[39m Entrez\u001b[38;5;241m.\u001b[39mefetch(db\u001b[38;5;241m=\u001b[39m\u001b[38;5;124m\"\u001b[39m\u001b[38;5;124mpubmed\u001b[39m\u001b[38;5;124m\"\u001b[39m, \u001b[38;5;28mid\u001b[39m\u001b[38;5;241m=\u001b[39mids_art, rettype\u001b[38;5;241m=\u001b[39m\u001b[38;5;124m\"\u001b[39m\u001b[38;5;124mmedline\u001b[39m\u001b[38;5;124m\"\u001b[39m, retmode\u001b[38;5;241m=\u001b[39m\u001b[38;5;124m\"\u001b[39m\u001b[38;5;124mtext\u001b[39m\u001b[38;5;124m\"\u001b[39m)\n\u001b[0;32m      8\u001b[0m     lista \u001b[38;5;241m=\u001b[39m Medline\u001b[38;5;241m.\u001b[39mparse(handle)\n\u001b[0;32m     10\u001b[0m     \u001b[38;5;28;01mfor\u001b[39;00m r \u001b[38;5;129;01min\u001b[39;00m lista:\n",
      "File \u001b[1;32mc:\\Users\\35191\\anaconda3\\Lib\\site-packages\\Bio\\Entrez\\__init__.py:196\u001b[0m, in \u001b[0;36mefetch\u001b[1;34m(db, **keywords)\u001b[0m\n\u001b[0;32m    194\u001b[0m variables\u001b[38;5;241m.\u001b[39mupdate(keywords)\n\u001b[0;32m    195\u001b[0m request \u001b[38;5;241m=\u001b[39m _build_request(cgi, variables)\n\u001b[1;32m--> 196\u001b[0m \u001b[38;5;28;01mreturn\u001b[39;00m _open(request)\n",
      "File \u001b[1;32mc:\\Users\\35191\\anaconda3\\Lib\\site-packages\\Bio\\Entrez\\__init__.py:594\u001b[0m, in \u001b[0;36m_open\u001b[1;34m(request)\u001b[0m\n\u001b[0;32m    592\u001b[0m \u001b[38;5;28;01mfor\u001b[39;00m i \u001b[38;5;129;01min\u001b[39;00m \u001b[38;5;28mrange\u001b[39m(max_tries):\n\u001b[0;32m    593\u001b[0m     \u001b[38;5;28;01mtry\u001b[39;00m:\n\u001b[1;32m--> 594\u001b[0m         handle \u001b[38;5;241m=\u001b[39m urlopen(request)\n\u001b[0;32m    595\u001b[0m     \u001b[38;5;28;01mexcept\u001b[39;00m HTTPError \u001b[38;5;28;01mas\u001b[39;00m exception:\n\u001b[0;32m    596\u001b[0m         \u001b[38;5;66;03m# Reraise if the final try fails\u001b[39;00m\n\u001b[0;32m    597\u001b[0m         \u001b[38;5;28;01mif\u001b[39;00m i \u001b[38;5;241m>\u001b[39m\u001b[38;5;241m=\u001b[39m max_tries \u001b[38;5;241m-\u001b[39m \u001b[38;5;241m1\u001b[39m:\n",
      "File \u001b[1;32mc:\\Users\\35191\\anaconda3\\Lib\\urllib\\request.py:216\u001b[0m, in \u001b[0;36murlopen\u001b[1;34m(url, data, timeout, cafile, capath, cadefault, context)\u001b[0m\n\u001b[0;32m    214\u001b[0m \u001b[38;5;28;01melse\u001b[39;00m:\n\u001b[0;32m    215\u001b[0m     opener \u001b[38;5;241m=\u001b[39m _opener\n\u001b[1;32m--> 216\u001b[0m \u001b[38;5;28;01mreturn\u001b[39;00m opener\u001b[38;5;241m.\u001b[39mopen(url, data, timeout)\n",
      "File \u001b[1;32mc:\\Users\\35191\\anaconda3\\Lib\\urllib\\request.py:525\u001b[0m, in \u001b[0;36mOpenerDirector.open\u001b[1;34m(self, fullurl, data, timeout)\u001b[0m\n\u001b[0;32m    523\u001b[0m \u001b[38;5;28;01mfor\u001b[39;00m processor \u001b[38;5;129;01min\u001b[39;00m \u001b[38;5;28mself\u001b[39m\u001b[38;5;241m.\u001b[39mprocess_response\u001b[38;5;241m.\u001b[39mget(protocol, []):\n\u001b[0;32m    524\u001b[0m     meth \u001b[38;5;241m=\u001b[39m \u001b[38;5;28mgetattr\u001b[39m(processor, meth_name)\n\u001b[1;32m--> 525\u001b[0m     response \u001b[38;5;241m=\u001b[39m meth(req, response)\n\u001b[0;32m    527\u001b[0m \u001b[38;5;28;01mreturn\u001b[39;00m response\n",
      "File \u001b[1;32mc:\\Users\\35191\\anaconda3\\Lib\\urllib\\request.py:634\u001b[0m, in \u001b[0;36mHTTPErrorProcessor.http_response\u001b[1;34m(self, request, response)\u001b[0m\n\u001b[0;32m    631\u001b[0m \u001b[38;5;66;03m# According to RFC 2616, \"2xx\" code indicates that the client's\u001b[39;00m\n\u001b[0;32m    632\u001b[0m \u001b[38;5;66;03m# request was successfully received, understood, and accepted.\u001b[39;00m\n\u001b[0;32m    633\u001b[0m \u001b[38;5;28;01mif\u001b[39;00m \u001b[38;5;129;01mnot\u001b[39;00m (\u001b[38;5;241m200\u001b[39m \u001b[38;5;241m<\u001b[39m\u001b[38;5;241m=\u001b[39m code \u001b[38;5;241m<\u001b[39m \u001b[38;5;241m300\u001b[39m):\n\u001b[1;32m--> 634\u001b[0m     response \u001b[38;5;241m=\u001b[39m \u001b[38;5;28mself\u001b[39m\u001b[38;5;241m.\u001b[39mparent\u001b[38;5;241m.\u001b[39merror(\n\u001b[0;32m    635\u001b[0m         \u001b[38;5;124m'\u001b[39m\u001b[38;5;124mhttp\u001b[39m\u001b[38;5;124m'\u001b[39m, request, response, code, msg, hdrs)\n\u001b[0;32m    637\u001b[0m \u001b[38;5;28;01mreturn\u001b[39;00m response\n",
      "File \u001b[1;32mc:\\Users\\35191\\anaconda3\\Lib\\urllib\\request.py:563\u001b[0m, in \u001b[0;36mOpenerDirector.error\u001b[1;34m(self, proto, *args)\u001b[0m\n\u001b[0;32m    561\u001b[0m \u001b[38;5;28;01mif\u001b[39;00m http_err:\n\u001b[0;32m    562\u001b[0m     args \u001b[38;5;241m=\u001b[39m (\u001b[38;5;28mdict\u001b[39m, \u001b[38;5;124m'\u001b[39m\u001b[38;5;124mdefault\u001b[39m\u001b[38;5;124m'\u001b[39m, \u001b[38;5;124m'\u001b[39m\u001b[38;5;124mhttp_error_default\u001b[39m\u001b[38;5;124m'\u001b[39m) \u001b[38;5;241m+\u001b[39m orig_args\n\u001b[1;32m--> 563\u001b[0m     \u001b[38;5;28;01mreturn\u001b[39;00m \u001b[38;5;28mself\u001b[39m\u001b[38;5;241m.\u001b[39m_call_chain(\u001b[38;5;241m*\u001b[39margs)\n",
      "File \u001b[1;32mc:\\Users\\35191\\anaconda3\\Lib\\urllib\\request.py:496\u001b[0m, in \u001b[0;36mOpenerDirector._call_chain\u001b[1;34m(self, chain, kind, meth_name, *args)\u001b[0m\n\u001b[0;32m    494\u001b[0m \u001b[38;5;28;01mfor\u001b[39;00m handler \u001b[38;5;129;01min\u001b[39;00m handlers:\n\u001b[0;32m    495\u001b[0m     func \u001b[38;5;241m=\u001b[39m \u001b[38;5;28mgetattr\u001b[39m(handler, meth_name)\n\u001b[1;32m--> 496\u001b[0m     result \u001b[38;5;241m=\u001b[39m func(\u001b[38;5;241m*\u001b[39margs)\n\u001b[0;32m    497\u001b[0m     \u001b[38;5;28;01mif\u001b[39;00m result \u001b[38;5;129;01mis\u001b[39;00m \u001b[38;5;129;01mnot\u001b[39;00m \u001b[38;5;28;01mNone\u001b[39;00m:\n\u001b[0;32m    498\u001b[0m         \u001b[38;5;28;01mreturn\u001b[39;00m result\n",
      "File \u001b[1;32mc:\\Users\\35191\\anaconda3\\Lib\\urllib\\request.py:643\u001b[0m, in \u001b[0;36mHTTPDefaultErrorHandler.http_error_default\u001b[1;34m(self, req, fp, code, msg, hdrs)\u001b[0m\n\u001b[0;32m    642\u001b[0m \u001b[38;5;28;01mdef\u001b[39;00m \u001b[38;5;21mhttp_error_default\u001b[39m(\u001b[38;5;28mself\u001b[39m, req, fp, code, msg, hdrs):\n\u001b[1;32m--> 643\u001b[0m     \u001b[38;5;28;01mraise\u001b[39;00m HTTPError(req\u001b[38;5;241m.\u001b[39mfull_url, code, msg, hdrs, fp)\n",
      "\u001b[1;31mHTTPError\u001b[0m: HTTP Error 400: Bad Request"
     ]
    }
   ],
   "source": [
    "# Artigos para o gene: IL13\n",
    "dados_artigos(term1.get(\"Ids dos artigos definidos\"))"
   ]
  },
  {
   "cell_type": "code",
   "execution_count": null,
   "metadata": {},
   "outputs": [],
   "source": [
    "# Artigos para o gene: STAT6\n",
    "dados_artigos(term2.get(\"Ids dos artigos definidos\"))"
   ]
  },
  {
   "cell_type": "code",
   "execution_count": null,
   "metadata": {},
   "outputs": [],
   "source": [
    "# Artigos para o gene: IL10\n",
    "dados_artigos(term3.get(\"Ids dos artigos definidos\"))"
   ]
  },
  {
   "cell_type": "code",
   "execution_count": null,
   "metadata": {},
   "outputs": [],
   "source": [
    "# Artigos para o gene: TGFB1\n",
    "dados_artigos(term4.get(\"Ids dos artigos definidos\"))"
   ]
  },
  {
   "cell_type": "markdown",
   "metadata": {},
   "source": [
    "## 02) Análise da sequência e das features presentes no NCBI\n",
    "- Dowload dos genes e criação de documentos com as informações obtidas.\n",
    "- Os accesion dos genes:\n",
    "  - TGFB1 : NG_013364\n",
    "  - IL13  : NG_012090\n",
    "  - IL10  : NG_012088\n",
    "  - STAT6 : NG_021272"
   ]
  },
  {
   "cell_type": "code",
   "execution_count": 8,
   "metadata": {},
   "outputs": [],
   "source": [
    "# Função para o dowload do gene\n",
    "from Bio import Entrez\n",
    "from Bio import SeqIO\n",
    "Entrez.email = 'A.N.Other@example.com'\n",
    "def dowload_gene(id_gene : str, name_gene : str):\n",
    "    handle = Entrez.efetch(db=\"nucleotide\", rettype=\"gb\", retmode=\"text\",id= id_gene)\n",
    "    for seq_record in SeqIO.parse(handle, \"gb\"):\n",
    "        SeqIO.write(seq_record, \"{}.gb\".format(name_gene), \"gb\")"
   ]
  },
  {
   "cell_type": "code",
   "execution_count": null,
   "metadata": {},
   "outputs": [],
   "source": [
    "# Dowload dos genes de interesse:\n",
    "dowload_gene(\"NG_013364\", \"TGFB1\")\n",
    "dowload_gene(\"NG_012090\", \"IL13\")\n",
    "dowload_gene(\"NG_012088\", \"IL10\")\n",
    "dowload_gene(\"NG_021272\", \"STAT6\")"
   ]
  },
  {
   "cell_type": "code",
   "execution_count": 1,
   "metadata": {},
   "outputs": [],
   "source": [
    "#Função para fazer download do ficheiro FASTA com as sequências dos genes\n",
    "from Bio import Entrez\n",
    "from Bio import SeqIO\n",
    "Entrez.email = 'A.N.Other@example.com'\n",
    "def download_fasta(gene_id, filename):\n",
    "    try:\n",
    "        handle = Entrez.efetch(db=\"nucleotide\", id=gene_id, rettype=\"fasta\", retmode=\"text\")\n",
    "        with open(filename, \"w\") as out_file:\n",
    "            out_file.write(handle.read())\n",
    "        handle.close()\n",
    "        print(f\"Download do FASTA do gene {gene_id} completado.\")\n",
    "    except Exception as e:\n",
    "        print(f\"Erro: {e}\")\n"
   ]
  },
  {
   "cell_type": "code",
   "execution_count": 2,
   "metadata": {},
   "outputs": [
    {
     "name": "stdout",
     "output_type": "stream",
     "text": [
      "Download do FASTA do gene NG_012090 completado.\n"
     ]
    }
   ],
   "source": [
    "download_fasta('NG_012090', 'IL13.fasta')"
   ]
  },
  {
   "cell_type": "code",
   "execution_count": 3,
   "metadata": {},
   "outputs": [
    {
     "name": "stdout",
     "output_type": "stream",
     "text": [
      "Download do FASTA do gene NG_012088 completado.\n",
      "Download do FASTA do gene NG_021272 completado.\n",
      "Download do FASTA do gene NG_013364 completado.\n"
     ]
    }
   ],
   "source": [
    "download_fasta('NG_012088', 'IL10.fasta')\n",
    "download_fasta('NG_021272', 'STAT6.fasta')\n",
    "download_fasta('NG_013364', 'TGFB1.fasta')"
   ]
  }
 ],
 "metadata": {
  "kernelspec": {
   "display_name": "base",
   "language": "python",
   "name": "python3"
  },
  "language_info": {
   "codemirror_mode": {
    "name": "ipython",
    "version": 3
   },
   "file_extension": ".py",
   "mimetype": "text/x-python",
   "name": "python",
   "nbconvert_exporter": "python",
   "pygments_lexer": "ipython3",
   "version": "3.11.4"
  }
 },
 "nbformat": 4,
 "nbformat_minor": 2
}
